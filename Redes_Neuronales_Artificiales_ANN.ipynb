{
 "cells": [
  {
   "cell_type": "markdown",
   "metadata": {
    "id": "iiDzBoKGwmMZ"
   },
   "source": [
    "# REDES NEURONALES\n",
    "\n",
    "---\n",
    "\n"
   ]
  },
  {
   "cell_type": "markdown",
   "metadata": {
    "id": "GeO2xVqBv1fx"
   },
   "source": [
    "## Introducción"
   ]
  },
  {
   "cell_type": "markdown",
   "metadata": {
    "id": "hhzeF2BVvvi7"
   },
   "source": [
    "\n",
    "\n",
    "En esta actividad vamos a utilizar una red neuronal para clasificar imágenes de prendas de ropa. Para ello, utilizaremos Keras con TensorFlow.\n",
    "\n",
    "El dataset a utilizar es Fashion MNIST, un problema sencillo con imágenes pequeñas de ropa, pero más interesante que el dataset de MNIST. Puedes consultar más información sobre el dataset en [este enlace](https://github.com/zalandoresearch/fashion-mnist).\n",
    "\n",
    "El código utilizado para contestar tiene que quedar claramente reflejado en el Notebook. Puedes crear nuevas celdas si así lo deseas para estructurar tu código y sus salidas. A la hora de entregar el notebook, **asegúrate de que los resultados de ejecutar tu código han quedado guardados**. Por ejemplo, a la hora de entrenar una red neuronal tiene que verse claramente un log de los resultados de cada epoch."
   ]
  },
  {
   "cell_type": "code",
   "execution_count": 2,
   "metadata": {
    "id": "gSHr268SwmMa"
   },
   "outputs": [],
   "source": [
    "import keras\n",
    "from keras.datasets import fashion_mnist\n",
    "from keras.models import Sequential\n",
    "from keras.layers import Dense\n",
    "import tensorflow as tf\n",
    "\n",
    "import os\n",
    "os.environ['TF_CPP_MIN_LOG_LEVEL'] = '2'\n",
    "\n",
    "import matplotlib.pyplot as plt"
   ]
  },
  {
   "cell_type": "markdown",
   "metadata": {
    "id": "zScMKU2OKSPD"
   },
   "source": [
    "En primer lugar vamos a importar el dataset Fashion MNIST (recordad que este es uno de los dataset de entranamiento que estan guardados en keras) que es el que vamos a utilizar en esta actividad:"
   ]
  },
  {
   "cell_type": "code",
   "execution_count": 3,
   "metadata": {
    "id": "4voG2hxxG4h3"
   },
   "outputs": [],
   "source": [
    "mnist = tf.keras.datasets.fashion_mnist"
   ]
  },
  {
   "cell_type": "markdown",
   "metadata": {
    "id": "JphLsCvgKrzb"
   },
   "source": [
    "Llamar a **load_data** en este dataset nos dará dos conjuntos de dos listas, estos serán los valores de entrenamiento y prueba para los gráficos que contienen las prendas de vestir y sus etiquetas.\n",
    "\n",
    "Nota: Aunque en esta actividad lo veis de esta forma, también lo vais a poder encontrar como 4 variables de esta forma: training_images, training_labels, test_images, test_labels = mnist.load_data()"
   ]
  },
  {
   "cell_type": "code",
   "execution_count": 4,
   "metadata": {
    "colab": {
     "base_uri": "https://localhost:8080/"
    },
    "id": "1muD4PHEG4h6",
    "outputId": "2f6beb46-3176-4adf-a64b-6dab9ea81bbe"
   },
   "outputs": [],
   "source": [
    "(training_images, training_labels), (test_images, test_labels) = mnist.load_data()"
   ]
  },
  {
   "cell_type": "markdown",
   "metadata": {
    "id": "ZWGpJqVVLT3Y"
   },
   "source": [
    "Antes de continuar vamos a dar un vistazo a nuestro dataset, para ello vamos a ver una imagen de entrenamiento y su etiqueta o clase."
   ]
  },
  {
   "cell_type": "code",
   "execution_count": 5,
   "metadata": {
    "colab": {
     "base_uri": "https://localhost:8080/",
     "height": 785
    },
    "id": "t5a5PlswG4h8",
    "outputId": "2edeb68d-fcba-4f20-c49a-f80a5c51b012"
   },
   "outputs": [],
   "source": [
    "import numpy as np\n",
    "np.set_printoptions(linewidth=200)\n",
    "import matplotlib.pyplot as plt\n"
   ]
  },
  {
   "cell_type": "code",
   "execution_count": 6,
   "metadata": {},
   "outputs": [
    {
     "name": "stdout",
     "output_type": "stream",
     "text": [
      "Label: 9\n"
     ]
    },
    {
     "data": {
      "text/plain": [
       "<matplotlib.image.AxesImage at 0x1ef85c7d730>"
      ]
     },
     "execution_count": 6,
     "metadata": {},
     "output_type": "execute_result"
    },
    {
     "data": {
      "image/png": "[encoded data removed]",
      "text/plain": [
       "<Figure size 640x480 with 1 Axes>"
      ]
     },
     "metadata": {},
     "output_type": "display_data"
    }
   ],
   "source": [
    "print(\"Label: {}\".format(training_labels[0]))\n",
    "plt.imshow(training_images[0], cmap=\"gray\") # recordad que siempre es preferible trabajar en blanco y negro"
   ]
  },
  {
   "cell_type": "code",
   "execution_count": 7,
   "metadata": {},
   "outputs": [
    {
     "name": "stdout",
     "output_type": "stream",
     "text": [
      "[[  0   0   0   0   0   0   0   0   0   0   0   0   0   0   0   0   0   0   0   0   0   0   0   0   0   0   0   0]\n",
      " [  0   0   0   0   0   0   0   0   0   0   0   0   0   0   0   0   0   0   0   0   0   0   0   0   0   0   0   0]\n",
      " [  0   0   0   0   0   0   0   0   0   0   0   0   0   0   0   0   0   0   0   0   0   0   0   0   0   0   0   0]\n",
      " [  0   0   0   0   0   0   0   0   0   0   0   0   1   0   0  13  73   0   0   1   4   0   0   0   0   1   1   0]\n",
      " [  0   0   0   0   0   0   0   0   0   0   0   0   3   0  36 136 127  62  54   0   0   0   1   3   4   0   0   3]\n",
      " [  0   0   0   0   0   0   0   0   0   0   0   0   6   0 102 204 176 134 144 123  23   0   0   0   0  12  10   0]\n",
      " [  0   0   0   0   0   0   0   0   0   0   0   0   0   0 155 236 207 178 107 156 161 109  64  23  77 130  72  15]\n",
      " [  0   0   0   0   0   0   0   0   0   0   0   1   0  69 207 223 218 216 216 163 127 121 122 146 141  88 172  66]\n",
      " [  0   0   0   0   0   0   0   0   0   1   1   1   0 200 232 232 233 229 223 223 215 213 164 127 123 196 229   0]\n",
      " [  0   0   0   0   0   0   0   0   0   0   0   0   0 183 225 216 223 228 235 227 224 222 224 221 223 245 173   0]\n",
      " [  0   0   0   0   0   0   0   0   0   0   0   0   0 193 228 218 213 198 180 212 210 211 213 223 220 243 202   0]\n",
      " [  0   0   0   0   0   0   0   0   0   1   3   0  12 219 220 212 218 192 169 227 208 218 224 212 226 197 209  52]\n",
      " [  0   0   0   0   0   0   0   0   0   0   6   0  99 244 222 220 218 203 198 221 215 213 222 220 245 119 167  56]\n",
      " [  0   0   0   0   0   0   0   0   0   4   0   0  55 236 228 230 228 240 232 213 218 223 234 217 217 209  92   0]\n",
      " [  0   0   1   4   6   7   2   0   0   0   0   0 237 226 217 223 222 219 222 221 216 223 229 215 218 255  77   0]\n",
      " [  0   3   0   0   0   0   0   0   0  62 145 204 228 207 213 221 218 208 211 218 224 223 219 215 224 244 159   0]\n",
      " [  0   0   0   0  18  44  82 107 189 228 220 222 217 226 200 205 211 230 224 234 176 188 250 248 233 238 215   0]\n",
      " [  0  57 187 208 224 221 224 208 204 214 208 209 200 159 245 193 206 223 255 255 221 234 221 211 220 232 246   0]\n",
      " [  3 202 228 224 221 211 211 214 205 205 205 220 240  80 150 255 229 221 188 154 191 210 204 209 222 228 225   0]\n",
      " [ 98 233 198 210 222 229 229 234 249 220 194 215 217 241  65  73 106 117 168 219 221 215 217 223 223 224 229  29]\n",
      " [ 75 204 212 204 193 205 211 225 216 185 197 206 198 213 240 195 227 245 239 223 218 212 209 222 220 221 230  67]\n",
      " [ 48 203 183 194 213 197 185 190 194 192 202 214 219 221 220 236 225 216 199 206 186 181 177 172 181 205 206 115]\n",
      " [  0 122 219 193 179 171 183 196 204 210 213 207 211 210 200 196 194 191 195 191 198 192 176 156 167 177 210  92]\n",
      " [  0   0  74 189 212 191 175 172 175 181 185 188 189 188 193 198 204 209 210 210 211 188 188 194 192 216 170   0]\n",
      " [  2   0   0   0  66 200 222 237 239 242 246 243 244 221 220 193 191 179 182 182 181 176 166 168  99  58   0   0]\n",
      " [  0   0   0   0   0   0   0  40  61  44  72  41  35   0   0   0   0   0   0   0   0   0   0   0   0   0   0   0]\n",
      " [  0   0   0   0   0   0   0   0   0   0   0   0   0   0   0   0   0   0   0   0   0   0   0   0   0   0   0   0]\n",
      " [  0   0   0   0   0   0   0   0   0   0   0   0   0   0   0   0   0   0   0   0   0   0   0   0   0   0   0   0]]\n"
     ]
    }
   ],
   "source": [
    "print(training_images[0])"
   ]
  },
  {
   "cell_type": "markdown",
   "metadata": {
    "id": "WCJvZx3MLucY"
   },
   "source": [
    "Habréis notado que todos los valores numericos están entre 0 y 255. Si estamos entrenando una red neuronal, una buena practica es transformar todos los valores entre 0 y 1, un proceso llamado \"normalización\" y afortunadamente en Python es fácil normalizar una lista. Lo puedes hacer de esta manera:"
   ]
  },
  {
   "cell_type": "code",
   "execution_count": 8,
   "metadata": {
    "id": "tojL1BmjG4h_"
   },
   "outputs": [],
   "source": [
    "training_images  = training_images / 255.0\n",
    "test_images = test_images / 255.0"
   ]
  },
  {
   "cell_type": "markdown",
   "metadata": {
    "id": "BaqXlSMBwmMg"
   },
   "source": [
    "## 1. Información sobre el dataset"
   ]
  },
  {
   "cell_type": "markdown",
   "metadata": {
    "id": "e0aer8ZZwmMh"
   },
   "source": [
    "Una vez tenemos los datos cargados en memoria, vamos a obtener información sobre los mismos."
   ]
  },
  {
   "cell_type": "markdown",
   "metadata": {
    "id": "E-im9PnEwmMh"
   },
   "source": [
    "**Pregunta 1.1 *(0.25 puntos)*** ¿Cuántas imágenes hay de *training* y de *test*? ¿Qué tamaño tienen las imágenes?"
   ]
  },
  {
   "cell_type": "code",
   "execution_count": 9,
   "metadata": {
    "id": "lvP0Y4SCwmMi"
   },
   "outputs": [
    {
     "name": "stdout",
     "output_type": "stream",
     "text": [
      "Number of images of the train set: 60000\n",
      "Number of images of the test set: 10000\n"
     ]
    }
   ],
   "source": [
    "print(\"Number of images of the train set: {}\".format(len(training_images)))\n",
    "print(\"Number of images of the test set: {}\".format(len(test_images)))"
   ]
  },
  {
   "cell_type": "markdown",
   "metadata": {},
   "source": [
    "Hay un total de 60000 imágenes en el set de entrenamiento y 10000 en el set de test."
   ]
  },
  {
   "cell_type": "code",
   "execution_count": 10,
   "metadata": {},
   "outputs": [
    {
     "data": {
      "text/plain": [
       "28"
      ]
     },
     "execution_count": 10,
     "metadata": {},
     "output_type": "execute_result"
    }
   ],
   "source": [
    "len(training_images[0])"
   ]
  },
  {
   "cell_type": "code",
   "execution_count": 11,
   "metadata": {},
   "outputs": [
    {
     "data": {
      "text/plain": [
       "((60000, 28, 28), (10000, 28, 28))"
      ]
     },
     "execution_count": 11,
     "metadata": {},
     "output_type": "execute_result"
    }
   ],
   "source": [
    "training_images.shape, test_images.shape"
   ]
  },
  {
   "cell_type": "code",
   "execution_count": 12,
   "metadata": {},
   "outputs": [
    {
     "data": {
      "text/plain": [
       "784"
      ]
     },
     "execution_count": 12,
     "metadata": {},
     "output_type": "execute_result"
    }
   ],
   "source": [
    "training_images[0].size"
   ]
  },
  {
   "cell_type": "markdown",
   "metadata": {
    "id": "Xwp5ljFKwmMj"
   },
   "source": [
    "*Podemos observar que las imágenes con las que estamos trabajando tienen dimensiones de 28x28 píxeles, con una totalidad de 784 píxeles por imagen*"
   ]
  },
  {
   "cell_type": "markdown",
   "metadata": {
    "id": "F2LsvfHOwmMk"
   },
   "source": [
    "**Pregunta 1.2 *(0.25 puntos)*** Realizar una exploración de las variables que contienen los datos. Describir en qué consiste un example del dataset (qué información se guarda en cada imagen) y describir qué contiene la información en y."
   ]
  },
  {
   "cell_type": "code",
   "execution_count": 13,
   "metadata": {
    "id": "3W5rzaGxwmMk"
   },
   "outputs": [
    {
     "data": {
      "text/plain": [
       "array([9, 0, 0, ..., 3, 0, 5], dtype=uint8)"
      ]
     },
     "execution_count": 13,
     "metadata": {},
     "output_type": "execute_result"
    }
   ],
   "source": [
    "training_labels"
   ]
  },
  {
   "cell_type": "code",
   "execution_count": 14,
   "metadata": {},
   "outputs": [
    {
     "data": {
      "text/plain": [
       "'Ankle boot'"
      ]
     },
     "execution_count": 14,
     "metadata": {},
     "output_type": "execute_result"
    }
   ],
   "source": [
    "class_names = [\"T-shirt/top\", \"Trouser\", \"Pullover\", \"Dress\", \"Coat\", \"Sandal\", \"Shirt\", \"Sneaker\", \"Bag\", \"Ankle boot\"]\n",
    "class_names[training_labels[0]]"
   ]
  },
  {
   "cell_type": "markdown",
   "metadata": {
    "id": "zaEWKFyvwmMm"
   },
   "source": [
    "*En las etiquetas del conjunto de datos, tanto de entrenamiento como de test, podemos ver qué tipo de prenda contiene cada imagen*"
   ]
  },
  {
   "cell_type": "markdown",
   "metadata": {
    "id": "dI3IAhOQ8zHi"
   },
   "source": [
    "## 2. Creación del Modelo"
   ]
  },
  {
   "cell_type": "markdown",
   "metadata": {
    "id": "yYUWWsszMAKt"
   },
   "source": [
    "Ahora vamos a definir el modelo, pero antes vamos a repasar algunos comandos y conceptos muy útiles:\n",
    "* **Sequential**: Eso define una SECUENCIA de capas en la red neuronal\n",
    "* **Dense**: Añade una capa de neuronas\n",
    "* **Flatten**: ¿Recuerdas cómo eran las imágenes cuando las imprimiste para poder verlas? Un cuadrado, Flatten toma ese cuadrado y lo convierte en un vector de una dimensión.\n",
    "\n",
    "Cada capa de neuronas necesita una función de activación. Normalmente se usa la función relu en las capas intermedias y softmax en la ultima capa (en problemas de clasificación de más de dos items)\n",
    "* **Relu** significa que \"Si X>0 devuelve X, si no, devuelve 0\", así que lo que hace es pasar sólo valores 0 o mayores a la siguiente capa de la red.\n",
    "* **Softmax** toma un conjunto de valores, y escoge el más grande."
   ]
  },
  {
   "cell_type": "markdown",
   "metadata": {
    "id": "QgBW1yE2MwPp"
   },
   "source": [
    " **Pregunta 2.1 (2 puntos)**. Utilizando Keras, y preparando los datos de X e y como fuera necesario, define y entrena una red neuronal que sea capaz de clasificar imágenes de Fashion MNIST con las siguientes características:\n",
    "\n",
    "* Una hidden layer de tamaño 128, utilizando unidades sigmoid\n",
    "Optimizador Adam.\n",
    "* Durante el entrenamiento, la red tiene que mostrar resultados de loss y accuracy por cada epoch.\n",
    "* La red debe entrenar durante 10 epochs y batch size de 64.\n",
    "* La última capa debe de ser una capa softmax.\n",
    "* Tu red tendría que ser capaz de superar fácilmente 80% de accuracy."
   ]
  },
  {
   "cell_type": "markdown",
   "metadata": {},
   "source": [
    "**Normalizamos los datos de validación para mejorar el accuracy del modelo**"
   ]
  },
  {
   "cell_type": "code",
   "execution_count": 15,
   "metadata": {},
   "outputs": [],
   "source": [
    "X_valid, X_train = training_images[:5000], training_images[5000:]\n",
    "y_valid, y_train = training_labels[:5000], training_labels[5000:]"
   ]
  },
  {
   "cell_type": "code",
   "execution_count": 16,
   "metadata": {},
   "outputs": [
    {
     "data": {
      "text/plain": [
       "array([9, 0, 0, ..., 3, 0, 5], dtype=uint8)"
      ]
     },
     "execution_count": 16,
     "metadata": {},
     "output_type": "execute_result"
    }
   ],
   "source": [
    "training_labels"
   ]
  },
  {
   "cell_type": "markdown",
   "metadata": {},
   "source": [
    "#### **Diseñamos la red neuronal**"
   ]
  },
  {
   "cell_type": "code",
   "execution_count": 17,
   "metadata": {
    "id": "aTaD2QXIORwu"
   },
   "outputs": [],
   "source": [
    "model= keras.models.Sequential([\n",
    "    keras.layers.Flatten(input_shape=[len(training_images[0]), len(training_images[1])]),\n",
    "    keras.layers.Dense(128, activation=\"relu\"),\n",
    "    keras.layers.Dense(len(np.unique(training_labels)), activation=\"softmax\")\n",
    "])"
   ]
  },
  {
   "cell_type": "code",
   "execution_count": 18,
   "metadata": {},
   "outputs": [
    {
     "name": "stdout",
     "output_type": "stream",
     "text": [
      "Model: \"sequential\"\n",
      "_________________________________________________________________\n",
      " Layer (type)                Output Shape              Param #   \n",
      "=================================================================\n",
      " flatten (Flatten)           (None, 784)               0         \n",
      "                                                                 \n",
      " dense (Dense)               (None, 128)               100480    \n",
      "                                                                 \n",
      " dense_1 (Dense)             (None, 10)                1290      \n",
      "                                                                 \n",
      "=================================================================\n",
      "Total params: 101,770\n",
      "Trainable params: 101,770\n",
      "Non-trainable params: 0\n",
      "_________________________________________________________________\n"
     ]
    }
   ],
   "source": [
    "model.summary()"
   ]
  },
  {
   "cell_type": "markdown",
   "metadata": {},
   "source": [
    "#### **Compilamos el modelo**"
   ]
  },
  {
   "cell_type": "code",
   "execution_count": 19,
   "metadata": {},
   "outputs": [],
   "source": [
    "model.compile(loss=\"sparse_categorical_crossentropy\",\n",
    "            optimizer= \"adam\",\n",
    "            metrics =[\"accuracy\"])"
   ]
  },
  {
   "cell_type": "markdown",
   "metadata": {},
   "source": [
    "#### **Entrenando y evaluando el modelo**"
   ]
  },
  {
   "cell_type": "code",
   "execution_count": 20,
   "metadata": {},
   "outputs": [
    {
     "name": "stdout",
     "output_type": "stream",
     "text": [
      "Epoch 1/10\n",
      "938/938 [==============================] - 1s 997us/step - loss: 0.5193 - accuracy: 0.8197 - val_loss: 0.3901 - val_accuracy: 0.8630\n",
      "Epoch 2/10\n",
      "938/938 [==============================] - 1s 930us/step - loss: 0.3875 - accuracy: 0.8628 - val_loss: 0.3365 - val_accuracy: 0.8812\n",
      "Epoch 3/10\n",
      "938/938 [==============================] - 1s 915us/step - loss: 0.3505 - accuracy: 0.8737 - val_loss: 0.3222 - val_accuracy: 0.8824\n",
      "Epoch 4/10\n",
      "938/938 [==============================] - 1s 913us/step - loss: 0.3237 - accuracy: 0.8828 - val_loss: 0.2915 - val_accuracy: 0.8884\n",
      "Epoch 5/10\n",
      "938/938 [==============================] - 1s 920us/step - loss: 0.3071 - accuracy: 0.8887 - val_loss: 0.2754 - val_accuracy: 0.8982\n",
      "Epoch 6/10\n",
      "938/938 [==============================] - 1s 981us/step - loss: 0.2925 - accuracy: 0.8939 - val_loss: 0.2679 - val_accuracy: 0.9012\n",
      "Epoch 7/10\n",
      "938/938 [==============================] - 1s 1ms/step - loss: 0.2803 - accuracy: 0.8965 - val_loss: 0.2669 - val_accuracy: 0.9000\n",
      "Epoch 8/10\n",
      "938/938 [==============================] - 1s 1ms/step - loss: 0.2673 - accuracy: 0.9023 - val_loss: 0.2468 - val_accuracy: 0.9118\n",
      "Epoch 9/10\n",
      "938/938 [==============================] - 1s 1ms/step - loss: 0.2595 - accuracy: 0.9058 - val_loss: 0.2502 - val_accuracy: 0.9066\n",
      "Epoch 10/10\n",
      "938/938 [==============================] - 1s 959us/step - loss: 0.2515 - accuracy: 0.9068 - val_loss: 0.2789 - val_accuracy: 0.8972\n"
     ]
    }
   ],
   "source": [
    "history = model.fit(training_images, training_labels, epochs=10, batch_size=64, validation_data=(X_valid, y_valid))"
   ]
  },
  {
   "cell_type": "code",
   "execution_count": 21,
   "metadata": {},
   "outputs": [
    {
     "data": {
      "image/png": "[encoded data removed]",
      "text/plain": [
       "<Figure size 800x500 with 1 Axes>"
      ]
     },
     "metadata": {},
     "output_type": "display_data"
    }
   ],
   "source": [
    "import pandas as pd\n",
    "import matplotlib.pyplot as plt\n",
    "\n",
    "pd.DataFrame(history.history).plot(figsize=(8,5))\n",
    "plt.grid(True)\n",
    "plt.gca().set_ylim(0,1)\n",
    "plt.show()"
   ]
  },
  {
   "cell_type": "markdown",
   "metadata": {
    "id": "Bxr5hTKYOQnK"
   },
   "source": [
    "Para concluir el entrenamiento de la red neuronal, una buena práctica es evaluar el modelo para ver si la precisión de entrenamiento es real\n",
    "\n",
    "**pregunta 2.2 (0.5 puntos)**: Evalúa el modelo con las imágenes y etiquetas test."
   ]
  },
  {
   "cell_type": "code",
   "execution_count": 22,
   "metadata": {},
   "outputs": [
    {
     "name": "stdout",
     "output_type": "stream",
     "text": [
      "313/313 [==============================] - 0s 611us/step - loss: 0.4016 - accuracy: 0.8599\n"
     ]
    },
    {
     "data": {
      "text/plain": [
       "[0.4015773832798004, 0.8598999977111816]"
      ]
     },
     "execution_count": 22,
     "metadata": {},
     "output_type": "execute_result"
    }
   ],
   "source": [
    "model.evaluate(test_images, test_labels)"
   ]
  },
  {
   "cell_type": "markdown",
   "metadata": {
    "id": "ygMVnmSYO83U"
   },
   "source": [
    "\n",
    "## 3: Funcionamiento de las predicción de la red neuronal\n",
    "\n"
   ]
  },
  {
   "cell_type": "markdown",
   "metadata": {
    "id": "lMa-GR0Kvcqh"
   },
   "source": [
    "Ahora vamos a explorar el código con una serie de ejercicios para alcanzar un grado de comprensión mayor sobre las redes neuronales y su entrenamiento.\n",
    "\n",
    "Sigue los siguientes pasos: \n",
    "\n",
    "* Crea una variable llamada **classifications** para construir un clasificador con las imágenes de prueba, para ello puedes utilizar la función predict sobre el conjunto de test\n",
    "* Imprime con la función print la primera entrada en las clasificaciones. \n",
    "\n",
    "**pregunta 3.1 (0.25 puntos)**, el resultado al imprimirlo es un vector de números, \n",
    "* ¿Por qué crees que ocurre esto? ¿Qué representa este vector de números?\n",
    "\n",
    "**pregunta 3.2 (0.25 puntos)**\n",
    "* ¿Cúal es la clase de la primera entrada de la variable **classifications**? La respuesta puede ser un número o su etiqueta/clase equivalente."
   ]
  },
  {
   "cell_type": "code",
   "execution_count": 23,
   "metadata": {},
   "outputs": [
    {
     "name": "stdout",
     "output_type": "stream",
     "text": [
      "313/313 [==============================] - 0s 490us/step\n"
     ]
    }
   ],
   "source": [
    "classificatios = model.predict(test_images)"
   ]
  },
  {
   "cell_type": "code",
   "execution_count": 24,
   "metadata": {
    "id": "b-mL-h4xQhCm"
   },
   "outputs": [
    {
     "data": {
      "text/plain": [
       "array([2.8523502e-07, 2.5689164e-09, 2.5453326e-05, 4.1483427e-06, 2.9091515e-07, 3.1529448e-03, 3.9322586e-05, 1.4762512e-02, 3.9736265e-06, 9.8201114e-01], dtype=float32)"
      ]
     },
     "execution_count": 24,
     "metadata": {},
     "output_type": "execute_result"
    }
   ],
   "source": [
    "classificatios[0]"
   ]
  },
  {
   "cell_type": "markdown",
   "metadata": {
    "id": "pvbVC9gaQhMY"
   },
   "source": [
    "Tu respuesta a la pregunta 3.1 aquí:"
   ]
  },
  {
   "cell_type": "markdown",
   "metadata": {},
   "source": [
    "*La función .predict() de keras aplicada al conjunto de test nos proporciona un array de con las probabilidades de que se trate de una categoría u otra. En este caso podemos observar como la etiqueta más probable es efectivamente la de la etiqueta número 9, \"ankle boot\"*"
   ]
  },
  {
   "cell_type": "markdown",
   "metadata": {
    "id": "oRWo-75tdgv0"
   },
   "source": [
    "Tu respuesta a la pregunta 3.2 aquí:"
   ]
  },
  {
   "cell_type": "code",
   "execution_count": 25,
   "metadata": {},
   "outputs": [],
   "source": [
    "# Hay que tener en cuenta que esta función está pensada para las predicciones del modelo\n",
    "def clase_mas_probable(i):\n",
    "    if i >= 0 and i < 10:\n",
    "        print(\"La clase más probable para la imagen número {} es {} con la etiqueta número {}\".format(i + 1, class_names[list(classificatios[i]).index(max(classificatios[i]))], list(classificatios[i]).index(max(classificatios[i]))))\n",
    "        plt.imshow(training_images[i], cmap=\"gray\")\n",
    "    else:\n",
    "        print(\"Not in the wardrobe\")\n",
    "    "
   ]
  },
  {
   "cell_type": "code",
   "execution_count": 26,
   "metadata": {},
   "outputs": [
    {
     "name": "stdout",
     "output_type": "stream",
     "text": [
      "La clase más probable para la imagen número 1 es Ankle boot con la etiqueta número 9\n"
     ]
    },
    {
     "data": {
      "image/png": "[encoded data removed]",
      "text/plain": [
       "<Figure size 640x480 with 1 Axes>"
      ]
     },
     "metadata": {},
     "output_type": "display_data"
    }
   ],
   "source": [
    "clase_mas_probable(0)"
   ]
  },
  {
   "cell_type": "code",
   "execution_count": 27,
   "metadata": {},
   "outputs": [
    {
     "data": {
      "text/plain": [
       "9"
      ]
     },
     "execution_count": 27,
     "metadata": {},
     "output_type": "execute_result"
    }
   ],
   "source": [
    "test_labels[0]"
   ]
  },
  {
   "cell_type": "code",
   "execution_count": 28,
   "metadata": {},
   "outputs": [
    {
     "data": {
      "text/plain": [
       "['T-shirt/top',\n",
       " 'Trouser',\n",
       " 'Pullover',\n",
       " 'Dress',\n",
       " 'Coat',\n",
       " 'Sandal',\n",
       " 'Shirt',\n",
       " 'Sneaker',\n",
       " 'Bag',\n",
       " 'Ankle boot']"
      ]
     },
     "execution_count": 28,
     "metadata": {},
     "output_type": "execute_result"
    }
   ],
   "source": [
    "class_names"
   ]
  },
  {
   "cell_type": "code",
   "execution_count": 29,
   "metadata": {},
   "outputs": [
    {
     "data": {
      "text/plain": [
       "'Ankle boot'"
      ]
     },
     "execution_count": 29,
     "metadata": {},
     "output_type": "execute_result"
    }
   ],
   "source": [
    "class_names[test_labels[0]]"
   ]
  },
  {
   "cell_type": "markdown",
   "metadata": {
    "id": "hiQ8qAzhRQ4L"
   },
   "source": [
    "## 4: Impacto variar el número de neuronas en las capas ocultas\n",
    "\n",
    "\n",
    "\n"
   ]
  },
  {
   "cell_type": "markdown",
   "metadata": {
    "id": "Lsqive4ivMF9"
   },
   "source": [
    "En este ejercicio vamos a experimentar con nuestra red neuronal cambiando el numero de neuronas por 512 y por 1024. Para ello, utiliza la red neuronal de la pregunta 1, y en su capa oculta cambia las 128 neuronas por:\n",
    "\n",
    "* **512 neuronas en la capa oculta\n",
    "* **1024 neuronas en la capa oculta\n",
    "\n",
    "Entrena la red en ambos casos."
   ]
  },
  {
   "cell_type": "markdown",
   "metadata": {},
   "source": [
    "#### 512 Neuronas"
   ]
  },
  {
   "cell_type": "code",
   "execution_count": 30,
   "metadata": {
    "id": "cdP8ZwuaUV93"
   },
   "outputs": [
    {
     "name": "stdout",
     "output_type": "stream",
     "text": [
      "Epoch 1/10\n",
      "938/938 [==============================] - 4s 4ms/step - loss: 0.4838 - accuracy: 0.8298 - val_loss: 0.3873 - val_accuracy: 0.8592\n",
      "Epoch 2/10\n",
      "938/938 [==============================] - 4s 4ms/step - loss: 0.3604 - accuracy: 0.8696 - val_loss: 0.2891 - val_accuracy: 0.8940\n",
      "Epoch 3/10\n",
      "938/938 [==============================] - 4s 4ms/step - loss: 0.3233 - accuracy: 0.8813 - val_loss: 0.3041 - val_accuracy: 0.8846\n",
      "Epoch 4/10\n",
      "938/938 [==============================] - 4s 4ms/step - loss: 0.2990 - accuracy: 0.8899 - val_loss: 0.2637 - val_accuracy: 0.9038\n",
      "Epoch 5/10\n",
      "938/938 [==============================] - 4s 4ms/step - loss: 0.2807 - accuracy: 0.8966 - val_loss: 0.2596 - val_accuracy: 0.9058\n",
      "Epoch 6/10\n",
      "938/938 [==============================] - 4s 4ms/step - loss: 0.2672 - accuracy: 0.9002 - val_loss: 0.2313 - val_accuracy: 0.9158\n",
      "Epoch 7/10\n",
      "938/938 [==============================] - 4s 4ms/step - loss: 0.2526 - accuracy: 0.9066 - val_loss: 0.2261 - val_accuracy: 0.9172\n",
      "Epoch 8/10\n",
      "938/938 [==============================] - 4s 4ms/step - loss: 0.2422 - accuracy: 0.9094 - val_loss: 0.2234 - val_accuracy: 0.9208\n",
      "Epoch 9/10\n",
      "938/938 [==============================] - 4s 4ms/step - loss: 0.2321 - accuracy: 0.9140 - val_loss: 0.2017 - val_accuracy: 0.9220\n",
      "Epoch 10/10\n",
      "938/938 [==============================] - 4s 4ms/step - loss: 0.2203 - accuracy: 0.9183 - val_loss: 0.1919 - val_accuracy: 0.9270\n"
     ]
    }
   ],
   "source": [
    "model= keras.models.Sequential([\n",
    "    keras.layers.Flatten(input_shape=[len(training_images[0]), len(training_images[1])]),\n",
    "    keras.layers.Dense(512, activation=\"relu\"),\n",
    "    keras.layers.Dense(len(np.unique(training_labels)), activation=\"softmax\")\n",
    "])\n",
    "\n",
    "model.compile(loss=\"sparse_categorical_crossentropy\",\n",
    "            optimizer= \"adam\",\n",
    "            metrics =[\"accuracy\"])\n",
    "\n",
    "history = model.fit(training_images, training_labels, epochs=10, batch_size=64, validation_data=(X_valid, y_valid))"
   ]
  },
  {
   "cell_type": "code",
   "execution_count": 31,
   "metadata": {},
   "outputs": [
    {
     "name": "stdout",
     "output_type": "stream",
     "text": [
      "313/313 [==============================] - 0s 988us/step - loss: 0.3241 - accuracy: 0.8871\n"
     ]
    },
    {
     "data": {
      "text/plain": [
       "[0.32405558228492737, 0.8870999813079834]"
      ]
     },
     "execution_count": 31,
     "metadata": {},
     "output_type": "execute_result"
    }
   ],
   "source": [
    "model.evaluate(test_images, test_labels)"
   ]
  },
  {
   "cell_type": "code",
   "execution_count": 32,
   "metadata": {},
   "outputs": [
    {
     "name": "stdout",
     "output_type": "stream",
     "text": [
      "313/313 [==============================] - 0s 908us/step\n"
     ]
    }
   ],
   "source": [
    "classificatios = model.predict(test_images)"
   ]
  },
  {
   "cell_type": "code",
   "execution_count": 33,
   "metadata": {},
   "outputs": [
    {
     "name": "stdout",
     "output_type": "stream",
     "text": [
      "La clase más probable para la imagen número 1 es Ankle boot con la etiqueta número 9\n"
     ]
    },
    {
     "data": {
      "image/png": "[encoded data removed]",
      "text/plain": [
       "<Figure size 640x480 with 1 Axes>"
      ]
     },
     "metadata": {},
     "output_type": "display_data"
    }
   ],
   "source": [
    "clase_mas_probable(0)"
   ]
  },
  {
   "cell_type": "markdown",
   "metadata": {},
   "source": [
    "#### 1024 Neuronas"
   ]
  },
  {
   "cell_type": "code",
   "execution_count": 34,
   "metadata": {},
   "outputs": [
    {
     "name": "stdout",
     "output_type": "stream",
     "text": [
      "Epoch 1/10\n",
      "938/938 [==============================] - 6s 6ms/step - loss: 0.4727 - accuracy: 0.8324 - val_loss: 0.4272 - val_accuracy: 0.8416\n",
      "Epoch 2/10\n",
      "938/938 [==============================] - 6s 6ms/step - loss: 0.3576 - accuracy: 0.8695 - val_loss: 0.3070 - val_accuracy: 0.8856\n",
      "Epoch 3/10\n",
      "938/938 [==============================] - 6s 7ms/step - loss: 0.3227 - accuracy: 0.8808 - val_loss: 0.2746 - val_accuracy: 0.8980\n",
      "Epoch 4/10\n",
      "938/938 [==============================] - 6s 7ms/step - loss: 0.2940 - accuracy: 0.8906 - val_loss: 0.2808 - val_accuracy: 0.8962\n",
      "Epoch 5/10\n",
      "938/938 [==============================] - 6s 7ms/step - loss: 0.2779 - accuracy: 0.8966 - val_loss: 0.2634 - val_accuracy: 0.9020\n",
      "Epoch 6/10\n",
      "938/938 [==============================] - 6s 7ms/step - loss: 0.2630 - accuracy: 0.9022 - val_loss: 0.2414 - val_accuracy: 0.9102\n",
      "Epoch 7/10\n",
      "938/938 [==============================] - 6s 7ms/step - loss: 0.2481 - accuracy: 0.9068 - val_loss: 0.2277 - val_accuracy: 0.9162\n",
      "Epoch 8/10\n",
      "938/938 [==============================] - 6s 7ms/step - loss: 0.2362 - accuracy: 0.9125 - val_loss: 0.2059 - val_accuracy: 0.9216\n",
      "Epoch 9/10\n",
      "938/938 [==============================] - 6s 7ms/step - loss: 0.2282 - accuracy: 0.9135 - val_loss: 0.2326 - val_accuracy: 0.9104\n",
      "Epoch 10/10\n",
      "938/938 [==============================] - 6s 7ms/step - loss: 0.2170 - accuracy: 0.9186 - val_loss: 0.2035 - val_accuracy: 0.9238\n"
     ]
    }
   ],
   "source": [
    "model= keras.models.Sequential([\n",
    "    keras.layers.Flatten(input_shape=[len(training_images[0]), len(training_images[1])]),\n",
    "    keras.layers.Dense(1024, activation=\"relu\"),\n",
    "    keras.layers.Dense(len(np.unique(training_labels)), activation=\"softmax\")\n",
    "])\n",
    "\n",
    "model.compile(loss=\"sparse_categorical_crossentropy\",\n",
    "            optimizer= \"adam\",\n",
    "            metrics =[\"accuracy\"])\n",
    "\n",
    "history = model.fit(training_images, training_labels, epochs=10, batch_size=64, validation_data=(X_valid, y_valid))"
   ]
  },
  {
   "cell_type": "code",
   "execution_count": 35,
   "metadata": {},
   "outputs": [
    {
     "name": "stdout",
     "output_type": "stream",
     "text": [
      "313/313 [==============================] - 1s 2ms/step - loss: 0.3460 - accuracy: 0.8787\n"
     ]
    },
    {
     "data": {
      "text/plain": [
       "[0.3460221588611603, 0.8787000179290771]"
      ]
     },
     "execution_count": 35,
     "metadata": {},
     "output_type": "execute_result"
    }
   ],
   "source": [
    "model.evaluate(test_images, test_labels)"
   ]
  },
  {
   "cell_type": "code",
   "execution_count": 36,
   "metadata": {},
   "outputs": [
    {
     "name": "stdout",
     "output_type": "stream",
     "text": [
      "313/313 [==============================] - 0s 1ms/step\n"
     ]
    }
   ],
   "source": [
    "classificatios = model.predict(test_images)"
   ]
  },
  {
   "cell_type": "markdown",
   "metadata": {
    "id": "wG0h2HL-Uj93"
   },
   "source": [
    "**pregunta 4.1 (0.5 puntos)**: ¿Cuál es el impacto que tiene la red neuronal? "
   ]
  },
  {
   "cell_type": "markdown",
   "metadata": {
    "id": "AkZYq4xBvnrS"
   },
   "source": [
    "*Podemos observar una ínfima mejora en el modelo y un tiempo de ejecución superior, pasando de tardar 39 segundos a casi 60. No merece la pena aumentar el número de neuronas dentro de la misma capa para este problema en concreto.*"
   ]
  },
  {
   "cell_type": "markdown",
   "metadata": {},
   "source": [
    "Si ahora entrenais el modelo de esta forma (con 512 y 1024 neuronas en la capa oculta) y volveis a ejecutar el predictor guardado en la variable **classifications**, escribir el código del clasificador del ejercicio 1 de nuevo e imprimid el primer objeto guardado en la variable classifications."
   ]
  },
  {
   "cell_type": "code",
   "execution_count": 37,
   "metadata": {
    "id": "RdJHl3V-G4iS"
   },
   "outputs": [
    {
     "name": "stdout",
     "output_type": "stream",
     "text": [
      "La clase más probable para la imagen número 1 es Ankle boot con la etiqueta número 9\n"
     ]
    },
    {
     "data": {
      "image/png": "[encoded data removed]",
      "text/plain": [
       "<Figure size 640x480 with 1 Axes>"
      ]
     },
     "metadata": {},
     "output_type": "display_data"
    }
   ],
   "source": [
    "clase_mas_probable(0)"
   ]
  },
  {
   "cell_type": "markdown",
   "metadata": {
    "id": "b-NpUI9EVkVz"
   },
   "source": [
    "\n",
    "**pregunta 4.2 (0.25 puntos)**: \n",
    "\n",
    "* ¿En qué clase está clasificado ahora la primera prenda de vestir de la variable classifications?\n",
    "\n",
    "**pregunta 4.3 (0.25 puntos)**: \n",
    "\n",
    "* ¿Por qué crees que ha ocurrido esto?"
   ]
  },
  {
   "cell_type": "markdown",
   "metadata": {
    "id": "P3NfwdOGZcAa"
   },
   "source": [
    "Tu respuesta a la pregunta 4.2 aquí:"
   ]
  },
  {
   "cell_type": "markdown",
   "metadata": {},
   "source": [
    "*La primera prenda de vestir la clasifica correctamente como un Ankle boot*"
   ]
  },
  {
   "cell_type": "markdown",
   "metadata": {
    "id": "nFmfpxE1ZcJx"
   },
   "source": [
    "Tu respuesta a la pregunta 4.3 aquí:"
   ]
  },
  {
   "cell_type": "markdown",
   "metadata": {},
   "source": [
    "*Tanto con 512 como 1024 neuronas en la capa oculta podemos ver que el modelo predice que la primera imagen del set de test es un Ankle boot. Esto es así porque con la cantidad y sencillez de los datos con los que estamos trabajando, aumentar el número de nueronas de la capa oculta no mejora practicamente nada el resultado del modelo*"
   ]
  },
  {
   "cell_type": "markdown",
   "metadata": {
    "id": "59eM76O1YekZ"
   },
   "source": [
    "## 5: Capa Flatten\n",
    "\n",
    "\n"
   ]
  },
  {
   "cell_type": "markdown",
   "metadata": {
    "id": "a6LGnSxBu-ww"
   },
   "source": [
    "En este ejercicio vamos a ver que ocurre cuando quitamos la capa flatten, para ello, escribe la red neuronal de la pregunta 1 y no pongas la capa Flatten.\n",
    "\n",
    "**pregunta 5 (0.5 puntos):** ¿Puedes explicar a qué se debe el error que da?"
   ]
  },
  {
   "cell_type": "code",
   "execution_count": 38,
   "metadata": {
    "id": "ecfEVKEuG4iU"
   },
   "outputs": [],
   "source": [
    "# model= keras.models.Sequential([\n",
    "#     # keras.layers.Flatten(input_shape=[len(training_images[0]), len(training_images[1])]),\n",
    "#     keras.layers.Dense(128, activation=\"relu\"),\n",
    "#     keras.layers.Dense(len(np.unique(training_labels)), activation=\"softmax\")\n",
    "# ])\n",
    "\n",
    "# model.compile(loss=\"sparse_categorical_crossentropy\",\n",
    "#             optimizer= \"adam\",\n",
    "#             metrics =[\"accuracy\"])\n",
    "\n",
    "# history = model.fit(training_images, training_labels, epochs=10, batch_size=64, validation_data=(X_valid, y_valid))"
   ]
  },
  {
   "cell_type": "markdown",
   "metadata": {
    "id": "-aNmrkkOZN6D"
   },
   "source": [
    "Tu respuesta a la pregunta 5 aquí:"
   ]
  },
  {
   "cell_type": "markdown",
   "metadata": {},
   "source": [
    "*El modelo fracasa en entrenar con los datos porque la capa de entrada no es unidimensional. Necesitamos .Flatten() para convertir los píxeles de la imagen, que consta de una matriz bidimiensional de 28x28, en otra matriz unidimensional de 784x1*"
   ]
  },
  {
   "cell_type": "markdown",
   "metadata": {
    "id": "f37cIr81ZYJj"
   },
   "source": [
    "## 6: Número de neuronas de la capa de salida\n"
   ]
  },
  {
   "cell_type": "markdown",
   "metadata": {
    "id": "Zk1xYVAQu0wN"
   },
   "source": [
    "Considerad la capa final, la de salida de la red neuronal de la pregunta 1.\n",
    "\n",
    "**pregunta 6.1 (0.25 puntos)**: ¿Por qué son 10 las neuronas de la última capa?\n",
    "\n",
    "**pregunta 6.2 (0.25 puntos)**: ¿Qué pasaría si tuvieras una cantidad diferente a 10? \n",
    "\n",
    "Por ejemplo, intenta entrenar la red con 5, para ello utiliza la red neuronal de la pregunta 1 y cambia a 5 el número de neuronas en la última capa."
   ]
  },
  {
   "cell_type": "code",
   "execution_count": 39,
   "metadata": {
    "id": "FhbZkppYZOCS"
   },
   "outputs": [],
   "source": [
    "# model= keras.models.Sequential([\n",
    "#     keras.layers.Flatten(input_shape=[len(training_images[0]), len(training_images[1])]),\n",
    "#     keras.layers.Dense(128, activation=\"relu\"),\n",
    "#     keras.layers.Dense(5, activation=\"softmax\")\n",
    "# ])\n",
    "\n",
    "# model.compile(loss=\"sparse_categorical_crossentropy\",\n",
    "#             optimizer= \"adam\",\n",
    "#             metrics =[\"accuracy\"])\n",
    "\n",
    "# history = model.fit(training_images, training_labels, epochs=10, batch_size=64, validation_data=(X_valid, y_valid))"
   ]
  },
  {
   "cell_type": "markdown",
   "metadata": {
    "id": "SLsQcq-6aUoD"
   },
   "source": [
    "Tu respuestas a la pregunta 6.1 aquí:"
   ]
  },
  {
   "cell_type": "markdown",
   "metadata": {},
   "source": [
    "*En la capa de salida necesitamos tantas neuronas como clases vayamos a predecir. Por eso al haber 10 clases necesitaremos 10 neuronas*"
   ]
  },
  {
   "cell_type": "markdown",
   "metadata": {
    "id": "J1f_7ZFeaUu6"
   },
   "source": [
    "Tu respuestas a la pregunta 6.2 aquí:"
   ]
  },
  {
   "cell_type": "markdown",
   "metadata": {},
   "source": [
    "*Al tener un número de neuronas diferente al número de clases, el modelo simplemente sería incapaz de entrenar y aprender*"
   ]
  },
  {
   "cell_type": "markdown",
   "metadata": {
    "id": "HNIBCkshaf2y"
   },
   "source": [
    "## 7: Aumento de epoch y su efecto en la red neuronal\n"
   ]
  },
  {
   "cell_type": "markdown",
   "metadata": {
    "id": "Yg8tTqYPuwGc"
   },
   "source": [
    "En este ejercicio vamos a ver el impacto de aumentar los epoch en el entrenamiento. Usando la red neuronal de la pregunta 1:\n",
    "\n",
    "**pregunta 7.1 (0.15 puntos)**\n",
    "* Intentad 15 epoch para su entrenamiento, probablemente obtendras un modelo con una pérdida mucho mejor que el que tiene 5."
   ]
  },
  {
   "cell_type": "code",
   "execution_count": 40,
   "metadata": {
    "id": "Cb5vk_imG4iZ"
   },
   "outputs": [
    {
     "name": "stdout",
     "output_type": "stream",
     "text": [
      "Epoch 1/15\n",
      "938/938 [==============================] - 2s 1ms/step - loss: 0.5225 - accuracy: 0.8188 - val_loss: 0.3892 - val_accuracy: 0.8666\n",
      "Epoch 2/15\n",
      "938/938 [==============================] - 1s 1ms/step - loss: 0.3871 - accuracy: 0.8608 - val_loss: 0.3423 - val_accuracy: 0.8778\n",
      "Epoch 3/15\n",
      "938/938 [==============================] - 1s 1ms/step - loss: 0.3483 - accuracy: 0.8743 - val_loss: 0.3438 - val_accuracy: 0.8720\n",
      "Epoch 4/15\n",
      "938/938 [==============================] - 1s 1ms/step - loss: 0.3227 - accuracy: 0.8839 - val_loss: 0.2986 - val_accuracy: 0.8968\n",
      "Epoch 5/15\n",
      "938/938 [==============================] - 1s 1ms/step - loss: 0.3054 - accuracy: 0.8886 - val_loss: 0.2981 - val_accuracy: 0.8918\n",
      "Epoch 6/15\n",
      "938/938 [==============================] - 1s 1ms/step - loss: 0.2899 - accuracy: 0.8940 - val_loss: 0.2676 - val_accuracy: 0.9046\n",
      "Epoch 7/15\n",
      "938/938 [==============================] - 1s 1ms/step - loss: 0.2784 - accuracy: 0.8981 - val_loss: 0.2505 - val_accuracy: 0.9090\n",
      "Epoch 8/15\n",
      "938/938 [==============================] - 1s 1ms/step - loss: 0.2676 - accuracy: 0.9010 - val_loss: 0.2457 - val_accuracy: 0.9080\n",
      "Epoch 9/15\n",
      "938/938 [==============================] - 1s 1ms/step - loss: 0.2595 - accuracy: 0.9037 - val_loss: 0.2285 - val_accuracy: 0.9168\n",
      "Epoch 10/15\n",
      "938/938 [==============================] - 1s 1ms/step - loss: 0.2488 - accuracy: 0.9081 - val_loss: 0.2351 - val_accuracy: 0.9088\n",
      "Epoch 11/15\n",
      "938/938 [==============================] - 1s 1ms/step - loss: 0.2385 - accuracy: 0.9107 - val_loss: 0.2257 - val_accuracy: 0.9170\n",
      "Epoch 12/15\n",
      "938/938 [==============================] - 1s 1ms/step - loss: 0.2328 - accuracy: 0.9140 - val_loss: 0.2276 - val_accuracy: 0.9108\n",
      "Epoch 13/15\n",
      "938/938 [==============================] - 1s 1ms/step - loss: 0.2262 - accuracy: 0.9161 - val_loss: 0.2018 - val_accuracy: 0.9260\n",
      "Epoch 14/15\n",
      "938/938 [==============================] - 1s 1ms/step - loss: 0.2177 - accuracy: 0.9193 - val_loss: 0.2021 - val_accuracy: 0.9262\n",
      "Epoch 15/15\n",
      "938/938 [==============================] - 1s 1ms/step - loss: 0.2122 - accuracy: 0.9212 - val_loss: 0.2020 - val_accuracy: 0.9234\n",
      "313/313 [==============================] - 0s 801us/step - loss: 0.3466 - accuracy: 0.8783\n"
     ]
    },
    {
     "data": {
      "text/plain": [
       "[0.3466321527957916, 0.8783000111579895]"
      ]
     },
     "execution_count": 40,
     "metadata": {},
     "output_type": "execute_result"
    }
   ],
   "source": [
    "model= keras.models.Sequential([\n",
    "    keras.layers.Flatten(input_shape=[len(training_images[0]), len(training_images[1])]),\n",
    "    keras.layers.Dense(128, activation=\"relu\"),\n",
    "    keras.layers.Dense(len(np.unique(training_labels)), activation=\"softmax\")\n",
    "])\n",
    "\n",
    "model.compile(loss=\"sparse_categorical_crossentropy\",\n",
    "            optimizer= \"adam\",\n",
    "            metrics =[\"accuracy\"])\n",
    "\n",
    "history = model.fit(training_images, training_labels, epochs=15, batch_size=64, validation_data=(X_valid, y_valid))\n",
    "\n",
    "model.evaluate(test_images, test_labels)"
   ]
  },
  {
   "cell_type": "markdown",
   "metadata": {},
   "source": [
    "**pregunta 7.2 (0.15 puntos)**\n",
    "* Intenta ahora con 30 epoch para su entrenamiento, podrás ver que el valor de la pérdida deja de disminuir, y a veces aumenta."
   ]
  },
  {
   "cell_type": "code",
   "execution_count": 41,
   "metadata": {
    "id": "I9jQ26Gda5cv"
   },
   "outputs": [
    {
     "name": "stdout",
     "output_type": "stream",
     "text": [
      "Epoch 1/30\n",
      "938/938 [==============================] - 2s 2ms/step - loss: 0.5230 - accuracy: 0.8189 - val_loss: 0.4168 - val_accuracy: 0.8526\n",
      "Epoch 2/30\n",
      "938/938 [==============================] - 1s 1ms/step - loss: 0.3893 - accuracy: 0.8611 - val_loss: 0.3350 - val_accuracy: 0.8824\n",
      "Epoch 3/30\n",
      "938/938 [==============================] - 1s 1ms/step - loss: 0.3507 - accuracy: 0.8733 - val_loss: 0.3124 - val_accuracy: 0.8890\n",
      "Epoch 4/30\n",
      "938/938 [==============================] - 1s 1ms/step - loss: 0.3222 - accuracy: 0.8845 - val_loss: 0.3016 - val_accuracy: 0.8908\n",
      "Epoch 5/30\n",
      "938/938 [==============================] - 1s 1ms/step - loss: 0.3044 - accuracy: 0.8894 - val_loss: 0.2844 - val_accuracy: 0.8934\n",
      "Epoch 6/30\n",
      "938/938 [==============================] - 1s 1ms/step - loss: 0.2888 - accuracy: 0.8946 - val_loss: 0.2859 - val_accuracy: 0.8948\n",
      "Epoch 7/30\n",
      "938/938 [==============================] - 1s 1ms/step - loss: 0.2766 - accuracy: 0.8990 - val_loss: 0.2431 - val_accuracy: 0.9086\n",
      "Epoch 8/30\n",
      "938/938 [==============================] - 1s 1ms/step - loss: 0.2666 - accuracy: 0.9017 - val_loss: 0.2380 - val_accuracy: 0.9100\n",
      "Epoch 9/30\n",
      "938/938 [==============================] - 1s 1ms/step - loss: 0.2554 - accuracy: 0.9048 - val_loss: 0.2455 - val_accuracy: 0.9104\n",
      "Epoch 10/30\n",
      "938/938 [==============================] - 1s 1ms/step - loss: 0.2476 - accuracy: 0.9083 - val_loss: 0.2336 - val_accuracy: 0.9178\n",
      "Epoch 11/30\n",
      "938/938 [==============================] - 1s 1ms/step - loss: 0.2378 - accuracy: 0.9122 - val_loss: 0.2140 - val_accuracy: 0.9222\n",
      "Epoch 12/30\n",
      "938/938 [==============================] - 1s 964us/step - loss: 0.2293 - accuracy: 0.9146 - val_loss: 0.2225 - val_accuracy: 0.9202\n",
      "Epoch 13/30\n",
      "938/938 [==============================] - 1s 919us/step - loss: 0.2231 - accuracy: 0.9167 - val_loss: 0.1996 - val_accuracy: 0.9264\n",
      "Epoch 14/30\n",
      "938/938 [==============================] - 1s 952us/step - loss: 0.2174 - accuracy: 0.9194 - val_loss: 0.1992 - val_accuracy: 0.9288\n",
      "Epoch 15/30\n",
      "938/938 [==============================] - 1s 998us/step - loss: 0.2096 - accuracy: 0.9224 - val_loss: 0.1864 - val_accuracy: 0.9324\n",
      "Epoch 16/30\n",
      "938/938 [==============================] - 1s 932us/step - loss: 0.2035 - accuracy: 0.9244 - val_loss: 0.1857 - val_accuracy: 0.9350\n",
      "Epoch 17/30\n",
      "938/938 [==============================] - 1s 899us/step - loss: 0.1984 - accuracy: 0.9255 - val_loss: 0.1944 - val_accuracy: 0.9252\n",
      "Epoch 18/30\n",
      "938/938 [==============================] - 1s 887us/step - loss: 0.1931 - accuracy: 0.9281 - val_loss: 0.1702 - val_accuracy: 0.9370\n",
      "Epoch 19/30\n",
      "938/938 [==============================] - 1s 1ms/step - loss: 0.1885 - accuracy: 0.9303 - val_loss: 0.1723 - val_accuracy: 0.9384\n",
      "Epoch 20/30\n",
      "938/938 [==============================] - 1s 929us/step - loss: 0.1837 - accuracy: 0.9313 - val_loss: 0.1648 - val_accuracy: 0.9388\n",
      "Epoch 21/30\n",
      "938/938 [==============================] - 1s 940us/step - loss: 0.1767 - accuracy: 0.9338 - val_loss: 0.1635 - val_accuracy: 0.9384\n",
      "Epoch 22/30\n",
      "938/938 [==============================] - 1s 899us/step - loss: 0.1731 - accuracy: 0.9350 - val_loss: 0.1689 - val_accuracy: 0.9376\n",
      "Epoch 23/30\n",
      "938/938 [==============================] - 1s 918us/step - loss: 0.1704 - accuracy: 0.9359 - val_loss: 0.1578 - val_accuracy: 0.9390\n",
      "Epoch 24/30\n",
      "938/938 [==============================] - 1s 903us/step - loss: 0.1692 - accuracy: 0.9370 - val_loss: 0.1391 - val_accuracy: 0.9464\n",
      "Epoch 25/30\n",
      "938/938 [==============================] - 1s 899us/step - loss: 0.1604 - accuracy: 0.9404 - val_loss: 0.1444 - val_accuracy: 0.9464\n",
      "Epoch 26/30\n",
      "938/938 [==============================] - 1s 953us/step - loss: 0.1581 - accuracy: 0.9402 - val_loss: 0.1367 - val_accuracy: 0.9478\n",
      "Epoch 27/30\n",
      "938/938 [==============================] - 1s 910us/step - loss: 0.1542 - accuracy: 0.9419 - val_loss: 0.1313 - val_accuracy: 0.9504\n",
      "Epoch 28/30\n",
      "938/938 [==============================] - 1s 902us/step - loss: 0.1509 - accuracy: 0.9435 - val_loss: 0.1354 - val_accuracy: 0.9518\n",
      "Epoch 29/30\n",
      "938/938 [==============================] - 1s 881us/step - loss: 0.1485 - accuracy: 0.9445 - val_loss: 0.1253 - val_accuracy: 0.9558\n",
      "Epoch 30/30\n",
      "938/938 [==============================] - 1s 879us/step - loss: 0.1449 - accuracy: 0.9452 - val_loss: 0.1402 - val_accuracy: 0.9494\n",
      "313/313 [==============================] - 0s 548us/step - loss: 0.3858 - accuracy: 0.8795\n"
     ]
    },
    {
     "data": {
      "text/plain": [
       "[0.38581305742263794, 0.8794999718666077]"
      ]
     },
     "execution_count": 41,
     "metadata": {},
     "output_type": "execute_result"
    }
   ],
   "source": [
    "model= keras.models.Sequential([\n",
    "    keras.layers.Flatten(input_shape=[len(training_images[0]), len(training_images[1])]),\n",
    "    keras.layers.Dense(128, activation=\"relu\"),\n",
    "    keras.layers.Dense(len(np.unique(training_labels)), activation=\"softmax\")\n",
    "])\n",
    "\n",
    "model.compile(loss=\"sparse_categorical_crossentropy\",\n",
    "            optimizer= \"adam\",\n",
    "            metrics =[\"accuracy\"])\n",
    "\n",
    "history = model.fit(training_images, training_labels, epochs=30, batch_size=64, validation_data=(X_valid, y_valid))\n",
    "\n",
    "model.evaluate(test_images, test_labels)"
   ]
  },
  {
   "cell_type": "markdown",
   "metadata": {},
   "source": [
    "**pregunta 7.3 (0.20 puntos)**\n",
    "* ¿Por qué piensas que ocurre esto? Explica tu respuesta y da el nombre de este efecto si lo conoces."
   ]
  },
  {
   "cell_type": "markdown",
   "metadata": {
    "id": "Fs0fjzH4bmSR"
   },
   "source": [
    "Tu respuesta a la pregunta 7.3 aquí:"
   ]
  },
  {
   "cell_type": "markdown",
   "metadata": {},
   "source": [
    "*El accuracy de ambos modelos con 15 y 30 epochs respectivamente, es practicamente el mismo. Lo que sí podemos apreciar es un empeoramiento del coste a mayor número de epochs. Esto puede significar que el modelo está sufriendo de overfitting ya que no hay suficientes datos como para dedicarles tanto tiempo y ciclos de aprendizaje para  aprenderlos.*"
   ]
  },
  {
   "cell_type": "markdown",
   "metadata": {
    "id": "HlIgNG4Yb_N6"
   },
   "source": [
    "## 8: Early stop\n"
   ]
  },
  {
   "cell_type": "markdown",
   "metadata": {
    "id": "06rrpDXqupAA"
   },
   "source": [
    "En el ejercicio anterior, cuando entrenabas con epoch extras, tenías un problema en el que tu pérdida podía cambiar. Puede que te haya llevado un poco de tiempo esperar a que el entrenamiento lo hiciera,  y puede que hayas pensado \"¿no estaría bien si pudiera parar el entrenamiento cuando alcance un valor deseado?\", es decir, una precisión del 85% podría ser suficiente para ti, y si alcanzas eso después de 3 epoch, ¿por qué sentarte a esperar a que termine muchas más épocas? Como cualquier otro programa existen formas de parar la ejecución\n",
    "\n",
    "A partir del código de ejemplo, hacer una nueva función que tenga en cuenta la perdida (loss) y que pueda parar el código para evitar que ocurra el efeto secundario que vimos en el ejercicio 5."
   ]
  },
  {
   "cell_type": "code",
   "execution_count": 42,
   "metadata": {
    "id": "b5UwceFUG4ic"
   },
   "outputs": [],
   "source": [
    "### Ejemplo de código\n",
    "\n",
    "class myCallback(tf.keras.callbacks.Callback):\n",
    "      def on_epoch_end(self, epoch, logs={}):\n",
    "            if(logs.get('accuracy')> 0.85):\n",
    "                  print(\"\\nAlcanzado el 85% de precisión, se cancela el entrenamiento!!\")\n",
    "                  self.model.stop_training = True"
   ]
  },
  {
   "cell_type": "code",
   "execution_count": 43,
   "metadata": {
    "id": "29LSfdOvc270"
   },
   "outputs": [
    {
     "name": "stdout",
     "output_type": "stream",
     "text": [
      "2.12.0\n",
      "Epoch 1/50\n",
      "938/938 [==============================] - 1s 951us/step - loss: 0.5208 - accuracy: 0.8201\n",
      "Epoch 2/50\n",
      "925/938 [============================>.] - ETA: 0s - loss: 0.3914 - accuracy: 0.8614\n",
      "Alcanzado el 85% de precisión, se cancela el entrenamiento!!\n",
      "938/938 [==============================] - 1s 872us/step - loss: 0.3912 - accuracy: 0.8616\n",
      "313/313 [==============================] - 0s 477us/step - loss: 0.4239 - accuracy: 0.8530\n"
     ]
    },
    {
     "data": {
      "text/plain": [
       "[0.42390766739845276, 0.8529999852180481]"
      ]
     },
     "execution_count": 43,
     "metadata": {},
     "output_type": "execute_result"
    }
   ],
   "source": [
    "# import tensorflow as tf\n",
    "print(tf.__version__)\n",
    "\n",
    "### Tu código de la función callback para parar el entrenamiento de la red neuronal al 40% de loss aqui: ###\n",
    "\n",
    "callbacks = myCallback()\n",
    "# mnist = tf.keras.datasets.fashion_mnist\n",
    "# (training_images, training_labels) ,  (test_images, test_labels) = mnist.load_data()\n",
    "\n",
    "# training_images = training_images/255.0\n",
    "# test_images = test_images/255.0\n",
    "\n",
    "\n",
    "model= keras.models.Sequential([\n",
    "    keras.layers.Flatten(input_shape=[len(training_images[0]), len(training_images[1])]),\n",
    "    keras.layers.Dense(128, activation=tf.nn.relu),\n",
    "    keras.layers.Dense(len(np.unique(training_labels)), activation=tf.nn.softmax)\n",
    "])\n",
    "\n",
    "model.compile(loss=\"sparse_categorical_crossentropy\",\n",
    "            optimizer= \"adam\",\n",
    "            metrics =[\"accuracy\"])\n",
    "\n",
    "history = model.fit(training_images, training_labels, epochs=50, batch_size=64, callbacks=[callbacks])\n",
    "\n",
    "model.evaluate(test_images, test_labels)"
   ]
  },
  {
   "cell_type": "markdown",
   "metadata": {
    "id": "0Bjd8wGKccrn"
   },
   "source": [
    "**Ejercicio 8 *(0.75 puntos)***: Completa el siguiente código con una clase callback que una vez alcanzado el 40% de perdida detenga el entrenamiento."
   ]
  },
  {
   "cell_type": "code",
   "execution_count": 44,
   "metadata": {},
   "outputs": [],
   "source": [
    "### Ejemplo de código\n",
    "\n",
    "class myCallback(tf.keras.callbacks.Callback):\n",
    "      def on_epoch_end(self, epoch, logs={}):\n",
    "            if(logs.get('loss') < 0.4):\n",
    "                  print(\"\\nAlcanzado el 40 de pérdida, se cancela el entrenamiento!!\")\n",
    "                  self.model.stop_training = True"
   ]
  },
  {
   "cell_type": "code",
   "execution_count": 45,
   "metadata": {},
   "outputs": [
    {
     "name": "stdout",
     "output_type": "stream",
     "text": [
      "2.12.0\n",
      "Epoch 1/50\n",
      "938/938 [==============================] - 1s 858us/step - loss: 0.5251 - accuracy: 0.8170\n",
      "Epoch 2/50\n",
      "911/938 [============================>.] - ETA: 0s - loss: 0.3844 - accuracy: 0.8629\n",
      "Alcanzado el 40 de pérdida, se cancela el entrenamiento!!\n",
      "938/938 [==============================] - 1s 833us/step - loss: 0.3839 - accuracy: 0.8631\n",
      "313/313 [==============================] - 0s 448us/step - loss: 0.4060 - accuracy: 0.8538\n"
     ]
    },
    {
     "data": {
      "text/plain": [
       "[0.4060156047344208, 0.8537999987602234]"
      ]
     },
     "execution_count": 45,
     "metadata": {},
     "output_type": "execute_result"
    }
   ],
   "source": [
    "# import tensorflow as tf\n",
    "print(tf.__version__)\n",
    "\n",
    "### Tu código de la función callback para parar el entrenamiento de la red neuronal al 40% de loss aqui: ###\n",
    "\n",
    "callbacks = myCallback()\n",
    "# mnist = tf.keras.datasets.fashion_mnist\n",
    "# (training_images, training_labels) ,  (test_images, test_labels) = mnist.load_data()\n",
    "\n",
    "# training_images = training_images/255.0\n",
    "# test_images = test_images/255.0\n",
    "\n",
    "\n",
    "model= keras.models.Sequential([\n",
    "    keras.layers.Flatten(input_shape=[len(training_images[0]), len(training_images[1])]),\n",
    "    keras.layers.Dense(128, activation=tf.nn.relu),\n",
    "    keras.layers.Dense(len(np.unique(training_labels)), activation=tf.nn.softmax)\n",
    "])\n",
    "\n",
    "model.compile(loss=\"sparse_categorical_crossentropy\",\n",
    "            optimizer= \"adam\",\n",
    "            metrics =[\"accuracy\"])\n",
    "\n",
    "history = model.fit(training_images, training_labels, epochs=50, batch_size=64, callbacks=[callbacks])\n",
    "\n",
    "model.evaluate(test_images, test_labels)"
   ]
  },
  {
   "cell_type": "markdown",
   "metadata": {
    "id": "M_yZ9B8gTFqR"
   },
   "source": [
    "## 9. Unidades de activación"
   ]
  },
  {
   "cell_type": "markdown",
   "metadata": {
    "id": "MuVNxmXSTFqR"
   },
   "source": [
    "En este ejercicio, vamos a evaluar la importancia de utilizar las unidades de activación adecuadas. Como hemos visto en clase, funciones de activación como sigmoid han dejado de utilizarse en favor de otras como ReLU.\n",
    "\n",
    "**Ejercicio 9 *(0.75 puntos)***: Partiendo de una red sencilla como la desarrollada en el Trabajo 1, escribir un breve análisis comparando la utilización de unidades sigmoid y ReLU (por ejemplo, se pueden comentar aspectos como velocidad de convergencia, métricas obtenidas...). Explicar por qué pueden darse estas diferencias. Opcionalmente, comparar con otras activaciones disponibles en Keras.\n",
    "\n",
    "*Pista: Usando redes más grandes se hace más sencillo apreciar las diferencias. Es mejor utilizar al menos 3 o 4 capas densas.*"
   ]
  },
  {
   "cell_type": "code",
   "execution_count": 46,
   "metadata": {},
   "outputs": [],
   "source": [
    "### Ejemplo de código\n",
    "\n",
    "class myCallback(tf.keras.callbacks.Callback):\n",
    "      def on_epoch_end(self, epoch, logs={}):\n",
    "            perdida = 0.4\n",
    "            precision = 0.9\n",
    "            if(logs.get('accuracy') > precision and logs.get('loss') < perdida):\n",
    "                  print(\"\\nAlcanzado el {}% de precisión y {}% de pérdida, se cancela el entrenamiento!!\".format(precision, perdida))\n",
    "                  self.model.stop_training = True\n",
    "callbacks = myCallback()"
   ]
  },
  {
   "cell_type": "markdown",
   "metadata": {},
   "source": [
    "#### ReLu"
   ]
  },
  {
   "cell_type": "code",
   "execution_count": 47,
   "metadata": {
    "id": "hoYUajTuTFqS"
   },
   "outputs": [
    {
     "name": "stdout",
     "output_type": "stream",
     "text": [
      "Epoch 1/50\n",
      "938/938 [==============================] - 1s 1ms/step - loss: 0.5171 - accuracy: 0.8150\n",
      "Epoch 2/50\n",
      "938/938 [==============================] - 1s 1ms/step - loss: 0.3735 - accuracy: 0.8624\n",
      "Epoch 3/50\n",
      "938/938 [==============================] - 1s 1ms/step - loss: 0.3317 - accuracy: 0.8777\n",
      "Epoch 4/50\n",
      "938/938 [==============================] - 1s 1ms/step - loss: 0.3098 - accuracy: 0.8851\n",
      "Epoch 5/50\n",
      "938/938 [==============================] - 1s 1ms/step - loss: 0.2950 - accuracy: 0.8888\n",
      "Epoch 6/50\n",
      "938/938 [==============================] - 1s 1ms/step - loss: 0.2820 - accuracy: 0.8949\n",
      "Epoch 7/50\n",
      "938/938 [==============================] - 1s 1ms/step - loss: 0.2691 - accuracy: 0.8991\n",
      "Epoch 8/50\n",
      "910/938 [============================>.] - ETA: 0s - loss: 0.2581 - accuracy: 0.9031\n",
      "Alcanzado el 0.9% de precisión y 0.4% de pérdida, se cancela el entrenamiento!!\n",
      "938/938 [==============================] - 1s 1ms/step - loss: 0.2579 - accuracy: 0.9031\n",
      "313/313 [==============================] - 0s 506us/step - loss: 0.3535 - accuracy: 0.8757\n"
     ]
    },
    {
     "data": {
      "text/plain": [
       "[0.3534862995147705, 0.8756999969482422]"
      ]
     },
     "execution_count": 47,
     "metadata": {},
     "output_type": "execute_result"
    }
   ],
   "source": [
    "model= keras.models.Sequential([\n",
    "    keras.layers.Flatten(input_shape=[len(training_images[0]), len(training_images[1])]),\n",
    "    keras.layers.Dense(128, activation=tf.nn.relu),\n",
    "    keras.layers.Dense(128, activation=tf.nn.relu),\n",
    "    keras.layers.Dense(128, activation=tf.nn.relu),\n",
    "    keras.layers.Dense(128, activation=tf.nn.relu),\n",
    "    keras.layers.Dense(len(np.unique(training_labels)), activation=tf.nn.softmax)\n",
    "])\n",
    "\n",
    "model.compile(loss=\"sparse_categorical_crossentropy\",\n",
    "            optimizer= \"adam\",\n",
    "            metrics =[\"accuracy\"])\n",
    "\n",
    "history = model.fit(training_images, training_labels, epochs=50, batch_size=64, callbacks=[callbacks])\n",
    "\n",
    "model.evaluate(test_images, test_labels)"
   ]
  },
  {
   "cell_type": "markdown",
   "metadata": {},
   "source": [
    "#### Sigmoid"
   ]
  },
  {
   "cell_type": "code",
   "execution_count": 48,
   "metadata": {},
   "outputs": [
    {
     "name": "stdout",
     "output_type": "stream",
     "text": [
      "Epoch 1/50\n",
      "938/938 [==============================] - 1s 1ms/step - loss: 0.8914 - accuracy: 0.6495\n",
      "Epoch 2/50\n",
      "938/938 [==============================] - 1s 1ms/step - loss: 0.4623 - accuracy: 0.8367\n",
      "Epoch 3/50\n",
      "938/938 [==============================] - 1s 1ms/step - loss: 0.3937 - accuracy: 0.8617\n",
      "Epoch 4/50\n",
      "938/938 [==============================] - 1s 1ms/step - loss: 0.3634 - accuracy: 0.8716\n",
      "Epoch 5/50\n",
      "938/938 [==============================] - 1s 1ms/step - loss: 0.3393 - accuracy: 0.8779\n",
      "Epoch 6/50\n",
      "938/938 [==============================] - 1s 1ms/step - loss: 0.3200 - accuracy: 0.8854\n",
      "Epoch 7/50\n",
      "938/938 [==============================] - 1s 1ms/step - loss: 0.3083 - accuracy: 0.8899\n",
      "Epoch 8/50\n",
      "938/938 [==============================] - 1s 1ms/step - loss: 0.2934 - accuracy: 0.8932\n",
      "Epoch 9/50\n",
      "938/938 [==============================] - 1s 1ms/step - loss: 0.2853 - accuracy: 0.8973\n",
      "Epoch 10/50\n",
      "938/938 [==============================] - 1s 1ms/step - loss: 0.2744 - accuracy: 0.9000\n",
      "Epoch 11/50\n",
      "899/938 [===========================>..] - ETA: 0s - loss: 0.2687 - accuracy: 0.9032\n",
      "Alcanzado el 0.9% de precisión y 0.4% de pérdida, se cancela el entrenamiento!!\n",
      "938/938 [==============================] - 1s 1ms/step - loss: 0.2678 - accuracy: 0.9035\n",
      "313/313 [==============================] - 0s 536us/step - loss: 0.3556 - accuracy: 0.8746\n"
     ]
    },
    {
     "data": {
      "text/plain": [
       "[0.3556302785873413, 0.8745999932289124]"
      ]
     },
     "execution_count": 48,
     "metadata": {},
     "output_type": "execute_result"
    }
   ],
   "source": [
    "model= keras.models.Sequential([\n",
    "    keras.layers.Flatten(input_shape=[len(training_images[0]), len(training_images[1])]),\n",
    "    keras.layers.Dense(128, activation=tf.nn.sigmoid),\n",
    "    keras.layers.Dense(128, activation=tf.nn.sigmoid),\n",
    "    keras.layers.Dense(128, activation=tf.nn.sigmoid),\n",
    "    keras.layers.Dense(128, activation=tf.nn.sigmoid),\n",
    "    keras.layers.Dense(len(np.unique(training_labels)), activation=tf.nn.softmax)\n",
    "])\n",
    "\n",
    "model.compile(loss=\"sparse_categorical_crossentropy\",\n",
    "            optimizer= \"adam\",\n",
    "            metrics =[\"accuracy\"])\n",
    "\n",
    "history = model.fit(training_images, training_labels, epochs=50, batch_size=64, callbacks=[callbacks])\n",
    "\n",
    "model.evaluate(test_images, test_labels)"
   ]
  },
  {
   "cell_type": "markdown",
   "metadata": {},
   "source": [
    "#### Tanh"
   ]
  },
  {
   "cell_type": "code",
   "execution_count": 49,
   "metadata": {},
   "outputs": [
    {
     "name": "stdout",
     "output_type": "stream",
     "text": [
      "Epoch 1/50\n",
      "938/938 [==============================] - 11s 11ms/step - loss: 0.5187 - accuracy: 0.8153\n",
      "Epoch 2/50\n",
      "938/938 [==============================] - 10s 11ms/step - loss: 0.3987 - accuracy: 0.8555\n",
      "Epoch 3/50\n",
      "938/938 [==============================] - 10s 11ms/step - loss: 0.3593 - accuracy: 0.8682\n",
      "Epoch 4/50\n",
      "938/938 [==============================] - 11s 12ms/step - loss: 0.3376 - accuracy: 0.8757\n",
      "Epoch 5/50\n",
      "938/938 [==============================] - 11s 11ms/step - loss: 0.3244 - accuracy: 0.8795\n",
      "Epoch 6/50\n",
      "938/938 [==============================] - 10s 11ms/step - loss: 0.3096 - accuracy: 0.8856\n",
      "Epoch 7/50\n",
      "938/938 [==============================] - 10s 11ms/step - loss: 0.3001 - accuracy: 0.8877\n",
      "Epoch 8/50\n",
      "938/938 [==============================] - 10s 10ms/step - loss: 0.2874 - accuracy: 0.8926\n",
      "Epoch 9/50\n",
      "938/938 [==============================] - 10s 11ms/step - loss: 0.2835 - accuracy: 0.8940\n",
      "Epoch 10/50\n",
      "938/938 [==============================] - 11s 11ms/step - loss: 0.2757 - accuracy: 0.8963\n",
      "Epoch 11/50\n",
      "935/938 [============================>.] - ETA: 0s - loss: 0.2674 - accuracy: 0.9001\n",
      "Alcanzado el 0.9% de precisión y 0.4% de pérdida, se cancela el entrenamiento!!\n",
      "938/938 [==============================] - 11s 12ms/step - loss: 0.2674 - accuracy: 0.9000\n",
      "313/313 [==============================] - 1s 3ms/step - loss: 0.3431 - accuracy: 0.8778\n"
     ]
    },
    {
     "data": {
      "text/plain": [
       "[0.34311097860336304, 0.8777999877929688]"
      ]
     },
     "execution_count": 49,
     "metadata": {},
     "output_type": "execute_result"
    }
   ],
   "source": [
    "model= keras.models.Sequential([\n",
    "    keras.layers.Flatten(input_shape=[len(training_images[0]), len(training_images[1])]),\n",
    "    keras.layers.Dense(512, activation=tf.nn.tanh),\n",
    "    keras.layers.Dense(512, activation=tf.nn.tanh),\n",
    "    keras.layers.Dense(512, activation=tf.nn.tanh),\n",
    "    keras.layers.Dense(512, activation=tf.nn.tanh),\n",
    "    keras.layers.Dense(len(np.unique(training_labels)), activation=tf.nn.softmax)\n",
    "])\n",
    "\n",
    "model.compile(loss=\"sparse_categorical_crossentropy\",\n",
    "            optimizer= \"adam\",\n",
    "            metrics =[\"accuracy\"])\n",
    "\n",
    "history = model.fit(training_images, training_labels, epochs=50, batch_size=64, callbacks=[callbacks])\n",
    "\n",
    "model.evaluate(test_images, test_labels)"
   ]
  },
  {
   "cell_type": "markdown",
   "metadata": {},
   "source": [
    "*La comparación entre el uso de la función de activación sigmoid y ReLU en una red neuronal sencilla puede tener varias diferencias en términos de velocidad de convergencia y rendimiento del modelo.*\n",
    "\n",
    "*En general, la función de activación ReLU se ha demostrado que converge más rápido en comparación con la función sigmoid en la mayoría de los casos, esto se debe principalmente a que la función ReLU no presenta saturación en la región positiva, es decir, la derivada nunca es cero, mientras que en sigmoid si hay una región en la que la derivada es muy pequeña (cercana a cero) y puede hacer que el entrenamiento sea lento.*\n",
    "\n",
    "*Además, la función ReLU ha demostrado ser más efectiva en la prevención del sobreajuste (overfitting), lo que se debe a que la función ReLU puede disminuir la correlación entre las neuronas adyacentes, lo que reduce la dependencia de las neuronas entre sí y, por lo tanto, ayuda a prevenir el sobreajuste.*\n",
    "\n",
    "*En términos de rendimiento del modelo, la función ReLU también puede proporcionar resultados ligeramente mejores en comparación con la función sigmoid. Esto se debe a que la función ReLU permite la propagación de gradientes más fuertes en la red neuronal, lo que puede mejorar la capacidad de la red para aprender representaciones abstractas de los datos.*\n",
    "\n",
    "*En cuanto a otras funciones de activación disponibles en Keras, hay muchas opciones diferentes, cada una con sus ventajas y desventajas. Por ejemplo, la función de activación tanh (tangente hiperbólica) se utiliza comúnmente en redes neuronales porque puede proporcionar resultados ligeramente mejores que sigmoid en algunos casos. También hay otras funciones de activación como la función softmax, la función ELU (exponential linear unit) y la función Swish, que han demostrado ser efectivas en diferentes aplicaciones.*\n",
    "\n",
    "*Sintetizando, la función de activación ReLU puede ser una mejor opción en comparación con sigmoid en la mayoría de los casos, debido a su rapidez de convergencia y capacidad para prevenir el sobreajuste. Sin embargo, es importante tener en cuenta que cada función de activación tiene sus propias ventajas y desventajas, y debe seleccionarse de acuerdo con la tarea específica que se esté abordando*"
   ]
  },
  {
   "cell_type": "markdown",
   "metadata": {
    "id": "pu6RbUFKTFqT"
   },
   "source": [
    "## 10. Inicialización de parámetros"
   ]
  },
  {
   "cell_type": "markdown",
   "metadata": {
    "id": "Abmm05UPTFqU"
   },
   "source": [
    "En este ejercicio, vamos a evaluar la importancia de una correcta inicialización de parámetros en una red neuronal.\n",
    "\n",
    "**Ejercicio 10 *(0.75 puntos)***: Partiendo de una red similar a la del ejercicio anterior (usando ya ReLUs), comentar las diferencias que se aprecian en el entrenamiento al utilizar distintas estrategias de inicialización de parámetros. Para ello, inicializar todas las capas con las siguientes estrategias, disponibles en Keras, y analizar sus diferencias:\n",
    "\n",
    "* Inicialización con ceros.\n",
    "* Inicialización con una variable aleatoria normal.\n",
    "* Inicialización con los valores por defecto de Keras para una capa Dense (estrategia *glorot uniform*)"
   ]
  },
  {
   "cell_type": "markdown",
   "metadata": {},
   "source": [
    "#### *Inicialización con ceros*"
   ]
  },
  {
   "cell_type": "code",
   "execution_count": 50,
   "metadata": {},
   "outputs": [],
   "source": [
    "from tensorflow import initializers"
   ]
  },
  {
   "cell_type": "code",
   "execution_count": 51,
   "metadata": {},
   "outputs": [
    {
     "name": "stdout",
     "output_type": "stream",
     "text": [
      "Epoch 1/10\n",
      "938/938 [==============================] - 2s 2ms/step - loss: 2.3027 - accuracy: 0.0965 - val_loss: 2.3024 - val_accuracy: 0.1112\n",
      "Epoch 2/10\n",
      "938/938 [==============================] - 1s 2ms/step - loss: 2.3028 - accuracy: 0.0975 - val_loss: 2.3025 - val_accuracy: 0.1024\n",
      "Epoch 3/10\n",
      "938/938 [==============================] - 2s 2ms/step - loss: 2.3027 - accuracy: 0.0985 - val_loss: 2.3024 - val_accuracy: 0.1112\n",
      "Epoch 4/10\n",
      "938/938 [==============================] - 2s 2ms/step - loss: 2.3027 - accuracy: 0.0981 - val_loss: 2.3027 - val_accuracy: 0.0914\n",
      "Epoch 5/10\n",
      "938/938 [==============================] - 1s 2ms/step - loss: 2.3027 - accuracy: 0.0981 - val_loss: 2.3026 - val_accuracy: 0.1112\n",
      "Epoch 6/10\n",
      "938/938 [==============================] - 1s 2ms/step - loss: 2.3027 - accuracy: 0.0994 - val_loss: 2.3028 - val_accuracy: 0.0976\n",
      "Epoch 7/10\n",
      "938/938 [==============================] - 1s 2ms/step - loss: 2.3027 - accuracy: 0.0993 - val_loss: 2.3028 - val_accuracy: 0.1008\n",
      "Epoch 8/10\n",
      "938/938 [==============================] - 1s 2ms/step - loss: 2.3027 - accuracy: 0.0999 - val_loss: 2.3026 - val_accuracy: 0.0980\n",
      "Epoch 9/10\n",
      "938/938 [==============================] - 1s 2ms/step - loss: 2.3027 - accuracy: 0.0982 - val_loss: 2.3025 - val_accuracy: 0.1112\n",
      "Epoch 10/10\n",
      "938/938 [==============================] - 1s 2ms/step - loss: 2.3027 - accuracy: 0.0991 - val_loss: 2.3027 - val_accuracy: 0.0976\n",
      "313/313 [==============================] - 0s 843us/step - loss: 2.3026 - accuracy: 0.1000\n"
     ]
    },
    {
     "data": {
      "text/plain": [
       "[2.3026108741760254, 0.10000000149011612]"
      ]
     },
     "execution_count": 51,
     "metadata": {},
     "output_type": "execute_result"
    }
   ],
   "source": [
    "model= keras.models.Sequential([\n",
    "    keras.layers.Flatten(input_shape=[28, 28]),\n",
    "\n",
    "    keras.layers.Dense(128,\n",
    "    activation=\"relu\",\n",
    "    kernel_initializer=keras.initializers.zeros,\n",
    "    ),\n",
    "\n",
    "    keras.layers.Dense(10, activation=tf.nn.softmax)\n",
    "])\n",
    "\n",
    "model.compile(loss=\"sparse_categorical_crossentropy\",\n",
    "            optimizer= \"adam\",\n",
    "            metrics =[\"accuracy\"])\n",
    "\n",
    "history = model.fit(training_images, training_labels, epochs=10, batch_size=64, callbacks=[callbacks], validation_data=(X_valid, y_valid))\n",
    "\n",
    "model.evaluate(test_images, test_labels)"
   ]
  },
  {
   "cell_type": "markdown",
   "metadata": {},
   "source": [
    "*Si inicializamos los pesos del modelo a cero, cada neurona en la red neuronal tiene la misma salida, lo que significa que todas las neuronas de la capa oculta se comportarán de la misma manera. Como resultado, cada neurona en la capa oculta producirá la misma salida, lo que significa que todas las neuronas de la capa oculta se comportarán de la misma manera. Esto puede provocar que el modelo no aprenda correctamente y que la precisión sea muy baja.*"
   ]
  },
  {
   "cell_type": "markdown",
   "metadata": {},
   "source": [
    "#### *Inicialización con una variable aleatoria normal.*"
   ]
  },
  {
   "cell_type": "code",
   "execution_count": 52,
   "metadata": {},
   "outputs": [
    {
     "name": "stdout",
     "output_type": "stream",
     "text": [
      "Epoch 1/20\n",
      "938/938 [==============================] - 2s 2ms/step - loss: 0.5196 - accuracy: 0.8186 - val_loss: 0.3827 - val_accuracy: 0.8692\n",
      "Epoch 2/20\n",
      "938/938 [==============================] - 1s 2ms/step - loss: 0.3848 - accuracy: 0.8629 - val_loss: 0.3442 - val_accuracy: 0.8792\n",
      "Epoch 3/20\n",
      "938/938 [==============================] - 1s 2ms/step - loss: 0.3453 - accuracy: 0.8754 - val_loss: 0.3100 - val_accuracy: 0.8932\n",
      "Epoch 4/20\n",
      "938/938 [==============================] - 1s 2ms/step - loss: 0.3211 - accuracy: 0.8828 - val_loss: 0.2917 - val_accuracy: 0.8940\n",
      "Epoch 5/20\n",
      "938/938 [==============================] - 1s 2ms/step - loss: 0.3016 - accuracy: 0.8894 - val_loss: 0.2837 - val_accuracy: 0.8986\n",
      "Epoch 6/20\n",
      "938/938 [==============================] - 1s 2ms/step - loss: 0.2885 - accuracy: 0.8948 - val_loss: 0.2677 - val_accuracy: 0.9006\n",
      "Epoch 7/20\n",
      "938/938 [==============================] - 1s 1ms/step - loss: 0.2747 - accuracy: 0.8985 - val_loss: 0.2824 - val_accuracy: 0.8960\n",
      "Epoch 8/20\n",
      "933/938 [============================>.] - ETA: 0s - loss: 0.2640 - accuracy: 0.9025\n",
      "Alcanzado el 0.9% de precisión y 0.4% de pérdida, se cancela el entrenamiento!!\n",
      "938/938 [==============================] - 1s 2ms/step - loss: 0.2639 - accuracy: 0.9026 - val_loss: 0.2522 - val_accuracy: 0.9058\n",
      "313/313 [==============================] - 0s 820us/step - loss: 0.3526 - accuracy: 0.8750\n"
     ]
    },
    {
     "data": {
      "text/plain": [
       "[0.35260438919067383, 0.875]"
      ]
     },
     "execution_count": 52,
     "metadata": {},
     "output_type": "execute_result"
    }
   ],
   "source": [
    "model= keras.models.Sequential([\n",
    "    keras.layers.Flatten(input_shape=[28, 28]),\n",
    "\n",
    "    keras.layers.Dense(128,\n",
    "    activation=\"relu\",\n",
    "    kernel_initializer=keras.initializers.RandomNormal(mean=0.0, stddev=0.05, seed=None),\n",
    "    ),\n",
    "\n",
    "    keras.layers.Dense(10, activation=tf.nn.softmax)\n",
    "])\n",
    "\n",
    "model.compile(loss=\"sparse_categorical_crossentropy\",\n",
    "            optimizer= \"adam\",\n",
    "            metrics =[\"accuracy\"])\n",
    "\n",
    "history = model.fit(training_images, training_labels, epochs=20, batch_size=64, callbacks=[callbacks], validation_data=(X_valid, y_valid))\n",
    "\n",
    "model.evaluate(test_images, test_labels)"
   ]
  },
  {
   "cell_type": "markdown",
   "metadata": {},
   "source": [
    "*La inicialización con variables aleatorias asigna pesos iniciales aleatorios a cada neurona en la red. Esto puede mejorar significativamente el rendimiento del modelo, ya que cada neurona de la red tiene una salida diferente, lo que permite una mayor capacidad de aprendizaje. Además, la inicialización con variables aleatorias se puede ajustar para garantizar que los pesos iniciales sean de magnitud apropiada para el tamaño de la capa.*"
   ]
  },
  {
   "cell_type": "markdown",
   "metadata": {},
   "source": [
    "#### *Inicialización con los valores por defecto de Keras para una capa Dense (estrategia *glorot uniform*)*"
   ]
  },
  {
   "cell_type": "code",
   "execution_count": 53,
   "metadata": {},
   "outputs": [
    {
     "name": "stdout",
     "output_type": "stream",
     "text": [
      "Epoch 1/20\n",
      "938/938 [==============================] - 2s 2ms/step - loss: 0.5197 - accuracy: 0.8188 - val_loss: 0.4021 - val_accuracy: 0.8592\n",
      "Epoch 2/20\n",
      "938/938 [==============================] - 1s 1ms/step - loss: 0.3844 - accuracy: 0.8625 - val_loss: 0.3546 - val_accuracy: 0.8734\n",
      "Epoch 3/20\n",
      "938/938 [==============================] - 1s 1ms/step - loss: 0.3456 - accuracy: 0.8755 - val_loss: 0.3090 - val_accuracy: 0.8930\n",
      "Epoch 4/20\n",
      "938/938 [==============================] - 1s 1ms/step - loss: 0.3214 - accuracy: 0.8827 - val_loss: 0.3127 - val_accuracy: 0.8832\n",
      "Epoch 5/20\n",
      "938/938 [==============================] - 1s 2ms/step - loss: 0.3046 - accuracy: 0.8878 - val_loss: 0.2957 - val_accuracy: 0.8884\n",
      "Epoch 6/20\n",
      "938/938 [==============================] - 1s 2ms/step - loss: 0.2901 - accuracy: 0.8929 - val_loss: 0.2668 - val_accuracy: 0.9010\n",
      "Epoch 7/20\n",
      "938/938 [==============================] - 1s 1ms/step - loss: 0.2769 - accuracy: 0.8991 - val_loss: 0.2940 - val_accuracy: 0.8906\n",
      "Epoch 8/20\n",
      "916/938 [============================>.] - ETA: 0s - loss: 0.2660 - accuracy: 0.9028\n",
      "Alcanzado el 0.9% de precisión y 0.4% de pérdida, se cancela el entrenamiento!!\n",
      "938/938 [==============================] - 1s 1ms/step - loss: 0.2661 - accuracy: 0.9027 - val_loss: 0.2463 - val_accuracy: 0.9088\n",
      "313/313 [==============================] - 0s 781us/step - loss: 0.3329 - accuracy: 0.8797\n"
     ]
    },
    {
     "data": {
      "text/plain": [
       "[0.3329222500324249, 0.8797000050544739]"
      ]
     },
     "execution_count": 53,
     "metadata": {},
     "output_type": "execute_result"
    }
   ],
   "source": [
    "model= keras.models.Sequential([\n",
    "    keras.layers.Flatten(input_shape=[28, 28]),\n",
    "\n",
    "    keras.layers.Dense(128,\n",
    "    activation=\"relu\",\n",
    "    kernel_initializer=keras.initializers.glorot_uniform,\n",
    "    ),\n",
    "\n",
    "    keras.layers.Dense(10, activation=tf.nn.softmax)\n",
    "])\n",
    "\n",
    "model.compile(loss=\"sparse_categorical_crossentropy\",\n",
    "            optimizer= \"adam\",\n",
    "            metrics =[\"accuracy\"])\n",
    "\n",
    "history = model.fit(training_images, training_labels, epochs=20, batch_size=64, callbacks=[callbacks], validation_data=(X_valid, y_valid))\n",
    "\n",
    "model.evaluate(test_images, test_labels)"
   ]
  },
  {
   "cell_type": "markdown",
   "metadata": {},
   "source": [
    "*La inicialización por defecto utiliza una estrategia de inicialización específica para cada capa de la red neuronal, como la inicialización de Glorot o la inicialización de He. Estas estrategias de inicialización ajustan automáticamente los pesos iniciales para mejorar el rendimiento del modelo. En general, estas estrategias de inicialización por defecto son más efectivas que la inicialización con variables aleatorias y pueden proporcionar una precisión más alta y una convergencia más rápida.*"
   ]
  },
  {
   "cell_type": "markdown",
   "metadata": {
    "id": "NqIAyVWrTFqV"
   },
   "source": [
    "## 11. Optimizadores"
   ]
  },
  {
   "cell_type": "markdown",
   "metadata": {
    "id": "lcYj29hYTFqW"
   },
   "source": [
    "**Ejercicio 11 *(0.75 puntos)***: Partiendo de una red similar a la del ejercicio anterior (utilizando la mejor estrategia de inicialización observada), comparar y analizar las diferencias que se observan  al entrenar con varios de los optimizadores vistos en clase, incluyendo SGD como optimizador básico (se puede explorar el espacio de hiperparámetros de cada optimizador, aunque para optimizadores más avanzados del estilo de adam y RMSprop es buena idea dejar los valores por defecto provistos por Keras)."
   ]
  },
  {
   "cell_type": "markdown",
   "metadata": {},
   "source": [
    "*Para este apartado definiré una función con la configuración de las redes neuronales anteriores para ir variando en cada apartado el optimizador*"
   ]
  },
  {
   "cell_type": "code",
   "execution_count": 54,
   "metadata": {},
   "outputs": [],
   "source": [
    "def nn_optimizers(opt):\n",
    "    model= keras.models.Sequential([\n",
    "        keras.layers.Flatten(input_shape=[len(training_images[0]), len(training_images[1])]),\n",
    "        keras.layers.Dense(128, activation=tf.nn.relu),\n",
    "        keras.layers.Dense(128, activation=tf.nn.relu),\n",
    "        keras.layers.Dense(128, activation=tf.nn.relu),\n",
    "        # keras.layers.Dense(128, activation=tf.nn.relu),\n",
    "        keras.layers.Dense(len(np.unique(training_labels)), activation=tf.nn.softmax)\n",
    "    ])\n",
    "\n",
    "    model.compile(loss=\"sparse_categorical_crossentropy\",\n",
    "                optimizer= opt,\n",
    "                metrics =[\"accuracy\"])\n",
    "\n",
    "    history = model.fit(training_images, training_labels, epochs=20, batch_size=32, callbacks=[callbacks], validation_data=(X_valid, y_valid))\n",
    "\n",
    "    return model.evaluate(test_images, test_labels)"
   ]
  },
  {
   "cell_type": "code",
   "execution_count": 55,
   "metadata": {},
   "outputs": [],
   "source": [
    "optimizadores = [\"SGD\", \"RMSProp\", \"Adam\", \"AdamW\", \"Adadelta\", \"Adagrad\", \"Adamax\", \"Adafactor\", \"Nadam\", \"Ftrl\"]"
   ]
  },
  {
   "cell_type": "markdown",
   "metadata": {},
   "source": [
    "#### SGD"
   ]
  },
  {
   "cell_type": "code",
   "execution_count": 56,
   "metadata": {},
   "outputs": [
    {
     "name": "stdout",
     "output_type": "stream",
     "text": [
      "Epoch 1/20\n",
      "1875/1875 [==============================] - 3s 1ms/step - loss: 0.7460 - accuracy: 0.7505 - val_loss: 0.5024 - val_accuracy: 0.8198\n",
      "Epoch 2/20\n",
      "1875/1875 [==============================] - 2s 1ms/step - loss: 0.4821 - accuracy: 0.8298 - val_loss: 0.4231 - val_accuracy: 0.8556\n",
      "Epoch 3/20\n",
      "1875/1875 [==============================] - 2s 1ms/step - loss: 0.4347 - accuracy: 0.8466 - val_loss: 0.3897 - val_accuracy: 0.8648\n",
      "Epoch 4/20\n",
      "1875/1875 [==============================] - 2s 1ms/step - loss: 0.4053 - accuracy: 0.8551 - val_loss: 0.3774 - val_accuracy: 0.8694\n",
      "Epoch 5/20\n",
      "1875/1875 [==============================] - 2s 1ms/step - loss: 0.3838 - accuracy: 0.8626 - val_loss: 0.3542 - val_accuracy: 0.8746\n",
      "Epoch 6/20\n",
      "1875/1875 [==============================] - 2s 1ms/step - loss: 0.3669 - accuracy: 0.8686 - val_loss: 0.3478 - val_accuracy: 0.8780\n",
      "Epoch 7/20\n",
      "1875/1875 [==============================] - 2s 1ms/step - loss: 0.3540 - accuracy: 0.8730 - val_loss: 0.3305 - val_accuracy: 0.8802\n",
      "Epoch 8/20\n",
      "1875/1875 [==============================] - 2s 1ms/step - loss: 0.3404 - accuracy: 0.8764 - val_loss: 0.3383 - val_accuracy: 0.8830\n",
      "Epoch 9/20\n",
      "1875/1875 [==============================] - 2s 1ms/step - loss: 0.3311 - accuracy: 0.8807 - val_loss: 0.3019 - val_accuracy: 0.8908\n",
      "Epoch 10/20\n",
      "1875/1875 [==============================] - 2s 1ms/step - loss: 0.3211 - accuracy: 0.8841 - val_loss: 0.2952 - val_accuracy: 0.8944\n",
      "Epoch 11/20\n",
      "1875/1875 [==============================] - 2s 1ms/step - loss: 0.3129 - accuracy: 0.8860 - val_loss: 0.3112 - val_accuracy: 0.8864\n",
      "Epoch 12/20\n",
      "1875/1875 [==============================] - 2s 1ms/step - loss: 0.3043 - accuracy: 0.8887 - val_loss: 0.2768 - val_accuracy: 0.9010\n",
      "Epoch 13/20\n",
      "1875/1875 [==============================] - 2s 1ms/step - loss: 0.2977 - accuracy: 0.8915 - val_loss: 0.2733 - val_accuracy: 0.9024\n",
      "Epoch 14/20\n",
      "1875/1875 [==============================] - 2s 1ms/step - loss: 0.2915 - accuracy: 0.8930 - val_loss: 0.2733 - val_accuracy: 0.9026\n",
      "Epoch 15/20\n",
      "1875/1875 [==============================] - 2s 1ms/step - loss: 0.2848 - accuracy: 0.8967 - val_loss: 0.2778 - val_accuracy: 0.8972\n",
      "Epoch 16/20\n",
      "1875/1875 [==============================] - 2s 1ms/step - loss: 0.2792 - accuracy: 0.8985 - val_loss: 0.2734 - val_accuracy: 0.8988\n",
      "Epoch 17/20\n",
      "1856/1875 [============================>.] - ETA: 0s - loss: 0.2730 - accuracy: 0.9004\n",
      "Alcanzado el 0.9% de precisión y 0.4% de pérdida, se cancela el entrenamiento!!\n",
      "1875/1875 [==============================] - 2s 1ms/step - loss: 0.2729 - accuracy: 0.9004 - val_loss: 0.3008 - val_accuracy: 0.8856\n",
      "313/313 [==============================] - 0s 871us/step - loss: 0.3845 - accuracy: 0.8594\n"
     ]
    },
    {
     "data": {
      "text/plain": [
       "[0.38446077704429626, 0.8593999743461609]"
      ]
     },
     "execution_count": 56,
     "metadata": {},
     "output_type": "execute_result"
    }
   ],
   "source": [
    "SGD = nn_optimizers(tf.keras.optimizers.SGD())\n",
    "SGD"
   ]
  },
  {
   "cell_type": "markdown",
   "metadata": {},
   "source": [
    "#### RMSProp"
   ]
  },
  {
   "cell_type": "code",
   "execution_count": 57,
   "metadata": {},
   "outputs": [
    {
     "name": "stdout",
     "output_type": "stream",
     "text": [
      "Epoch 1/20\n",
      "1875/1875 [==============================] - 3s 2ms/step - loss: 0.5007 - accuracy: 0.8182 - val_loss: 0.3496 - val_accuracy: 0.8722\n",
      "Epoch 2/20\n",
      "1875/1875 [==============================] - 3s 1ms/step - loss: 0.3859 - accuracy: 0.8603 - val_loss: 0.3506 - val_accuracy: 0.8800\n",
      "Epoch 3/20\n",
      "1875/1875 [==============================] - 3s 1ms/step - loss: 0.3668 - accuracy: 0.8710 - val_loss: 0.3261 - val_accuracy: 0.8824\n",
      "Epoch 4/20\n",
      "1875/1875 [==============================] - 3s 1ms/step - loss: 0.3571 - accuracy: 0.8748 - val_loss: 0.3131 - val_accuracy: 0.8884\n",
      "Epoch 5/20\n",
      "1875/1875 [==============================] - 3s 1ms/step - loss: 0.3553 - accuracy: 0.8792 - val_loss: 0.3288 - val_accuracy: 0.8802\n",
      "Epoch 6/20\n",
      "1875/1875 [==============================] - 3s 1ms/step - loss: 0.3532 - accuracy: 0.8780 - val_loss: 0.3951 - val_accuracy: 0.8558\n",
      "Epoch 7/20\n",
      "1875/1875 [==============================] - 3s 1ms/step - loss: 0.3499 - accuracy: 0.8796 - val_loss: 0.3554 - val_accuracy: 0.8842\n",
      "Epoch 8/20\n",
      "1875/1875 [==============================] - 3s 1ms/step - loss: 0.3472 - accuracy: 0.8813 - val_loss: 0.4687 - val_accuracy: 0.8526\n",
      "Epoch 9/20\n",
      "1875/1875 [==============================] - 3s 1ms/step - loss: 0.3446 - accuracy: 0.8841 - val_loss: 0.3829 - val_accuracy: 0.8806\n",
      "Epoch 10/20\n",
      "1875/1875 [==============================] - 3s 1ms/step - loss: 0.3417 - accuracy: 0.8823 - val_loss: 0.2967 - val_accuracy: 0.9034\n",
      "Epoch 11/20\n",
      "1875/1875 [==============================] - 3s 1ms/step - loss: 0.3406 - accuracy: 0.8874 - val_loss: 0.3087 - val_accuracy: 0.8894\n",
      "Epoch 12/20\n",
      "1875/1875 [==============================] - 3s 1ms/step - loss: 0.3366 - accuracy: 0.8877 - val_loss: 0.3292 - val_accuracy: 0.8968\n",
      "Epoch 13/20\n",
      "1875/1875 [==============================] - 3s 1ms/step - loss: 0.3375 - accuracy: 0.8872 - val_loss: 0.2885 - val_accuracy: 0.9026\n",
      "Epoch 14/20\n",
      "1875/1875 [==============================] - 3s 1ms/step - loss: 0.3390 - accuracy: 0.8883 - val_loss: 0.3163 - val_accuracy: 0.8804\n",
      "Epoch 15/20\n",
      "1875/1875 [==============================] - 2s 855us/step - loss: 0.3311 - accuracy: 0.8898 - val_loss: 0.2763 - val_accuracy: 0.9006\n",
      "Epoch 16/20\n",
      "1875/1875 [==============================] - 2s 837us/step - loss: 0.3378 - accuracy: 0.8899 - val_loss: 0.3011 - val_accuracy: 0.8902\n",
      "Epoch 17/20\n",
      "1875/1875 [==============================] - 2s 841us/step - loss: 0.3387 - accuracy: 0.8905 - val_loss: 0.3092 - val_accuracy: 0.8968\n",
      "Epoch 18/20\n",
      "1875/1875 [==============================] - 2s 826us/step - loss: 0.3353 - accuracy: 0.8911 - val_loss: 0.3213 - val_accuracy: 0.8988\n",
      "Epoch 19/20\n",
      "1875/1875 [==============================] - 2s 847us/step - loss: 0.3353 - accuracy: 0.8912 - val_loss: 0.2961 - val_accuracy: 0.8986\n",
      "Epoch 20/20\n",
      "1875/1875 [==============================] - 2s 840us/step - loss: 0.3324 - accuracy: 0.8930 - val_loss: 0.2927 - val_accuracy: 0.9064\n",
      "313/313 [==============================] - 0s 486us/step - loss: 0.5385 - accuracy: 0.8705\n"
     ]
    },
    {
     "data": {
      "text/plain": [
       "[0.5385109782218933, 0.8705000281333923]"
      ]
     },
     "execution_count": 57,
     "metadata": {},
     "output_type": "execute_result"
    }
   ],
   "source": [
    "RMSProp = nn_optimizers(\"rmsprop\")\n",
    "RMSProp"
   ]
  },
  {
   "cell_type": "markdown",
   "metadata": {},
   "source": [
    "#### Adam"
   ]
  },
  {
   "cell_type": "code",
   "execution_count": 58,
   "metadata": {},
   "outputs": [
    {
     "name": "stdout",
     "output_type": "stream",
     "text": [
      "Epoch 1/20\n",
      "1875/1875 [==============================] - 2s 869us/step - loss: 0.4892 - accuracy: 0.8220 - val_loss: 0.3467 - val_accuracy: 0.8742\n",
      "Epoch 2/20\n",
      "1875/1875 [==============================] - 2s 831us/step - loss: 0.3615 - accuracy: 0.8659 - val_loss: 0.3412 - val_accuracy: 0.8774\n",
      "Epoch 3/20\n",
      "1875/1875 [==============================] - 2s 834us/step - loss: 0.3272 - accuracy: 0.8784 - val_loss: 0.3046 - val_accuracy: 0.8856\n",
      "Epoch 4/20\n",
      "1875/1875 [==============================] - 2s 829us/step - loss: 0.3054 - accuracy: 0.8866 - val_loss: 0.2758 - val_accuracy: 0.8964\n",
      "Epoch 5/20\n",
      "1875/1875 [==============================] - 2s 828us/step - loss: 0.2899 - accuracy: 0.8923 - val_loss: 0.2545 - val_accuracy: 0.9088\n",
      "Epoch 6/20\n",
      "1875/1875 [==============================] - 2s 829us/step - loss: 0.2763 - accuracy: 0.8961 - val_loss: 0.2559 - val_accuracy: 0.9036\n",
      "Epoch 7/20\n",
      "1855/1875 [============================>.] - ETA: 0s - loss: 0.2637 - accuracy: 0.9006\n",
      "Alcanzado el 0.9% de precisión y 0.4% de pérdida, se cancela el entrenamiento!!\n",
      "1875/1875 [==============================] - 2s 831us/step - loss: 0.2638 - accuracy: 0.9007 - val_loss: 0.2876 - val_accuracy: 0.8908\n",
      "313/313 [==============================] - 0s 493us/step - loss: 0.3877 - accuracy: 0.8610\n"
     ]
    },
    {
     "data": {
      "text/plain": [
       "[0.3877182602882385, 0.8610000014305115]"
      ]
     },
     "execution_count": 58,
     "metadata": {},
     "output_type": "execute_result"
    }
   ],
   "source": [
    "Adam = nn_optimizers(tf.keras.optimizers.Adam())\n",
    "Adam"
   ]
  },
  {
   "cell_type": "markdown",
   "metadata": {},
   "source": [
    "#### AdamW"
   ]
  },
  {
   "cell_type": "code",
   "execution_count": 59,
   "metadata": {},
   "outputs": [
    {
     "name": "stdout",
     "output_type": "stream",
     "text": [
      "Epoch 1/20\n",
      "1875/1875 [==============================] - 2s 886us/step - loss: 0.4879 - accuracy: 0.8239 - val_loss: 0.3727 - val_accuracy: 0.8650\n",
      "Epoch 2/20\n",
      "1875/1875 [==============================] - 2s 853us/step - loss: 0.3673 - accuracy: 0.8658 - val_loss: 0.3161 - val_accuracy: 0.8824\n",
      "Epoch 3/20\n",
      "1875/1875 [==============================] - 2s 850us/step - loss: 0.3302 - accuracy: 0.8776 - val_loss: 0.3214 - val_accuracy: 0.8782\n",
      "Epoch 4/20\n",
      "1875/1875 [==============================] - 2s 852us/step - loss: 0.3093 - accuracy: 0.8850 - val_loss: 0.2920 - val_accuracy: 0.8918\n",
      "Epoch 5/20\n",
      "1875/1875 [==============================] - 2s 985us/step - loss: 0.2903 - accuracy: 0.8913 - val_loss: 0.2515 - val_accuracy: 0.9054\n",
      "Epoch 6/20\n",
      "1875/1875 [==============================] - 2s 944us/step - loss: 0.2768 - accuracy: 0.8966 - val_loss: 0.2553 - val_accuracy: 0.9076\n",
      "Epoch 7/20\n",
      "1861/1875 [============================>.] - ETA: 0s - loss: 0.2667 - accuracy: 0.9009\n",
      "Alcanzado el 0.9% de precisión y 0.4% de pérdida, se cancela el entrenamiento!!\n",
      "1875/1875 [==============================] - 2s 955us/step - loss: 0.2668 - accuracy: 0.9009 - val_loss: 0.2403 - val_accuracy: 0.9084\n",
      "313/313 [==============================] - 0s 533us/step - loss: 0.3337 - accuracy: 0.8799\n"
     ]
    },
    {
     "data": {
      "text/plain": [
       "[0.33373570442199707, 0.8798999786376953]"
      ]
     },
     "execution_count": 59,
     "metadata": {},
     "output_type": "execute_result"
    }
   ],
   "source": [
    "AdamW = nn_optimizers(tf.keras.optimizers.AdamW())\n",
    "AdamW"
   ]
  },
  {
   "cell_type": "markdown",
   "metadata": {},
   "source": [
    "#### Adadelta"
   ]
  },
  {
   "cell_type": "code",
   "execution_count": 60,
   "metadata": {},
   "outputs": [
    {
     "name": "stdout",
     "output_type": "stream",
     "text": [
      "Epoch 1/20\n",
      "1875/1875 [==============================] - 2s 971us/step - loss: 2.1715 - accuracy: 0.3311 - val_loss: 2.0433 - val_accuracy: 0.4466\n",
      "Epoch 2/20\n",
      "1875/1875 [==============================] - 2s 928us/step - loss: 1.9263 - accuracy: 0.4631 - val_loss: 1.7943 - val_accuracy: 0.4920\n",
      "Epoch 3/20\n",
      "1875/1875 [==============================] - 2s 1ms/step - loss: 1.6901 - accuracy: 0.5132 - val_loss: 1.5670 - val_accuracy: 0.5484\n",
      "Epoch 4/20\n",
      "1875/1875 [==============================] - 3s 2ms/step - loss: 1.4829 - accuracy: 0.5689 - val_loss: 1.3769 - val_accuracy: 0.5986\n",
      "Epoch 5/20\n",
      "1875/1875 [==============================] - 3s 2ms/step - loss: 1.3149 - accuracy: 0.6102 - val_loss: 1.2287 - val_accuracy: 0.6288\n",
      "Epoch 6/20\n",
      "1875/1875 [==============================] - 3s 1ms/step - loss: 1.1863 - accuracy: 0.6357 - val_loss: 1.1176 - val_accuracy: 0.6556\n",
      "Epoch 7/20\n",
      "1875/1875 [==============================] - 3s 1ms/step - loss: 1.0904 - accuracy: 0.6537 - val_loss: 1.0357 - val_accuracy: 0.6674\n",
      "Epoch 8/20\n",
      "1875/1875 [==============================] - 3s 1ms/step - loss: 1.0184 - accuracy: 0.6661 - val_loss: 0.9734 - val_accuracy: 0.6792\n",
      "Epoch 9/20\n",
      "1875/1875 [==============================] - 3s 2ms/step - loss: 0.9635 - accuracy: 0.6771 - val_loss: 0.9253 - val_accuracy: 0.6904\n",
      "Epoch 10/20\n",
      "1875/1875 [==============================] - 3s 1ms/step - loss: 0.9195 - accuracy: 0.6874 - val_loss: 0.8866 - val_accuracy: 0.6984\n",
      "Epoch 11/20\n",
      "1875/1875 [==============================] - 3s 1ms/step - loss: 0.8836 - accuracy: 0.6963 - val_loss: 0.8546 - val_accuracy: 0.7036\n",
      "Epoch 12/20\n",
      "1875/1875 [==============================] - 3s 1ms/step - loss: 0.8537 - accuracy: 0.7044 - val_loss: 0.8274 - val_accuracy: 0.7134\n",
      "Epoch 13/20\n",
      "1875/1875 [==============================] - 3s 2ms/step - loss: 0.8281 - accuracy: 0.7122 - val_loss: 0.8043 - val_accuracy: 0.7184\n",
      "Epoch 14/20\n",
      "1875/1875 [==============================] - 3s 2ms/step - loss: 0.8059 - accuracy: 0.7195 - val_loss: 0.7839 - val_accuracy: 0.7246\n",
      "Epoch 15/20\n",
      "1875/1875 [==============================] - 3s 2ms/step - loss: 0.7864 - accuracy: 0.7258 - val_loss: 0.7658 - val_accuracy: 0.7324\n",
      "Epoch 16/20\n",
      "1875/1875 [==============================] - 3s 2ms/step - loss: 0.7694 - accuracy: 0.7318 - val_loss: 0.7499 - val_accuracy: 0.7376\n",
      "Epoch 17/20\n",
      "1875/1875 [==============================] - 3s 2ms/step - loss: 0.7541 - accuracy: 0.7363 - val_loss: 0.7356 - val_accuracy: 0.7426\n",
      "Epoch 18/20\n",
      "1875/1875 [==============================] - 3s 2ms/step - loss: 0.7403 - accuracy: 0.7418 - val_loss: 0.7227 - val_accuracy: 0.7466\n",
      "Epoch 19/20\n",
      "1875/1875 [==============================] - 2s 1ms/step - loss: 0.7276 - accuracy: 0.7463 - val_loss: 0.7109 - val_accuracy: 0.7532\n",
      "Epoch 20/20\n",
      "1875/1875 [==============================] - 2s 910us/step - loss: 0.7160 - accuracy: 0.7516 - val_loss: 0.7000 - val_accuracy: 0.7584\n",
      "313/313 [==============================] - 0s 492us/step - loss: 0.7274 - accuracy: 0.7406\n"
     ]
    },
    {
     "data": {
      "text/plain": [
       "[0.7274273633956909, 0.7405999898910522]"
      ]
     },
     "execution_count": 60,
     "metadata": {},
     "output_type": "execute_result"
    }
   ],
   "source": [
    "Adadelta = nn_optimizers(tf.keras.optimizers.Adadelta())\n",
    "Adadelta"
   ]
  },
  {
   "cell_type": "markdown",
   "metadata": {},
   "source": [
    "#### Adagrad"
   ]
  },
  {
   "cell_type": "code",
   "execution_count": 61,
   "metadata": {},
   "outputs": [
    {
     "name": "stdout",
     "output_type": "stream",
     "text": [
      "Epoch 1/20\n",
      "1875/1875 [==============================] - 2s 834us/step - loss: 1.1466 - accuracy: 0.6387 - val_loss: 0.7331 - val_accuracy: 0.7606\n",
      "Epoch 2/20\n",
      "1875/1875 [==============================] - 1s 790us/step - loss: 0.6700 - accuracy: 0.7736 - val_loss: 0.6007 - val_accuracy: 0.8026\n",
      "Epoch 3/20\n",
      "1875/1875 [==============================] - 1s 784us/step - loss: 0.5846 - accuracy: 0.8040 - val_loss: 0.5465 - val_accuracy: 0.8196\n",
      "Epoch 4/20\n",
      "1875/1875 [==============================] - 1s 786us/step - loss: 0.5424 - accuracy: 0.8168 - val_loss: 0.5142 - val_accuracy: 0.8272\n",
      "Epoch 5/20\n",
      "1875/1875 [==============================] - 1s 789us/step - loss: 0.5169 - accuracy: 0.8239 - val_loss: 0.4936 - val_accuracy: 0.8372\n",
      "Epoch 6/20\n",
      "1875/1875 [==============================] - 1s 787us/step - loss: 0.4987 - accuracy: 0.8296 - val_loss: 0.4772 - val_accuracy: 0.8426\n",
      "Epoch 7/20\n",
      "1875/1875 [==============================] - 1s 792us/step - loss: 0.4848 - accuracy: 0.8338 - val_loss: 0.4642 - val_accuracy: 0.8452\n",
      "Epoch 8/20\n",
      "1875/1875 [==============================] - 2s 847us/step - loss: 0.4740 - accuracy: 0.8368 - val_loss: 0.4536 - val_accuracy: 0.8466\n",
      "Epoch 9/20\n",
      "1875/1875 [==============================] - 2s 819us/step - loss: 0.4645 - accuracy: 0.8397 - val_loss: 0.4484 - val_accuracy: 0.8480\n",
      "Epoch 10/20\n",
      "1875/1875 [==============================] - 1s 791us/step - loss: 0.4568 - accuracy: 0.8425 - val_loss: 0.4386 - val_accuracy: 0.8518\n",
      "Epoch 11/20\n",
      "1875/1875 [==============================] - 2s 802us/step - loss: 0.4499 - accuracy: 0.8444 - val_loss: 0.4333 - val_accuracy: 0.8544\n",
      "Epoch 12/20\n",
      "1875/1875 [==============================] - 2s 819us/step - loss: 0.4439 - accuracy: 0.8461 - val_loss: 0.4274 - val_accuracy: 0.8552\n",
      "Epoch 13/20\n",
      "1875/1875 [==============================] - 2s 860us/step - loss: 0.4385 - accuracy: 0.8478 - val_loss: 0.4228 - val_accuracy: 0.8560\n",
      "Epoch 14/20\n",
      "1875/1875 [==============================] - 2s 818us/step - loss: 0.4339 - accuracy: 0.8496 - val_loss: 0.4187 - val_accuracy: 0.8562\n",
      "Epoch 15/20\n",
      "1875/1875 [==============================] - 2s 813us/step - loss: 0.4295 - accuracy: 0.8511 - val_loss: 0.4153 - val_accuracy: 0.8572\n",
      "Epoch 16/20\n",
      "1875/1875 [==============================] - 2s 808us/step - loss: 0.4255 - accuracy: 0.8526 - val_loss: 0.4110 - val_accuracy: 0.8598\n",
      "Epoch 17/20\n",
      "1875/1875 [==============================] - 2s 802us/step - loss: 0.4219 - accuracy: 0.8533 - val_loss: 0.4070 - val_accuracy: 0.8594\n",
      "Epoch 18/20\n",
      "1875/1875 [==============================] - 1s 783us/step - loss: 0.4185 - accuracy: 0.8544 - val_loss: 0.4037 - val_accuracy: 0.8588\n",
      "Epoch 19/20\n",
      "1875/1875 [==============================] - 1s 786us/step - loss: 0.4152 - accuracy: 0.8559 - val_loss: 0.4022 - val_accuracy: 0.8614\n",
      "Epoch 20/20\n",
      "1875/1875 [==============================] - 1s 782us/step - loss: 0.4121 - accuracy: 0.8572 - val_loss: 0.3983 - val_accuracy: 0.8620\n",
      "313/313 [==============================] - 0s 559us/step - loss: 0.4437 - accuracy: 0.8443\n"
     ]
    },
    {
     "data": {
      "text/plain": [
       "[0.44365063309669495, 0.8442999720573425]"
      ]
     },
     "execution_count": 61,
     "metadata": {},
     "output_type": "execute_result"
    }
   ],
   "source": [
    "Adagrad = nn_optimizers(tf.keras.optimizers.Adagrad())\n",
    "Adagrad"
   ]
  },
  {
   "cell_type": "markdown",
   "metadata": {},
   "source": [
    "#### Adamax"
   ]
  },
  {
   "cell_type": "code",
   "execution_count": 62,
   "metadata": {},
   "outputs": [
    {
     "name": "stdout",
     "output_type": "stream",
     "text": [
      "Epoch 1/20\n",
      "1875/1875 [==============================] - 3s 1ms/step - loss: 0.5331 - accuracy: 0.8140 - val_loss: 0.3871 - val_accuracy: 0.8668\n",
      "Epoch 2/20\n",
      "1875/1875 [==============================] - 3s 1ms/step - loss: 0.3959 - accuracy: 0.8585 - val_loss: 0.3414 - val_accuracy: 0.8770\n",
      "Epoch 3/20\n",
      "1875/1875 [==============================] - 3s 1ms/step - loss: 0.3553 - accuracy: 0.8714 - val_loss: 0.3182 - val_accuracy: 0.8888\n",
      "Epoch 4/20\n",
      "1875/1875 [==============================] - 3s 1ms/step - loss: 0.3282 - accuracy: 0.8800 - val_loss: 0.3081 - val_accuracy: 0.8890\n",
      "Epoch 5/20\n",
      "1875/1875 [==============================] - 3s 1ms/step - loss: 0.3082 - accuracy: 0.8865 - val_loss: 0.2843 - val_accuracy: 0.8964\n",
      "Epoch 6/20\n",
      "1875/1875 [==============================] - 3s 1ms/step - loss: 0.2935 - accuracy: 0.8921 - val_loss: 0.2649 - val_accuracy: 0.9062\n",
      "Epoch 7/20\n",
      "1875/1875 [==============================] - 3s 1ms/step - loss: 0.2796 - accuracy: 0.8968 - val_loss: 0.2626 - val_accuracy: 0.9022\n",
      "Epoch 8/20\n",
      "1837/1875 [============================>.] - ETA: 0s - loss: 0.2686 - accuracy: 0.9009\n",
      "Alcanzado el 0.9% de precisión y 0.4% de pérdida, se cancela el entrenamiento!!\n",
      "1875/1875 [==============================] - 3s 1ms/step - loss: 0.2687 - accuracy: 0.9009 - val_loss: 0.2415 - val_accuracy: 0.9126\n",
      "313/313 [==============================] - 0s 825us/step - loss: 0.3310 - accuracy: 0.8810\n"
     ]
    },
    {
     "data": {
      "text/plain": [
       "[0.33104655146598816, 0.8809999823570251]"
      ]
     },
     "execution_count": 62,
     "metadata": {},
     "output_type": "execute_result"
    }
   ],
   "source": [
    "Adamax = nn_optimizers(tf.keras.optimizers.Adamax())\n",
    "Adamax"
   ]
  },
  {
   "cell_type": "markdown",
   "metadata": {},
   "source": [
    "#### Adafactor"
   ]
  },
  {
   "cell_type": "code",
   "execution_count": 63,
   "metadata": {},
   "outputs": [
    {
     "name": "stdout",
     "output_type": "stream",
     "text": [
      "Epoch 1/20\n",
      "1875/1875 [==============================] - 7s 3ms/step - loss: nan - accuracy: 0.0999 - val_loss: nan - val_accuracy: 0.0914\n",
      "Epoch 2/20\n",
      "1875/1875 [==============================] - 5s 3ms/step - loss: nan - accuracy: 0.1000 - val_loss: nan - val_accuracy: 0.0914\n",
      "Epoch 3/20\n",
      "1875/1875 [==============================] - 5s 3ms/step - loss: nan - accuracy: 0.1000 - val_loss: nan - val_accuracy: 0.0914\n",
      "Epoch 4/20\n",
      "1875/1875 [==============================] - 5s 3ms/step - loss: nan - accuracy: 0.1000 - val_loss: nan - val_accuracy: 0.0914\n",
      "Epoch 5/20\n",
      "1875/1875 [==============================] - 5s 3ms/step - loss: nan - accuracy: 0.1000 - val_loss: nan - val_accuracy: 0.0914\n",
      "Epoch 6/20\n",
      "1875/1875 [==============================] - 5s 3ms/step - loss: nan - accuracy: 0.1000 - val_loss: nan - val_accuracy: 0.0914\n",
      "Epoch 7/20\n",
      "1875/1875 [==============================] - 5s 3ms/step - loss: nan - accuracy: 0.1000 - val_loss: nan - val_accuracy: 0.0914\n",
      "Epoch 8/20\n",
      "1875/1875 [==============================] - 5s 3ms/step - loss: nan - accuracy: 0.1000 - val_loss: nan - val_accuracy: 0.0914\n",
      "Epoch 9/20\n",
      "1875/1875 [==============================] - 5s 3ms/step - loss: nan - accuracy: 0.1000 - val_loss: nan - val_accuracy: 0.0914\n",
      "Epoch 10/20\n",
      "1875/1875 [==============================] - 5s 3ms/step - loss: nan - accuracy: 0.1000 - val_loss: nan - val_accuracy: 0.0914\n",
      "Epoch 11/20\n",
      "1875/1875 [==============================] - 5s 3ms/step - loss: nan - accuracy: 0.1000 - val_loss: nan - val_accuracy: 0.0914\n",
      "Epoch 12/20\n",
      "1875/1875 [==============================] - 5s 3ms/step - loss: nan - accuracy: 0.1000 - val_loss: nan - val_accuracy: 0.0914\n",
      "Epoch 13/20\n",
      "1875/1875 [==============================] - 6s 3ms/step - loss: nan - accuracy: 0.1000 - val_loss: nan - val_accuracy: 0.0914\n",
      "Epoch 14/20\n",
      "1875/1875 [==============================] - 6s 3ms/step - loss: nan - accuracy: 0.1000 - val_loss: nan - val_accuracy: 0.0914\n",
      "Epoch 15/20\n",
      "1875/1875 [==============================] - 6s 3ms/step - loss: nan - accuracy: 0.1000 - val_loss: nan - val_accuracy: 0.0914\n",
      "Epoch 16/20\n",
      "1875/1875 [==============================] - 5s 3ms/step - loss: nan - accuracy: 0.1000 - val_loss: nan - val_accuracy: 0.0914\n",
      "Epoch 17/20\n",
      "1875/1875 [==============================] - 4s 2ms/step - loss: nan - accuracy: 0.1000 - val_loss: nan - val_accuracy: 0.0914\n",
      "Epoch 18/20\n",
      "1875/1875 [==============================] - 4s 2ms/step - loss: nan - accuracy: 0.1000 - val_loss: nan - val_accuracy: 0.0914\n",
      "Epoch 19/20\n",
      "1875/1875 [==============================] - 5s 3ms/step - loss: nan - accuracy: 0.1000 - val_loss: nan - val_accuracy: 0.0914\n",
      "Epoch 20/20\n",
      "1875/1875 [==============================] - 6s 3ms/step - loss: nan - accuracy: 0.1000 - val_loss: nan - val_accuracy: 0.0914\n",
      "313/313 [==============================] - 0s 1ms/step - loss: nan - accuracy: 0.1000\n"
     ]
    },
    {
     "data": {
      "text/plain": [
       "[nan, 0.10000000149011612]"
      ]
     },
     "execution_count": 63,
     "metadata": {},
     "output_type": "execute_result"
    }
   ],
   "source": [
    "Adafactor = nn_optimizers(tf.keras.optimizers.Adafactor())\n",
    "Adafactor"
   ]
  },
  {
   "cell_type": "markdown",
   "metadata": {},
   "source": [
    "#### Nadam"
   ]
  },
  {
   "cell_type": "code",
   "execution_count": 64,
   "metadata": {},
   "outputs": [
    {
     "name": "stdout",
     "output_type": "stream",
     "text": [
      "Epoch 1/20\n",
      "1875/1875 [==============================] - 7s 3ms/step - loss: 0.4727 - accuracy: 0.8311 - val_loss: 0.3836 - val_accuracy: 0.8584\n",
      "Epoch 2/20\n",
      "1875/1875 [==============================] - 5s 3ms/step - loss: 0.3606 - accuracy: 0.8684 - val_loss: 0.3180 - val_accuracy: 0.8796\n",
      "Epoch 3/20\n",
      "1875/1875 [==============================] - 4s 2ms/step - loss: 0.3242 - accuracy: 0.8799 - val_loss: 0.3063 - val_accuracy: 0.8868\n",
      "Epoch 4/20\n",
      "1875/1875 [==============================] - 3s 2ms/step - loss: 0.3028 - accuracy: 0.8873 - val_loss: 0.2780 - val_accuracy: 0.8960\n",
      "Epoch 5/20\n",
      "1875/1875 [==============================] - 3s 2ms/step - loss: 0.2862 - accuracy: 0.8935 - val_loss: 0.2455 - val_accuracy: 0.9078\n",
      "Epoch 6/20\n",
      "1875/1875 [==============================] - 3s 2ms/step - loss: 0.2718 - accuracy: 0.8990 - val_loss: 0.2570 - val_accuracy: 0.9026\n",
      "Epoch 7/20\n",
      "1860/1875 [============================>.] - ETA: 0s - loss: 0.2615 - accuracy: 0.9019\n",
      "Alcanzado el 0.9% de precisión y 0.4% de pérdida, se cancela el entrenamiento!!\n",
      "1875/1875 [==============================] - 3s 2ms/step - loss: 0.2615 - accuracy: 0.9020 - val_loss: 0.2306 - val_accuracy: 0.9124\n",
      "313/313 [==============================] - 0s 821us/step - loss: 0.3265 - accuracy: 0.8831\n"
     ]
    },
    {
     "data": {
      "text/plain": [
       "[0.3264775276184082, 0.8830999732017517]"
      ]
     },
     "execution_count": 64,
     "metadata": {},
     "output_type": "execute_result"
    }
   ],
   "source": [
    "Nadam = nn_optimizers(tf.keras.optimizers.Nadam())\n",
    "Nadam"
   ]
  },
  {
   "cell_type": "markdown",
   "metadata": {},
   "source": [
    "#### Ftrl"
   ]
  },
  {
   "cell_type": "code",
   "execution_count": 65,
   "metadata": {},
   "outputs": [
    {
     "name": "stdout",
     "output_type": "stream",
     "text": [
      "Epoch 1/20\n",
      "1875/1875 [==============================] - 4s 2ms/step - loss: 2.3026 - accuracy: 0.0974 - val_loss: 2.3026 - val_accuracy: 0.1012\n",
      "Epoch 2/20\n",
      "1875/1875 [==============================] - 3s 2ms/step - loss: 2.3026 - accuracy: 0.1000 - val_loss: 2.3026 - val_accuracy: 0.1012\n",
      "Epoch 3/20\n",
      "1875/1875 [==============================] - 3s 2ms/step - loss: 2.3026 - accuracy: 0.0997 - val_loss: 2.3026 - val_accuracy: 0.1012\n",
      "Epoch 4/20\n",
      "1875/1875 [==============================] - 3s 2ms/step - loss: 2.3026 - accuracy: 0.1000 - val_loss: 2.3026 - val_accuracy: 0.1012\n",
      "Epoch 5/20\n",
      "1875/1875 [==============================] - 3s 2ms/step - loss: 2.3026 - accuracy: 0.0988 - val_loss: 2.3026 - val_accuracy: 0.1012\n",
      "Epoch 6/20\n",
      "1875/1875 [==============================] - 3s 2ms/step - loss: 2.3026 - accuracy: 0.1000 - val_loss: 2.3026 - val_accuracy: 0.1012\n",
      "Epoch 7/20\n",
      "1875/1875 [==============================] - 4s 2ms/step - loss: 2.3026 - accuracy: 0.1000 - val_loss: 2.3026 - val_accuracy: 0.1012\n",
      "Epoch 8/20\n",
      "1875/1875 [==============================] - 5s 3ms/step - loss: 2.3026 - accuracy: 0.0997 - val_loss: 2.3026 - val_accuracy: 0.1012\n",
      "Epoch 9/20\n",
      "1875/1875 [==============================] - 3s 2ms/step - loss: 2.3026 - accuracy: 0.0983 - val_loss: 2.3026 - val_accuracy: 0.1012\n",
      "Epoch 10/20\n",
      "1875/1875 [==============================] - 3s 2ms/step - loss: 2.3026 - accuracy: 0.1000 - val_loss: 2.3026 - val_accuracy: 0.1012\n",
      "Epoch 11/20\n",
      "1875/1875 [==============================] - 3s 2ms/step - loss: 2.3026 - accuracy: 0.1000 - val_loss: 2.3026 - val_accuracy: 0.1012\n",
      "Epoch 12/20\n",
      "1875/1875 [==============================] - 3s 2ms/step - loss: 2.3026 - accuracy: 0.0993 - val_loss: 2.3026 - val_accuracy: 0.1012\n",
      "Epoch 13/20\n",
      "1875/1875 [==============================] - 3s 2ms/step - loss: 2.3026 - accuracy: 0.0992 - val_loss: 2.3026 - val_accuracy: 0.1012\n",
      "Epoch 14/20\n",
      "1875/1875 [==============================] - 3s 2ms/step - loss: 2.3026 - accuracy: 0.1000 - val_loss: 2.3026 - val_accuracy: 0.1012\n",
      "Epoch 15/20\n",
      "1875/1875 [==============================] - 3s 2ms/step - loss: 2.3026 - accuracy: 0.1000 - val_loss: 2.3026 - val_accuracy: 0.1012\n",
      "Epoch 16/20\n",
      "1875/1875 [==============================] - 3s 2ms/step - loss: 2.3026 - accuracy: 0.0986 - val_loss: 2.3026 - val_accuracy: 0.1012\n",
      "Epoch 17/20\n",
      "1875/1875 [==============================] - 3s 2ms/step - loss: 2.3026 - accuracy: 0.1000 - val_loss: 2.3026 - val_accuracy: 0.1012\n",
      "Epoch 18/20\n",
      "1875/1875 [==============================] - 3s 2ms/step - loss: 2.3026 - accuracy: 0.0994 - val_loss: 2.3026 - val_accuracy: 0.1012\n",
      "Epoch 19/20\n",
      "1875/1875 [==============================] - 3s 2ms/step - loss: 2.3026 - accuracy: 0.1000 - val_loss: 2.3026 - val_accuracy: 0.1012\n",
      "Epoch 20/20\n",
      "1875/1875 [==============================] - 3s 2ms/step - loss: 2.3026 - accuracy: 0.0997 - val_loss: 2.3026 - val_accuracy: 0.1012\n",
      "313/313 [==============================] - 0s 777us/step - loss: 2.3026 - accuracy: 0.1000\n"
     ]
    },
    {
     "data": {
      "text/plain": [
       "[2.3025848865509033, 0.10000000149011612]"
      ]
     },
     "execution_count": 65,
     "metadata": {},
     "output_type": "execute_result"
    }
   ],
   "source": [
    "Ftrl = nn_optimizers(tf.keras.optimizers.Ftrl())\n",
    "Ftrl"
   ]
  },
  {
   "cell_type": "markdown",
   "metadata": {},
   "source": [
    "#### *Resumen de los resultados de los optimizadores*"
   ]
  },
  {
   "cell_type": "code",
   "execution_count": 66,
   "metadata": {},
   "outputs": [
    {
     "name": "stdout",
     "output_type": "stream",
     "text": [
      "La precisión del modelo con el optimizador SGD es: 0.8593999743461609 \n",
      "La precisión del modelo con el optimizador RMSProp es: 0.8705000281333923 \n",
      "La precisión del modelo con el optimizador Adam es: 0.8610000014305115 \n",
      "La precisión del modelo con el optimizador AdamW es: 0.8798999786376953 \n",
      "La precisión del modelo con el optimizador Adadelta es: 0.7405999898910522 \n",
      "La precisión del modelo con el optimizador Adagrad es: 0.8442999720573425 \n",
      "La precisión del modelo con el optimizador Adamax es: 0.8809999823570251 \n",
      "La precisión del modelo con el optimizador Adafactor es: 0.10000000149011612 \n",
      "La precisión del modelo con el optimizador Nadam es: 0.8830999732017517 \n",
      "La precisión del modelo con el optimizador Ftrl es: 0.10000000149011612 \n",
      "--------------------------------------------------------------------------\n",
      "El mejor optimizador ha resultado ser Nadam con un accuracy de: 0.8830999732017517\n"
     ]
    }
   ],
   "source": [
    "diccionario_optimizadores = {\n",
    "    \"SGD\": SGD[1],\n",
    "    \"RMSProp\": RMSProp[1],\n",
    "    \"Adam\": Adam[1],\n",
    "    \"AdamW\": AdamW[1],  \n",
    "    \"Adadelta\": Adadelta[1],\n",
    "    \"Adagrad\" : Adagrad[1],\n",
    "    \"Adamax\": Adamax[1],\n",
    "    \"Adafactor\": Adafactor[1],\n",
    "    \"Nadam\": Nadam[1],\n",
    "    \"Ftrl\": Ftrl[1]\n",
    "}\n",
    "best_optimizer = 0\n",
    "best_optimizer_tag = 0\n",
    "for i, j in diccionario_optimizadores.items():\n",
    "    print(\"La precisión del modelo con el optimizador {} es: {} \".format(i, j))\n",
    "    if best_optimizer < j:\n",
    "        best_optimizer = j\n",
    "        best_optimizer_tag = i\n",
    "\n",
    "print(\"--------------------------------------------------------------------------\")\n",
    "print(\"El mejor optimizador ha resultado ser {} con un accuracy de: {}\".format(best_optimizer_tag, best_optimizer))"
   ]
  },
  {
   "cell_type": "markdown",
   "metadata": {
    "id": "BkfTFoJOTFqZ"
   },
   "source": [
    "## 12. Regularización y red final "
   ]
  },
  {
   "cell_type": "markdown",
   "metadata": {
    "id": "f6CQhK7ZTFqZ"
   },
   "source": [
    "**Ejercicio 12 *(1 punto)***: Entrenar una red final que sea capaz de obtener una accuracy en el validation set cercana al 90%. Para ello, combinar todo lo aprendido anteriormente y utilizar técnicas de regularización para evitar overfitting. Algunos de los elementos que pueden tenerse en cuenta son los siguientes.\n",
    "\n",
    "* Número de capas y neuronas por capa\n",
    "* Optimizadores y sus parámetros\n",
    "* Batch size\n",
    "* Unidades de activación\n",
    "* Uso de capas dropout, regularización L2, regularización L1...\n",
    "* Early stopping (se puede aplicar como un callback de Keras, o se puede ver un poco \"a ojo\" cuándo el modelo empieza a caer en overfitting y seleccionar el número de epochs necesarias)\n",
    "* Batch normalization\n",
    "\n",
    "Si los modelos entrenados anteriormente ya se acercaban al valor requerido de accuracy, probar distintas estrategias igualmente y comentar los resultados.\n",
    "\n",
    "Explicar brevemente la estrategia seguida y los modelos probados para obtener el modelo final, que debe verse entrenado en este Notebook. No es necesario guardar el entrenamiento de todos los modelos que se han probado, es suficiente con explicar cómo se ha llegado al modelo final."
   ]
  },
  {
   "cell_type": "code",
   "execution_count": 67,
   "metadata": {},
   "outputs": [],
   "source": [
    "mejor_resultado = 0"
   ]
  },
  {
   "cell_type": "code",
   "execution_count": 68,
   "metadata": {
    "id": "AUJ5AtunTFqa"
   },
   "outputs": [
    {
     "name": "stdout",
     "output_type": "stream",
     "text": [
      "Epoch 1/30\n",
      "1875/1875 [==============================] - 3s 1ms/step - loss: 0.4703 - accuracy: 0.8309 - val_loss: 0.3472 - val_accuracy: 0.8720\n",
      "Epoch 2/30\n",
      "1875/1875 [==============================] - 2s 1ms/step - loss: 0.3560 - accuracy: 0.8700 - val_loss: 0.3178 - val_accuracy: 0.8786\n",
      "Epoch 3/30\n",
      "1875/1875 [==============================] - 2s 1ms/step - loss: 0.3236 - accuracy: 0.8799 - val_loss: 0.2792 - val_accuracy: 0.8958\n",
      "Epoch 4/30\n",
      "1875/1875 [==============================] - 2s 1ms/step - loss: 0.3036 - accuracy: 0.8878 - val_loss: 0.2992 - val_accuracy: 0.8930\n",
      "Epoch 5/30\n",
      "1875/1875 [==============================] - 2s 1ms/step - loss: 0.2883 - accuracy: 0.8936 - val_loss: 0.2597 - val_accuracy: 0.9022\n",
      "Epoch 6/30\n",
      "1875/1875 [==============================] - 2s 1ms/step - loss: 0.2735 - accuracy: 0.8968 - val_loss: 0.2410 - val_accuracy: 0.9076\n",
      "Epoch 7/30\n",
      "1832/1875 [============================>.] - ETA: 0s - loss: 0.2617 - accuracy: 0.9020\n",
      "Alcanzado el 0.9% de precisión y 0.4% de pérdida, se cancela el entrenamiento!!\n",
      "1875/1875 [==============================] - 2s 1ms/step - loss: 0.2620 - accuracy: 0.9020 - val_loss: 0.2493 - val_accuracy: 0.9074\n",
      "313/313 [==============================] - 0s 530us/step - loss: 0.3552 - accuracy: 0.8718\n",
      "\n",
      "\n",
      "Mejor resultado de accuracy obtenido: 0.8718000054359436\n",
      "Epoch 1/30\n",
      "1875/1875 [==============================] - 3s 1ms/step - loss: 0.4713 - accuracy: 0.8293 - val_loss: 0.3545 - val_accuracy: 0.8702\n",
      "Epoch 2/30\n",
      "1875/1875 [==============================] - 2s 1ms/step - loss: 0.3577 - accuracy: 0.8690 - val_loss: 0.3169 - val_accuracy: 0.8880\n",
      "Epoch 3/30\n",
      "1875/1875 [==============================] - 2s 984us/step - loss: 0.3272 - accuracy: 0.8789 - val_loss: 0.3023 - val_accuracy: 0.8870\n",
      "Epoch 4/30\n",
      "1875/1875 [==============================] - 2s 988us/step - loss: 0.3060 - accuracy: 0.8868 - val_loss: 0.2832 - val_accuracy: 0.8938\n",
      "Epoch 5/30\n",
      "1875/1875 [==============================] - 2s 986us/step - loss: 0.2863 - accuracy: 0.8929 - val_loss: 0.2583 - val_accuracy: 0.9022\n",
      "Epoch 6/30\n",
      "1875/1875 [==============================] - 2s 982us/step - loss: 0.2719 - accuracy: 0.8976 - val_loss: 0.2418 - val_accuracy: 0.9078\n",
      "Epoch 7/30\n",
      "1869/1875 [============================>.] - ETA: 0s - loss: 0.2609 - accuracy: 0.9015\n",
      "Alcanzado el 0.9% de precisión y 0.4% de pérdida, se cancela el entrenamiento!!\n",
      "1875/1875 [==============================] - 2s 988us/step - loss: 0.2613 - accuracy: 0.9014 - val_loss: 0.2285 - val_accuracy: 0.9108\n",
      "313/313 [==============================] - 0s 520us/step - loss: 0.3199 - accuracy: 0.8815\n",
      "\n",
      "\n",
      "Mejor resultado de accuracy obtenido: 0.8815000057220459\n",
      "Epoch 1/30\n",
      "1875/1875 [==============================] - 2s 1ms/step - loss: 0.4718 - accuracy: 0.8313 - val_loss: 0.3648 - val_accuracy: 0.8706\n",
      "Epoch 2/30\n",
      "1875/1875 [==============================] - 2s 979us/step - loss: 0.3606 - accuracy: 0.8684 - val_loss: 0.3056 - val_accuracy: 0.8892\n",
      "Epoch 3/30\n",
      "1875/1875 [==============================] - 2s 976us/step - loss: 0.3261 - accuracy: 0.8781 - val_loss: 0.3301 - val_accuracy: 0.8812\n",
      "Epoch 4/30\n",
      "1875/1875 [==============================] - 2s 978us/step - loss: 0.3048 - accuracy: 0.8862 - val_loss: 0.2934 - val_accuracy: 0.8888\n",
      "Epoch 5/30\n",
      "1875/1875 [==============================] - 2s 974us/step - loss: 0.2886 - accuracy: 0.8924 - val_loss: 0.2652 - val_accuracy: 0.8982\n",
      "Epoch 6/30\n",
      "1875/1875 [==============================] - 2s 976us/step - loss: 0.2729 - accuracy: 0.8985 - val_loss: 0.2693 - val_accuracy: 0.9004\n",
      "Epoch 7/30\n",
      "1828/1875 [============================>.] - ETA: 0s - loss: 0.2641 - accuracy: 0.9001\n",
      "Alcanzado el 0.9% de precisión y 0.4% de pérdida, se cancela el entrenamiento!!\n",
      "1875/1875 [==============================] - 2s 981us/step - loss: 0.2638 - accuracy: 0.9001 - val_loss: 0.2452 - val_accuracy: 0.9054\n",
      "313/313 [==============================] - 0s 529us/step - loss: 0.3466 - accuracy: 0.8792\n",
      "\n",
      "\n",
      "Mejor resultado de accuracy obtenido: 0.8815000057220459\n"
     ]
    }
   ],
   "source": [
    "for i in range(3):\n",
    "    model= keras.models.Sequential([\n",
    "    keras.layers.Flatten(input_shape=[len(training_images[0]), len(training_images[1])]),\n",
    "    keras.layers.Dense(128, activation=tf.nn.relu),\n",
    "    keras.layers.Dense(128, activation=tf.nn.relu),\n",
    "    keras.layers.Dense(128, activation=tf.nn.relu),\n",
    "    # keras.layers.Dense(128, activation=tf.nn.relu),\n",
    "    keras.layers.Dense(len(np.unique(training_labels)), activation=tf.nn.softmax)\n",
    "    ])\n",
    "\n",
    "    model.compile(loss=\"sparse_categorical_crossentropy\",\n",
    "                optimizer= best_optimizer_tag,\n",
    "                metrics =[\"accuracy\"])\n",
    "\n",
    "    history = model.fit(training_images, training_labels, epochs=30, batch_size=32, callbacks=[callbacks], validation_data=(X_valid, y_valid))\n",
    "\n",
    "    resultado = model.evaluate(test_images, test_labels)\n",
    "\n",
    "\n",
    "    if mejor_resultado < resultado[1]:\n",
    "        mejor_resultado = resultado[1]\n",
    "    print(\"\\n\")\n",
    "    print(\"Mejor resultado de accuracy obtenido: {}\".format(mejor_resultado))"
   ]
  },
  {
   "cell_type": "markdown",
   "metadata": {},
   "source": [
    "#### FIN DEL CUADERNO"
   ]
  }
 ],
 "metadata": {
  "colab": {
   "provenance": []
  },
  "kernelspec": {
   "display_name": "Python 3 (ipykernel)",
   "language": "python",
   "name": "python3"
  },
  "language_info": {
   "codemirror_mode": {
    "name": "ipython",
    "version": 3
   },
   "file_extension": ".py",
   "mimetype": "text/x-python",
   "name": "python",
   "nbconvert_exporter": "python",
   "pygments_lexer": "ipython3",
   "version": "3.9.15"
  }
 },
 "nbformat": 4,
 "nbformat_minor": 1
}
