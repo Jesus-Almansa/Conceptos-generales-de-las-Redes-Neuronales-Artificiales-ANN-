{
 "cells": [
  {
   "cell_type": "markdown",
   "metadata": {
    "id": "iiDzBoKGwmMZ"
   },
   "source": [
    "# REDES NEURONALES\n",
    "\n",
    "---\n",
    "\n"
   ]
  },
  {
   "cell_type": "markdown",
   "metadata": {
    "id": "GeO2xVqBv1fx"
   },
   "source": [
    "## Introducción"
   ]
  },
  {
   "cell_type": "markdown",
   "metadata": {
    "id": "hhzeF2BVvvi7"
   },
   "source": [
    "\n",
    "\n",
    "En esta actividad vamos a utilizar una red neuronal para clasificar imágenes de prendas de ropa. Para ello, utilizaremos Keras con TensorFlow.\n",
    "\n",
    "El dataset a utilizar es Fashion MNIST, un problema sencillo con imágenes pequeñas de ropa, pero más interesante que el dataset de MNIST. Puedes consultar más información sobre el dataset en [este enlace](https://github.com/zalandoresearch/fashion-mnist).\n",
    "\n",
    "El código utilizado para contestar tiene que quedar claramente reflejado en el Notebook. Puedes crear nuevas celdas si así lo deseas para estructurar tu código y sus salidas. A la hora de entregar el notebook, **asegúrate de que los resultados de ejecutar tu código han quedado guardados**. Por ejemplo, a la hora de entrenar una red neuronal tiene que verse claramente un log de los resultados de cada epoch."
   ]
  },
  {
   "cell_type": "code",
   "execution_count": 12,
   "metadata": {
    "id": "gSHr268SwmMa"
   },
   "outputs": [],
   "source": [
    "import keras\n",
    "from keras.datasets import fashion_mnist\n",
    "from keras.models import Sequential\n",
    "from keras.layers import Dense\n",
    "import tensorflow as tf\n",
    "\n",
    "import os\n",
    "os.environ['TF_CPP_MIN_LOG_LEVEL'] = '2'\n",
    "\n",
    "import matplotlib.pyplot as plt"
   ]
  },
  {
   "cell_type": "markdown",
   "metadata": {
    "id": "zScMKU2OKSPD"
   },
   "source": [
    "En primer lugar vamos a importar el dataset Fashion MNIST (recordad que este es uno de los dataset de entranamiento que estan guardados en keras) que es el que vamos a utilizar en esta actividad:"
   ]
  },
  {
   "cell_type": "code",
   "execution_count": 13,
   "metadata": {
    "id": "4voG2hxxG4h3"
   },
   "outputs": [],
   "source": [
    "mnist = tf.keras.datasets.fashion_mnist"
   ]
  },
  {
   "cell_type": "markdown",
   "metadata": {
    "id": "JphLsCvgKrzb"
   },
   "source": [
    "Llamar a **load_data** en este dataset nos dará dos conjuntos de dos listas, estos serán los valores de entrenamiento y prueba para los gráficos que contienen las prendas de vestir y sus etiquetas.\n",
    "\n",
    "Nota: Aunque en esta actividad lo veis de esta forma, también lo vais a poder encontrar como 4 variables de esta forma: training_images, training_labels, test_images, test_labels = mnist.load_data()"
   ]
  },
  {
   "cell_type": "code",
   "execution_count": 14,
   "metadata": {
    "colab": {
     "base_uri": "https://localhost:8080/"
    },
    "id": "1muD4PHEG4h6",
    "outputId": "2f6beb46-3176-4adf-a64b-6dab9ea81bbe"
   },
   "outputs": [],
   "source": [
    "(training_images, training_labels), (test_images, test_labels) = mnist.load_data()"
   ]
  },
  {
   "cell_type": "markdown",
   "metadata": {
    "id": "ZWGpJqVVLT3Y"
   },
   "source": [
    "Antes de continuar vamos a dar un vistazo a nuestro dataset, para ello vamos a ver una imagen de entrenamiento y su etiqueta o clase."
   ]
  },
  {
   "cell_type": "code",
   "execution_count": 15,
   "metadata": {
    "colab": {
     "base_uri": "https://localhost:8080/",
     "height": 785
    },
    "id": "t5a5PlswG4h8",
    "outputId": "2edeb68d-fcba-4f20-c49a-f80a5c51b012"
   },
   "outputs": [],
   "source": [
    "import numpy as np\n",
    "np.set_printoptions(linewidth=200)\n",
    "import matplotlib.pyplot as plt\n"
   ]
  },
  {
   "cell_type": "code",
   "execution_count": 16,
   "metadata": {},
   "outputs": [
    {
     "name": "stdout",
     "output_type": "stream",
     "text": [
      "Label: 9\n"
     ]
    },
    {
     "data": {
      "text/plain": [
       "<matplotlib.image.AxesImage at 0x7f3a76d1aa40>"
      ]
     },
     "execution_count": 16,
     "metadata": {},
     "output_type": "execute_result"
    },
    {
     "data": {
      "image/png": "[encoded data removed]",
      "text/plain": [
       "<Figure size 640x480 with 1 Axes>"
      ]
     },
     "metadata": {},
     "output_type": "display_data"
    }
   ],
   "source": [
    "print(\"Label: {}\".format(training_labels[0]))\n",
    "plt.imshow(training_images[0], cmap=\"gray\") # recordad que siempre es preferible trabajar en blanco y negro"
   ]
  },
  {
   "cell_type": "code",
   "execution_count": 17,
   "metadata": {},
   "outputs": [
    {
     "name": "stdout",
     "output_type": "stream",
     "text": [
      "[[  0   0   0   0   0   0   0   0   0   0   0   0   0   0   0   0   0   0   0   0   0   0   0   0   0   0   0   0]\n",
      " [  0   0   0   0   0   0   0   0   0   0   0   0   0   0   0   0   0   0   0   0   0   0   0   0   0   0   0   0]\n",
      " [  0   0   0   0   0   0   0   0   0   0   0   0   0   0   0   0   0   0   0   0   0   0   0   0   0   0   0   0]\n",
      " [  0   0   0   0   0   0   0   0   0   0   0   0   1   0   0  13  73   0   0   1   4   0   0   0   0   1   1   0]\n",
      " [  0   0   0   0   0   0   0   0   0   0   0   0   3   0  36 136 127  62  54   0   0   0   1   3   4   0   0   3]\n",
      " [  0   0   0   0   0   0   0   0   0   0   0   0   6   0 102 204 176 134 144 123  23   0   0   0   0  12  10   0]\n",
      " [  0   0   0   0   0   0   0   0   0   0   0   0   0   0 155 236 207 178 107 156 161 109  64  23  77 130  72  15]\n",
      " [  0   0   0   0   0   0   0   0   0   0   0   1   0  69 207 223 218 216 216 163 127 121 122 146 141  88 172  66]\n",
      " [  0   0   0   0   0   0   0   0   0   1   1   1   0 200 232 232 233 229 223 223 215 213 164 127 123 196 229   0]\n",
      " [  0   0   0   0   0   0   0   0   0   0   0   0   0 183 225 216 223 228 235 227 224 222 224 221 223 245 173   0]\n",
      " [  0   0   0   0   0   0   0   0   0   0   0   0   0 193 228 218 213 198 180 212 210 211 213 223 220 243 202   0]\n",
      " [  0   0   0   0   0   0   0   0   0   1   3   0  12 219 220 212 218 192 169 227 208 218 224 212 226 197 209  52]\n",
      " [  0   0   0   0   0   0   0   0   0   0   6   0  99 244 222 220 218 203 198 221 215 213 222 220 245 119 167  56]\n",
      " [  0   0   0   0   0   0   0   0   0   4   0   0  55 236 228 230 228 240 232 213 218 223 234 217 217 209  92   0]\n",
      " [  0   0   1   4   6   7   2   0   0   0   0   0 237 226 217 223 222 219 222 221 216 223 229 215 218 255  77   0]\n",
      " [  0   3   0   0   0   0   0   0   0  62 145 204 228 207 213 221 218 208 211 218 224 223 219 215 224 244 159   0]\n",
      " [  0   0   0   0  18  44  82 107 189 228 220 222 217 226 200 205 211 230 224 234 176 188 250 248 233 238 215   0]\n",
      " [  0  57 187 208 224 221 224 208 204 214 208 209 200 159 245 193 206 223 255 255 221 234 221 211 220 232 246   0]\n",
      " [  3 202 228 224 221 211 211 214 205 205 205 220 240  80 150 255 229 221 188 154 191 210 204 209 222 228 225   0]\n",
      " [ 98 233 198 210 222 229 229 234 249 220 194 215 217 241  65  73 106 117 168 219 221 215 217 223 223 224 229  29]\n",
      " [ 75 204 212 204 193 205 211 225 216 185 197 206 198 213 240 195 227 245 239 223 218 212 209 222 220 221 230  67]\n",
      " [ 48 203 183 194 213 197 185 190 194 192 202 214 219 221 220 236 225 216 199 206 186 181 177 172 181 205 206 115]\n",
      " [  0 122 219 193 179 171 183 196 204 210 213 207 211 210 200 196 194 191 195 191 198 192 176 156 167 177 210  92]\n",
      " [  0   0  74 189 212 191 175 172 175 181 185 188 189 188 193 198 204 209 210 210 211 188 188 194 192 216 170   0]\n",
      " [  2   0   0   0  66 200 222 237 239 242 246 243 244 221 220 193 191 179 182 182 181 176 166 168  99  58   0   0]\n",
      " [  0   0   0   0   0   0   0  40  61  44  72  41  35   0   0   0   0   0   0   0   0   0   0   0   0   0   0   0]\n",
      " [  0   0   0   0   0   0   0   0   0   0   0   0   0   0   0   0   0   0   0   0   0   0   0   0   0   0   0   0]\n",
      " [  0   0   0   0   0   0   0   0   0   0   0   0   0   0   0   0   0   0   0   0   0   0   0   0   0   0   0   0]]\n"
     ]
    }
   ],
   "source": [
    "print(training_images[0])"
   ]
  },
  {
   "cell_type": "markdown",
   "metadata": {
    "id": "WCJvZx3MLucY"
   },
   "source": [
    "Habréis notado que todos los valores numericos están entre 0 y 255. Si estamos entrenando una red neuronal, una buena practica es transformar todos los valores entre 0 y 1, un proceso llamado \"normalización\" y afortunadamente en Python es fácil normalizar una lista. Lo puedes hacer de esta manera:"
   ]
  },
  {
   "cell_type": "code",
   "execution_count": 18,
   "metadata": {
    "id": "tojL1BmjG4h_"
   },
   "outputs": [],
   "source": [
    "training_images  = training_images / 255.0\n",
    "test_images = test_images / 255.0"
   ]
  },
  {
   "cell_type": "markdown",
   "metadata": {
    "id": "BaqXlSMBwmMg"
   },
   "source": [
    "## 1. Información sobre el dataset"
   ]
  },
  {
   "cell_type": "markdown",
   "metadata": {
    "id": "e0aer8ZZwmMh"
   },
   "source": [
    "Una vez tenemos los datos cargados en memoria, vamos a obtener información sobre los mismos."
   ]
  },
  {
   "cell_type": "markdown",
   "metadata": {
    "id": "E-im9PnEwmMh"
   },
   "source": [
    "**Pregunta 1.1 *(0.25 puntos)*** ¿Cuántas imágenes hay de *training* y de *test*? ¿Qué tamaño tienen las imágenes?"
   ]
  },
  {
   "cell_type": "code",
   "execution_count": 19,
   "metadata": {
    "id": "lvP0Y4SCwmMi"
   },
   "outputs": [
    {
     "name": "stdout",
     "output_type": "stream",
     "text": [
      "Number of images of the train set: 60000\n",
      "Number of images of the test set: 10000\n"
     ]
    }
   ],
   "source": [
    "print(\"Number of images of the train set: {}\".format(len(training_images)))\n",
    "print(\"Number of images of the test set: {}\".format(len(test_images)))"
   ]
  },
  {
   "cell_type": "markdown",
   "metadata": {},
   "source": [
    "Hay un total de 60000 imágenes en el set de entrenamiento y 10000 en el set de test."
   ]
  },
  {
   "cell_type": "code",
   "execution_count": 20,
   "metadata": {},
   "outputs": [
    {
     "data": {
      "text/plain": [
       "28"
      ]
     },
     "execution_count": 20,
     "metadata": {},
     "output_type": "execute_result"
    }
   ],
   "source": [
    "len(training_images[0])"
   ]
  },
  {
   "cell_type": "code",
   "execution_count": 21,
   "metadata": {},
   "outputs": [
    {
     "data": {
      "text/plain": [
       "((60000, 28, 28), (10000, 28, 28))"
      ]
     },
     "execution_count": 21,
     "metadata": {},
     "output_type": "execute_result"
    }
   ],
   "source": [
    "training_images.shape, test_images.shape"
   ]
  },
  {
   "cell_type": "code",
   "execution_count": 22,
   "metadata": {},
   "outputs": [
    {
     "data": {
      "text/plain": [
       "784"
      ]
     },
     "execution_count": 22,
     "metadata": {},
     "output_type": "execute_result"
    }
   ],
   "source": [
    "training_images[0].size"
   ]
  },
  {
   "cell_type": "markdown",
   "metadata": {
    "id": "Xwp5ljFKwmMj"
   },
   "source": [
    "*Podemos observar que las imágenes con las que estamos trabajando tienen dimensiones de 28x28 píxeles, con una totalidad de 784 píxeles por imagen*"
   ]
  },
  {
   "cell_type": "markdown",
   "metadata": {
    "id": "F2LsvfHOwmMk"
   },
   "source": [
    "**Pregunta 1.2 *(0.25 puntos)*** Realizar una exploración de las variables que contienen los datos. Describir en qué consiste un example del dataset (qué información se guarda en cada imagen) y describir qué contiene la información en y."
   ]
  },
  {
   "cell_type": "code",
   "execution_count": 23,
   "metadata": {
    "id": "3W5rzaGxwmMk"
   },
   "outputs": [
    {
     "data": {
      "text/plain": [
       "array([9, 0, 0, ..., 3, 0, 5], dtype=uint8)"
      ]
     },
     "execution_count": 23,
     "metadata": {},
     "output_type": "execute_result"
    }
   ],
   "source": [
    "training_labels"
   ]
  },
  {
   "cell_type": "code",
   "execution_count": 24,
   "metadata": {},
   "outputs": [
    {
     "data": {
      "text/plain": [
       "'Ankle boot'"
      ]
     },
     "execution_count": 24,
     "metadata": {},
     "output_type": "execute_result"
    }
   ],
   "source": [
    "class_names = [\"T-shirt/top\", \"Trouser\", \"Pullover\", \"Dress\", \"Coat\", \"Sandal\", \"Shirt\", \"Sneaker\", \"Bag\", \"Ankle boot\"]\n",
    "class_names[training_labels[0]]"
   ]
  },
  {
   "cell_type": "markdown",
   "metadata": {
    "id": "zaEWKFyvwmMm"
   },
   "source": [
    "*En las etiquetas del conjunto de datos, tanto de entrenamiento como de test, podemos ver qué tipo de prenda contiene cada imagen*"
   ]
  },
  {
   "cell_type": "markdown",
   "metadata": {
    "id": "dI3IAhOQ8zHi"
   },
   "source": [
    "## 2. Creación del Modelo"
   ]
  },
  {
   "cell_type": "markdown",
   "metadata": {
    "id": "yYUWWsszMAKt"
   },
   "source": [
    "Ahora vamos a definir el modelo, pero antes vamos a repasar algunos comandos y conceptos muy útiles:\n",
    "* **Sequential**: Eso define una SECUENCIA de capas en la red neuronal\n",
    "* **Dense**: Añade una capa de neuronas\n",
    "* **Flatten**: ¿Recuerdas cómo eran las imágenes cuando las imprimiste para poder verlas? Un cuadrado, Flatten toma ese cuadrado y lo convierte en un vector de una dimensión.\n",
    "\n",
    "Cada capa de neuronas necesita una función de activación. Normalmente se usa la función relu en las capas intermedias y softmax en la ultima capa (en problemas de clasificación de más de dos items)\n",
    "* **Relu** significa que \"Si X>0 devuelve X, si no, devuelve 0\", así que lo que hace es pasar sólo valores 0 o mayores a la siguiente capa de la red.\n",
    "* **Softmax** toma un conjunto de valores, y escoge el más grande."
   ]
  },
  {
   "cell_type": "markdown",
   "metadata": {
    "id": "QgBW1yE2MwPp"
   },
   "source": [
    " **Pregunta 2.1 (2 puntos)**. Utilizando Keras, y preparando los datos de X e y como fuera necesario, define y entrena una red neuronal que sea capaz de clasificar imágenes de Fashion MNIST con las siguientes características:\n",
    "\n",
    "* Una hidden layer de tamaño 128, utilizando unidades sigmoid\n",
    "Optimizador Adam.\n",
    "* Durante el entrenamiento, la red tiene que mostrar resultados de loss y accuracy por cada epoch.\n",
    "* La red debe entrenar durante 10 epochs y batch size de 64.\n",
    "* La última capa debe de ser una capa softmax.\n",
    "* Tu red tendría que ser capaz de superar fácilmente 80% de accuracy."
   ]
  },
  {
   "cell_type": "markdown",
   "metadata": {},
   "source": [
    "**Normalizamos los datos de validación para mejorar el accuracy del modelo**"
   ]
  },
  {
   "cell_type": "code",
   "execution_count": 25,
   "metadata": {},
   "outputs": [],
   "source": [
    "X_valid, X_train = training_images[:5000], training_images[5000:]\n",
    "y_valid, y_train = training_labels[:5000], training_labels[5000:]"
   ]
  },
  {
   "cell_type": "code",
   "execution_count": 26,
   "metadata": {},
   "outputs": [
    {
     "data": {
      "text/plain": [
       "array([9, 0, 0, ..., 3, 0, 5], dtype=uint8)"
      ]
     },
     "execution_count": 26,
     "metadata": {},
     "output_type": "execute_result"
    }
   ],
   "source": [
    "training_labels"
   ]
  },
  {
   "cell_type": "markdown",
   "metadata": {},
   "source": [
    "#### **Diseñamos la red neuronal**"
   ]
  },
  {
   "cell_type": "code",
   "execution_count": 27,
   "metadata": {
    "id": "aTaD2QXIORwu"
   },
   "outputs": [],
   "source": [
    "model= keras.models.Sequential([\n",
    "    keras.layers.Flatten(input_shape=[len(training_images[0]), len(training_images[1])]),\n",
    "    keras.layers.Dense(128, activation=\"relu\"),\n",
    "    keras.layers.Dense(len(np.unique(training_labels)), activation=\"softmax\")\n",
    "])"
   ]
  },
  {
   "cell_type": "code",
   "execution_count": 28,
   "metadata": {},
   "outputs": [
    {
     "name": "stdout",
     "output_type": "stream",
     "text": [
      "Model: \"sequential\"\n",
      "_________________________________________________________________\n",
      " Layer (type)                Output Shape              Param #   \n",
      "=================================================================\n",
      " flatten (Flatten)           (None, 784)               0         \n",
      "                                                                 \n",
      " dense (Dense)               (None, 128)               100480    \n",
      "                                                                 \n",
      " dense_1 (Dense)             (None, 10)                1290      \n",
      "                                                                 \n",
      "=================================================================\n",
      "Total params: 101,770\n",
      "Trainable params: 101,770\n",
      "Non-trainable params: 0\n",
      "_________________________________________________________________\n"
     ]
    }
   ],
   "source": [
    "model.summary()"
   ]
  },
  {
   "cell_type": "markdown",
   "metadata": {},
   "source": [
    "#### **Compilamos el modelo**"
   ]
  },
  {
   "cell_type": "code",
   "execution_count": 29,
   "metadata": {},
   "outputs": [],
   "source": [
    "model.compile(loss=\"sparse_categorical_crossentropy\",\n",
    "            optimizer= \"adam\",\n",
    "            metrics =[\"accuracy\"])"
   ]
  },
  {
   "cell_type": "markdown",
   "metadata": {},
   "source": [
    "#### **Entrenando y evaluando el modelo**"
   ]
  },
  {
   "cell_type": "code",
   "execution_count": 30,
   "metadata": {},
   "outputs": [
    {
     "name": "stdout",
     "output_type": "stream",
     "text": [
      "Epoch 1/10\n",
      "938/938 [==============================] - 4s 4ms/step - loss: 0.5195 - accuracy: 0.8188 - val_loss: 0.4038 - val_accuracy: 0.8598\n",
      "Epoch 2/10\n",
      "938/938 [==============================] - 3s 3ms/step - loss: 0.3873 - accuracy: 0.8628 - val_loss: 0.3482 - val_accuracy: 0.8780\n",
      "Epoch 3/10\n",
      "938/938 [==============================] - 3s 3ms/step - loss: 0.3498 - accuracy: 0.8747 - val_loss: 0.3227 - val_accuracy: 0.8804\n",
      "Epoch 4/10\n",
      "938/938 [==============================] - 3s 3ms/step - loss: 0.3209 - accuracy: 0.8842 - val_loss: 0.3025 - val_accuracy: 0.8892\n",
      "Epoch 5/10\n",
      "938/938 [==============================] - 3s 3ms/step - loss: 0.3033 - accuracy: 0.8893 - val_loss: 0.2990 - val_accuracy: 0.8910\n",
      "Epoch 6/10\n",
      "938/938 [==============================] - 3s 3ms/step - loss: 0.2868 - accuracy: 0.8955 - val_loss: 0.2601 - val_accuracy: 0.9058\n",
      "Epoch 7/10\n",
      "938/938 [==============================] - 3s 4ms/step - loss: 0.2764 - accuracy: 0.8990 - val_loss: 0.2512 - val_accuracy: 0.9044\n",
      "Epoch 8/10\n",
      "938/938 [==============================] - 4s 4ms/step - loss: 0.2628 - accuracy: 0.9028 - val_loss: 0.2492 - val_accuracy: 0.9100\n",
      "Epoch 9/10\n",
      "938/938 [==============================] - 4s 4ms/step - loss: 0.2556 - accuracy: 0.9053 - val_loss: 0.2259 - val_accuracy: 0.9164\n",
      "Epoch 10/10\n",
      "938/938 [==============================] - 4s 5ms/step - loss: 0.2455 - accuracy: 0.9086 - val_loss: 0.2265 - val_accuracy: 0.9142\n"
     ]
    }
   ],
   "source": [
    "history = model.fit(training_images, training_labels, epochs=10, batch_size=64, validation_data=(X_valid, y_valid))"
   ]
  },
  {
   "cell_type": "code",
   "execution_count": 31,
   "metadata": {},
   "outputs": [
    {
     "data": {
      "image/png": "[encoded data removed]",
      "text/plain": [
       "<Figure size 800x500 with 1 Axes>"
      ]
     },
     "metadata": {},
     "output_type": "display_data"
    }
   ],
   "source": [
    "import pandas as pd\n",
    "import matplotlib.pyplot as plt\n",
    "\n",
    "pd.DataFrame(history.history).plot(figsize=(8,5))\n",
    "plt.grid(True)\n",
    "plt.gca().set_ylim(0,1)\n",
    "plt.show()"
   ]
  },
  {
   "cell_type": "markdown",
   "metadata": {
    "id": "Bxr5hTKYOQnK"
   },
   "source": [
    "Para concluir el entrenamiento de la red neuronal, una buena práctica es evaluar el modelo para ver si la precisión de entrenamiento es real\n",
    "\n",
    "**pregunta 2.2 (0.5 puntos)**: Evalúa el modelo con las imágenes y etiquetas test."
   ]
  },
  {
   "cell_type": "code",
   "execution_count": 32,
   "metadata": {},
   "outputs": [
    {
     "name": "stdout",
     "output_type": "stream",
     "text": [
      "313/313 [==============================] - 1s 3ms/step - loss: 0.3296 - accuracy: 0.8821\n"
     ]
    },
    {
     "data": {
      "text/plain": [
       "[0.3296174108982086, 0.882099986076355]"
      ]
     },
     "execution_count": 32,
     "metadata": {},
     "output_type": "execute_result"
    }
   ],
   "source": [
    "model.evaluate(test_images, test_labels)"
   ]
  },
  {
   "cell_type": "markdown",
   "metadata": {
    "id": "ygMVnmSYO83U"
   },
   "source": [
    "\n",
    "## 3: Funcionamiento de las predicción de la red neuronal\n",
    "\n"
   ]
  },
  {
   "cell_type": "markdown",
   "metadata": {
    "id": "lMa-GR0Kvcqh"
   },
   "source": [
    "Ahora vamos a explorar el código con una serie de ejercicios para alcanzar un grado de comprensión mayor sobre las redes neuronales y su entrenamiento.\n",
    "\n",
    "Sigue los siguientes pasos: \n",
    "\n",
    "* Crea una variable llamada **classifications** para construir un clasificador con las imágenes de prueba, para ello puedes utilizar la función predict sobre el conjunto de test\n",
    "* Imprime con la función print la primera entrada en las clasificaciones. \n",
    "\n",
    "**pregunta 3.1 (0.25 puntos)**, el resultado al imprimirlo es un vector de números, \n",
    "* ¿Por qué crees que ocurre esto? ¿Qué representa este vector de números?\n",
    "\n",
    "**pregunta 3.2 (0.25 puntos)**\n",
    "* ¿Cúal es la clase de la primera entrada de la variable **classifications**? La respuesta puede ser un número o su etiqueta/clase equivalente."
   ]
  },
  {
   "cell_type": "code",
   "execution_count": 33,
   "metadata": {},
   "outputs": [
    {
     "name": "stdout",
     "output_type": "stream",
     "text": [
      "313/313 [==============================] - 1s 2ms/step\n"
     ]
    }
   ],
   "source": [
    "classificatios = model.predict(test_images)"
   ]
  },
  {
   "cell_type": "code",
   "execution_count": 34,
   "metadata": {
    "id": "b-mL-h4xQhCm"
   },
   "outputs": [
    {
     "data": {
      "text/plain": [
       "array([2.5880979e-06, 1.9694619e-08, 9.5957731e-09, 3.8337746e-09, 2.0701178e-07, 3.1987298e-03, 3.2653249e-06, 2.3212885e-02, 1.9574305e-05, 9.7356266e-01], dtype=float32)"
      ]
     },
     "execution_count": 34,
     "metadata": {},
     "output_type": "execute_result"
    }
   ],
   "source": [
    "classificatios[0]"
   ]
  },
  {
   "cell_type": "markdown",
   "metadata": {
    "id": "pvbVC9gaQhMY"
   },
   "source": [
    "Tu respuesta a la pregunta 3.1 aquí:"
   ]
  },
  {
   "cell_type": "markdown",
   "metadata": {},
   "source": [
    "*La función .predict() de keras aplicada al conjunto de test nos proporciona un array de con las probabilidades de que se trate de una categoría u otra. En este caso podemos observar como la etiqueta más probable es efectivamente la de la etiqueta número 9, \"ankle boot\"*"
   ]
  },
  {
   "cell_type": "markdown",
   "metadata": {
    "id": "oRWo-75tdgv0"
   },
   "source": [
    "Tu respuesta a la pregunta 3.2 aquí:"
   ]
  },
  {
   "cell_type": "code",
   "execution_count": 35,
   "metadata": {},
   "outputs": [],
   "source": [
    "# Hay que tener en cuenta que esta función está pensada para las predicciones del modelo\n",
    "def clase_mas_probable(i):\n",
    "    if i >= 0 and i < 10:\n",
    "        print(\"La clase más probable para la imagen número {} es {} con la etiqueta número {}\".format(i + 1, class_names[list(classificatios[i]).index(max(classificatios[i]))], list(classificatios[i]).index(max(classificatios[i]))))\n",
    "        plt.imshow(training_images[i], cmap=\"gray\")\n",
    "    else:\n",
    "        print(\"Not in the wardrobe\")\n",
    "    "
   ]
  },
  {
   "cell_type": "code",
   "execution_count": 36,
   "metadata": {},
   "outputs": [
    {
     "name": "stdout",
     "output_type": "stream",
     "text": [
      "La clase más probable para la imagen número 1 es Ankle boot con la etiqueta número 9\n"
     ]
    },
    {
     "data": {
      "image/png": "[encoded data removed]",
      "text/plain": [
       "<Figure size 640x480 with 1 Axes>"
      ]
     },
     "metadata": {},
     "output_type": "display_data"
    }
   ],
   "source": [
    "clase_mas_probable(0)"
   ]
  },
  {
   "cell_type": "code",
   "execution_count": 37,
   "metadata": {},
   "outputs": [
    {
     "data": {
      "text/plain": [
       "9"
      ]
     },
     "execution_count": 37,
     "metadata": {},
     "output_type": "execute_result"
    }
   ],
   "source": [
    "test_labels[0]"
   ]
  },
  {
   "cell_type": "code",
   "execution_count": 38,
   "metadata": {},
   "outputs": [
    {
     "data": {
      "text/plain": [
       "['T-shirt/top',\n",
       " 'Trouser',\n",
       " 'Pullover',\n",
       " 'Dress',\n",
       " 'Coat',\n",
       " 'Sandal',\n",
       " 'Shirt',\n",
       " 'Sneaker',\n",
       " 'Bag',\n",
       " 'Ankle boot']"
      ]
     },
     "execution_count": 38,
     "metadata": {},
     "output_type": "execute_result"
    }
   ],
   "source": [
    "class_names"
   ]
  },
  {
   "cell_type": "code",
   "execution_count": 39,
   "metadata": {},
   "outputs": [
    {
     "data": {
      "text/plain": [
       "'Ankle boot'"
      ]
     },
     "execution_count": 39,
     "metadata": {},
     "output_type": "execute_result"
    }
   ],
   "source": [
    "class_names[test_labels[0]]"
   ]
  },
  {
   "cell_type": "markdown",
   "metadata": {
    "id": "hiQ8qAzhRQ4L"
   },
   "source": [
    "## 4: Impacto variar el número de neuronas en las capas ocultas\n",
    "\n",
    "\n",
    "\n"
   ]
  },
  {
   "cell_type": "markdown",
   "metadata": {
    "id": "Lsqive4ivMF9"
   },
   "source": [
    "En este ejercicio vamos a experimentar con nuestra red neuronal cambiando el numero de neuronas por 512 y por 1024. Para ello, utiliza la red neuronal de la pregunta 1, y en su capa oculta cambia las 128 neuronas por:\n",
    "\n",
    "* **512 neuronas en la capa oculta\n",
    "* **1024 neuronas en la capa oculta\n",
    "\n",
    "Entrena la red en ambos casos."
   ]
  },
  {
   "cell_type": "markdown",
   "metadata": {},
   "source": [
    "#### 512 Neuronas"
   ]
  },
  {
   "cell_type": "code",
   "execution_count": 40,
   "metadata": {
    "id": "cdP8ZwuaUV93"
   },
   "outputs": [
    {
     "name": "stdout",
     "output_type": "stream",
     "text": [
      "Epoch 1/10\n",
      "938/938 [==============================] - 7s 7ms/step - loss: 0.4845 - accuracy: 0.8289 - val_loss: 0.3504 - val_accuracy: 0.8778\n",
      "Epoch 2/10\n",
      "938/938 [==============================] - 6s 6ms/step - loss: 0.3616 - accuracy: 0.8692 - val_loss: 0.3164 - val_accuracy: 0.8818\n",
      "Epoch 3/10\n",
      "938/938 [==============================] - 6s 6ms/step - loss: 0.3208 - accuracy: 0.8821 - val_loss: 0.2967 - val_accuracy: 0.8900\n",
      "Epoch 4/10\n",
      "938/938 [==============================] - 6s 6ms/step - loss: 0.2974 - accuracy: 0.8897 - val_loss: 0.2540 - val_accuracy: 0.9054\n",
      "Epoch 5/10\n",
      "938/938 [==============================] - 6s 7ms/step - loss: 0.2811 - accuracy: 0.8973 - val_loss: 0.2579 - val_accuracy: 0.9040\n",
      "Epoch 6/10\n",
      "938/938 [==============================] - 6s 6ms/step - loss: 0.2641 - accuracy: 0.9027 - val_loss: 0.2432 - val_accuracy: 0.9084\n",
      "Epoch 7/10\n",
      "938/938 [==============================] - 6s 7ms/step - loss: 0.2523 - accuracy: 0.9071 - val_loss: 0.2373 - val_accuracy: 0.9102\n",
      "Epoch 8/10\n",
      "938/938 [==============================] - 7s 7ms/step - loss: 0.2402 - accuracy: 0.9102 - val_loss: 0.2157 - val_accuracy: 0.9164\n",
      "Epoch 9/10\n",
      "938/938 [==============================] - 6s 6ms/step - loss: 0.2286 - accuracy: 0.9141 - val_loss: 0.2302 - val_accuracy: 0.9134\n",
      "Epoch 10/10\n",
      "938/938 [==============================] - 6s 6ms/step - loss: 0.2189 - accuracy: 0.9188 - val_loss: 0.2299 - val_accuracy: 0.9120\n"
     ]
    }
   ],
   "source": [
    "model= keras.models.Sequential([\n",
    "    keras.layers.Flatten(input_shape=[len(training_images[0]), len(training_images[1])]),\n",
    "    keras.layers.Dense(512, activation=\"relu\"),\n",
    "    keras.layers.Dense(len(np.unique(training_labels)), activation=\"softmax\")\n",
    "])\n",
    "\n",
    "model.compile(loss=\"sparse_categorical_crossentropy\",\n",
    "            optimizer= \"adam\",\n",
    "            metrics =[\"accuracy\"])\n",
    "\n",
    "history = model.fit(training_images, training_labels, epochs=10, batch_size=64, validation_data=(X_valid, y_valid))"
   ]
  },
  {
   "cell_type": "code",
   "execution_count": 41,
   "metadata": {},
   "outputs": [
    {
     "name": "stdout",
     "output_type": "stream",
     "text": [
      "313/313 [==============================] - 1s 3ms/step - loss: 0.3565 - accuracy: 0.8774\n"
     ]
    },
    {
     "data": {
      "text/plain": [
       "[0.3564845025539398, 0.8773999810218811]"
      ]
     },
     "execution_count": 41,
     "metadata": {},
     "output_type": "execute_result"
    }
   ],
   "source": [
    "model.evaluate(test_images, test_labels)"
   ]
  },
  {
   "cell_type": "code",
   "execution_count": 42,
   "metadata": {},
   "outputs": [
    {
     "name": "stdout",
     "output_type": "stream",
     "text": [
      "313/313 [==============================] - 1s 2ms/step\n"
     ]
    }
   ],
   "source": [
    "classificatios = model.predict(test_images)"
   ]
  },
  {
   "cell_type": "code",
   "execution_count": 43,
   "metadata": {},
   "outputs": [
    {
     "name": "stdout",
     "output_type": "stream",
     "text": [
      "La clase más probable para la imagen número 1 es Ankle boot con la etiqueta número 9\n"
     ]
    },
    {
     "data": {
      "image/png": "[encoded data removed]",
      "text/plain": [
       "<Figure size 640x480 with 1 Axes>"
      ]
     },
     "metadata": {},
     "output_type": "display_data"
    }
   ],
   "source": [
    "clase_mas_probable(0)"
   ]
  },
  {
   "cell_type": "markdown",
   "metadata": {},
   "source": [
    "#### 1024 Neuronas"
   ]
  },
  {
   "cell_type": "code",
   "execution_count": 44,
   "metadata": {},
   "outputs": [
    {
     "name": "stdout",
     "output_type": "stream",
     "text": [
      "Epoch 1/10\n",
      "938/938 [==============================] - 10s 10ms/step - loss: 0.4741 - accuracy: 0.8316 - val_loss: 0.3407 - val_accuracy: 0.8784\n",
      "Epoch 2/10\n",
      "938/938 [==============================] - 9s 10ms/step - loss: 0.3579 - accuracy: 0.8697 - val_loss: 0.3205 - val_accuracy: 0.8836\n",
      "Epoch 3/10\n",
      "938/938 [==============================] - 9s 10ms/step - loss: 0.3219 - accuracy: 0.8816 - val_loss: 0.2759 - val_accuracy: 0.8968\n",
      "Epoch 4/10\n",
      "938/938 [==============================] - 9s 10ms/step - loss: 0.2951 - accuracy: 0.8898 - val_loss: 0.2775 - val_accuracy: 0.8976\n",
      "Epoch 5/10\n",
      "938/938 [==============================] - 9s 10ms/step - loss: 0.2793 - accuracy: 0.8960 - val_loss: 0.2629 - val_accuracy: 0.8970\n",
      "Epoch 6/10\n",
      "938/938 [==============================] - 9s 10ms/step - loss: 0.2608 - accuracy: 0.9027 - val_loss: 0.2310 - val_accuracy: 0.9112\n",
      "Epoch 7/10\n",
      "938/938 [==============================] - 9s 10ms/step - loss: 0.2509 - accuracy: 0.9065 - val_loss: 0.2301 - val_accuracy: 0.9146\n",
      "Epoch 8/10\n",
      "938/938 [==============================] - 9s 10ms/step - loss: 0.2384 - accuracy: 0.9102 - val_loss: 0.2210 - val_accuracy: 0.9168\n",
      "Epoch 9/10\n",
      "938/938 [==============================] - 9s 10ms/step - loss: 0.2248 - accuracy: 0.9160 - val_loss: 0.2031 - val_accuracy: 0.9228\n",
      "Epoch 10/10\n",
      "938/938 [==============================] - 9s 10ms/step - loss: 0.2182 - accuracy: 0.9187 - val_loss: 0.2068 - val_accuracy: 0.9216\n"
     ]
    }
   ],
   "source": [
    "model= keras.models.Sequential([\n",
    "    keras.layers.Flatten(input_shape=[len(training_images[0]), len(training_images[1])]),\n",
    "    keras.layers.Dense(1024, activation=\"relu\"),\n",
    "    keras.layers.Dense(len(np.unique(training_labels)), activation=\"softmax\")\n",
    "])\n",
    "\n",
    "model.compile(loss=\"sparse_categorical_crossentropy\",\n",
    "            optimizer= \"adam\",\n",
    "            metrics =[\"accuracy\"])\n",
    "\n",
    "history = model.fit(training_images, training_labels, epochs=10, batch_size=64, validation_data=(X_valid, y_valid))"
   ]
  },
  {
   "cell_type": "code",
   "execution_count": 45,
   "metadata": {},
   "outputs": [
    {
     "name": "stdout",
     "output_type": "stream",
     "text": [
      "313/313 [==============================] - 1s 3ms/step - loss: 0.3277 - accuracy: 0.8862\n"
     ]
    },
    {
     "data": {
      "text/plain": [
       "[0.32770323753356934, 0.8862000107765198]"
      ]
     },
     "execution_count": 45,
     "metadata": {},
     "output_type": "execute_result"
    }
   ],
   "source": [
    "model.evaluate(test_images, test_labels)"
   ]
  },
  {
   "cell_type": "code",
   "execution_count": 46,
   "metadata": {},
   "outputs": [
    {
     "name": "stdout",
     "output_type": "stream",
     "text": [
      "313/313 [==============================] - 1s 2ms/step\n"
     ]
    }
   ],
   "source": [
    "classificatios = model.predict(test_images)"
   ]
  },
  {
   "cell_type": "markdown",
   "metadata": {
    "id": "wG0h2HL-Uj93"
   },
   "source": [
    "**pregunta 4.1 (0.5 puntos)**: ¿Cuál es el impacto que tiene la red neuronal? "
   ]
  },
  {
   "cell_type": "markdown",
   "metadata": {
    "id": "AkZYq4xBvnrS"
   },
   "source": [
    "*Podemos observar una ínfima mejora en el modelo y un tiempo de ejecución superior, pasando de tardar 39 segundos a casi 60. No merece la pena aumentar el número de neuronas dentro de la misma capa para este problema en concreto.*"
   ]
  },
  {
   "cell_type": "markdown",
   "metadata": {},
   "source": [
    "Si ahora entrenais el modelo de esta forma (con 512 y 1024 neuronas en la capa oculta) y volveis a ejecutar el predictor guardado en la variable **classifications**, escribir el código del clasificador del ejercicio 1 de nuevo e imprimid el primer objeto guardado en la variable classifications."
   ]
  },
  {
   "cell_type": "code",
   "execution_count": 47,
   "metadata": {
    "id": "RdJHl3V-G4iS"
   },
   "outputs": [
    {
     "name": "stdout",
     "output_type": "stream",
     "text": [
      "La clase más probable para la imagen número 1 es Ankle boot con la etiqueta número 9\n"
     ]
    },
    {
     "data": {
      "image/png": "[encoded data removed]",
      "text/plain": [
       "<Figure size 640x480 with 1 Axes>"
      ]
     },
     "metadata": {},
     "output_type": "display_data"
    }
   ],
   "source": [
    "clase_mas_probable(0)"
   ]
  },
  {
   "cell_type": "markdown",
   "metadata": {
    "id": "b-NpUI9EVkVz"
   },
   "source": [
    "\n",
    "**pregunta 4.2 (0.25 puntos)**: \n",
    "\n",
    "* ¿En qué clase está clasificado ahora la primera prenda de vestir de la variable classifications?\n",
    "\n",
    "**pregunta 4.3 (0.25 puntos)**: \n",
    "\n",
    "* ¿Por qué crees que ha ocurrido esto?"
   ]
  },
  {
   "cell_type": "markdown",
   "metadata": {
    "id": "P3NfwdOGZcAa"
   },
   "source": [
    "Tu respuesta a la pregunta 4.2 aquí:"
   ]
  },
  {
   "cell_type": "markdown",
   "metadata": {},
   "source": [
    "*La primera prenda de vestir la clasifica correctamente como un Ankle boot*"
   ]
  },
  {
   "cell_type": "markdown",
   "metadata": {
    "id": "nFmfpxE1ZcJx"
   },
   "source": [
    "Tu respuesta a la pregunta 4.3 aquí:"
   ]
  },
  {
   "cell_type": "markdown",
   "metadata": {},
   "source": [
    "*Tanto con 512 como 1024 neuronas en la capa oculta podemos ver que el modelo predice que la primera imagen del set de test es un Ankle boot. Esto es así porque con la cantidad y sencillez de los datos con los que estamos trabajando, aumentar el número de nueronas de la capa oculta no mejora practicamente nada el resultado del modelo*"
   ]
  },
  {
   "cell_type": "markdown",
   "metadata": {
    "id": "59eM76O1YekZ"
   },
   "source": [
    "## 5: Capa Flatten\n",
    "\n",
    "\n"
   ]
  },
  {
   "cell_type": "markdown",
   "metadata": {
    "id": "a6LGnSxBu-ww"
   },
   "source": [
    "En este ejercicio vamos a ver que ocurre cuando quitamos la capa flatten, para ello, escribe la red neuronal de la pregunta 1 y no pongas la capa Flatten.\n",
    "\n",
    "**pregunta 5 (0.5 puntos):** ¿Puedes explicar a qué se debe el error que da?"
   ]
  },
  {
   "cell_type": "code",
   "execution_count": 2,
   "metadata": {
    "id": "ecfEVKEuG4iU"
   },
   "outputs": [
    {
     "ename": "NameError",
     "evalue": "name 'keras' is not defined",
     "output_type": "error",
     "traceback": [
      "\u001b[0;31m---------------------------------------------------------------------------\u001b[0m",
      "\u001b[0;31mNameError\u001b[0m                                 Traceback (most recent call last)",
      "Cell \u001b[0;32mIn[2], line 1\u001b[0m\n\u001b[0;32m----> 1\u001b[0m model\u001b[39m=\u001b[39m keras\u001b[39m.\u001b[39mmodels\u001b[39m.\u001b[39mSequential([\n\u001b[1;32m      2\u001b[0m     \u001b[39m# keras.layers.Flatten(input_shape=[len(training_images[0]), len(training_images[1])]),\u001b[39;00m\n\u001b[1;32m      3\u001b[0m     keras\u001b[39m.\u001b[39mlayers\u001b[39m.\u001b[39mDense(\u001b[39m128\u001b[39m, activation\u001b[39m=\u001b[39m\u001b[39m\"\u001b[39m\u001b[39mrelu\u001b[39m\u001b[39m\"\u001b[39m),\n\u001b[1;32m      4\u001b[0m     keras\u001b[39m.\u001b[39mlayers\u001b[39m.\u001b[39mDense(\u001b[39mlen\u001b[39m(np\u001b[39m.\u001b[39munique(training_labels)), activation\u001b[39m=\u001b[39m\u001b[39m\"\u001b[39m\u001b[39msoftmax\u001b[39m\u001b[39m\"\u001b[39m)\n\u001b[1;32m      5\u001b[0m ])\n\u001b[1;32m      7\u001b[0m model\u001b[39m.\u001b[39mcompile(loss\u001b[39m=\u001b[39m\u001b[39m\"\u001b[39m\u001b[39msparse_categorical_crossentropy\u001b[39m\u001b[39m\"\u001b[39m,\n\u001b[1;32m      8\u001b[0m             optimizer\u001b[39m=\u001b[39m \u001b[39m\"\u001b[39m\u001b[39madam\u001b[39m\u001b[39m\"\u001b[39m,\n\u001b[1;32m      9\u001b[0m             metrics \u001b[39m=\u001b[39m[\u001b[39m\"\u001b[39m\u001b[39maccuracy\u001b[39m\u001b[39m\"\u001b[39m])\n\u001b[1;32m     11\u001b[0m history \u001b[39m=\u001b[39m model\u001b[39m.\u001b[39mfit(training_images, training_labels, epochs\u001b[39m=\u001b[39m\u001b[39m10\u001b[39m, batch_size\u001b[39m=\u001b[39m\u001b[39m64\u001b[39m, validation_data\u001b[39m=\u001b[39m(X_valid, y_valid))\n",
      "\u001b[0;31mNameError\u001b[0m: name 'keras' is not defined"
     ]
    }
   ],
   "source": [
    "model= keras.models.Sequential([\n",
    "    # keras.layers.Flatten(input_shape=[len(training_images[0]), len(training_images[1])]),\n",
    "    keras.layers.Dense(128, activation=\"relu\"),\n",
    "    keras.layers.Dense(len(np.unique(training_labels)), activation=\"softmax\")\n",
    "])\n",
    "\n",
    "model.compile(loss=\"sparse_categorical_crossentropy\",\n",
    "            optimizer= \"adam\",\n",
    "            metrics =[\"accuracy\"])\n",
    "\n",
    "history = model.fit(training_images, training_labels, epochs=10, batch_size=64, validation_data=(X_valid, y_valid))"
   ]
  },
  {
   "cell_type": "markdown",
   "metadata": {
    "id": "-aNmrkkOZN6D"
   },
   "source": [
    "Tu respuesta a la pregunta 5 aquí:"
   ]
  },
  {
   "cell_type": "markdown",
   "metadata": {},
   "source": [
    "*El modelo fracasa en entrenar con los datos porque la capa de entrada no es unidimensional. Necesitamos .Flatten() para convertir los píxeles de la imagen, que consta de una matriz bidimiensional de 28x28, en otra matriz unidimensional de 784x1*"
   ]
  },
  {
   "cell_type": "markdown",
   "metadata": {
    "id": "f37cIr81ZYJj"
   },
   "source": [
    "## 6: Número de neuronas de la capa de salida\n"
   ]
  },
  {
   "cell_type": "markdown",
   "metadata": {
    "id": "Zk1xYVAQu0wN"
   },
   "source": [
    "Considerad la capa final, la de salida de la red neuronal de la pregunta 1.\n",
    "\n",
    "**pregunta 6.1 (0.25 puntos)**: ¿Por qué son 10 las neuronas de la última capa?\n",
    "\n",
    "**pregunta 6.2 (0.25 puntos)**: ¿Qué pasaría si tuvieras una cantidad diferente a 10? \n",
    "\n",
    "Por ejemplo, intenta entrenar la red con 5, para ello utiliza la red neuronal de la pregunta 1 y cambia a 5 el número de neuronas en la última capa."
   ]
  },
  {
   "cell_type": "code",
   "execution_count": 1,
   "metadata": {
    "id": "FhbZkppYZOCS"
   },
   "outputs": [
    {
     "ename": "NameError",
     "evalue": "name 'keras' is not defined",
     "output_type": "error",
     "traceback": [
      "\u001b[0;31m---------------------------------------------------------------------------\u001b[0m",
      "\u001b[0;31mNameError\u001b[0m                                 Traceback (most recent call last)",
      "Cell \u001b[0;32mIn[1], line 1\u001b[0m\n\u001b[0;32m----> 1\u001b[0m model\u001b[39m=\u001b[39m keras\u001b[39m.\u001b[39mmodels\u001b[39m.\u001b[39mSequential([\n\u001b[1;32m      2\u001b[0m     keras\u001b[39m.\u001b[39mlayers\u001b[39m.\u001b[39mFlatten(input_shape\u001b[39m=\u001b[39m[\u001b[39mlen\u001b[39m(training_images[\u001b[39m0\u001b[39m]), \u001b[39mlen\u001b[39m(training_images[\u001b[39m1\u001b[39m])]),\n\u001b[1;32m      3\u001b[0m     keras\u001b[39m.\u001b[39mlayers\u001b[39m.\u001b[39mDense(\u001b[39m128\u001b[39m, activation\u001b[39m=\u001b[39m\u001b[39m\"\u001b[39m\u001b[39mrelu\u001b[39m\u001b[39m\"\u001b[39m),\n\u001b[1;32m      4\u001b[0m     keras\u001b[39m.\u001b[39mlayers\u001b[39m.\u001b[39mDense(\u001b[39m5\u001b[39m, activation\u001b[39m=\u001b[39m\u001b[39m\"\u001b[39m\u001b[39msoftmax\u001b[39m\u001b[39m\"\u001b[39m)\n\u001b[1;32m      5\u001b[0m ])\n\u001b[1;32m      7\u001b[0m model\u001b[39m.\u001b[39mcompile(loss\u001b[39m=\u001b[39m\u001b[39m\"\u001b[39m\u001b[39msparse_categorical_crossentropy\u001b[39m\u001b[39m\"\u001b[39m,\n\u001b[1;32m      8\u001b[0m             optimizer\u001b[39m=\u001b[39m \u001b[39m\"\u001b[39m\u001b[39madam\u001b[39m\u001b[39m\"\u001b[39m,\n\u001b[1;32m      9\u001b[0m             metrics \u001b[39m=\u001b[39m[\u001b[39m\"\u001b[39m\u001b[39maccuracy\u001b[39m\u001b[39m\"\u001b[39m])\n\u001b[1;32m     11\u001b[0m history \u001b[39m=\u001b[39m model\u001b[39m.\u001b[39mfit(training_images, training_labels, epochs\u001b[39m=\u001b[39m\u001b[39m10\u001b[39m, batch_size\u001b[39m=\u001b[39m\u001b[39m64\u001b[39m, validation_data\u001b[39m=\u001b[39m(X_valid, y_valid))\n",
      "\u001b[0;31mNameError\u001b[0m: name 'keras' is not defined"
     ]
    }
   ],
   "source": [
    "model= keras.models.Sequential([\n",
    "    keras.layers.Flatten(input_shape=[len(training_images[0]), len(training_images[1])]),\n",
    "    keras.layers.Dense(128, activation=\"relu\"),\n",
    "    keras.layers.Dense(5, activation=\"softmax\")\n",
    "])\n",
    "\n",
    "model.compile(loss=\"sparse_categorical_crossentropy\",\n",
    "            optimizer= \"adam\",\n",
    "            metrics =[\"accuracy\"])\n",
    "\n",
    "history = model.fit(training_images, training_labels, epochs=10, batch_size=64, validation_data=(X_valid, y_valid))"
   ]
  },
  {
   "cell_type": "markdown",
   "metadata": {
    "id": "SLsQcq-6aUoD"
   },
   "source": [
    "Tu respuestas a la pregunta 6.1 aquí:"
   ]
  },
  {
   "cell_type": "markdown",
   "metadata": {},
   "source": [
    "*En la capa de salida necesitamos tantas neuronas como clases vayamos a predecir. Por eso al haber 10 clases necesitaremos 10 neuronas*"
   ]
  },
  {
   "cell_type": "markdown",
   "metadata": {
    "id": "J1f_7ZFeaUu6"
   },
   "source": [
    "Tu respuestas a la pregunta 6.2 aquí:"
   ]
  },
  {
   "cell_type": "markdown",
   "metadata": {},
   "source": [
    "*Al tener un número de neuronas diferente al número de clases, el modelo simplemente sería incapaz de entrenar y aprender*"
   ]
  },
  {
   "cell_type": "markdown",
   "metadata": {
    "id": "HNIBCkshaf2y"
   },
   "source": [
    "## 7: Aumento de epoch y su efecto en la red neuronal\n"
   ]
  },
  {
   "cell_type": "markdown",
   "metadata": {
    "id": "Yg8tTqYPuwGc"
   },
   "source": [
    "En este ejercicio vamos a ver el impacto de aumentar los epoch en el entrenamiento. Usando la red neuronal de la pregunta 1:\n",
    "\n",
    "**pregunta 7.1 (0.15 puntos)**\n",
    "* Intentad 15 epoch para su entrenamiento, probablemente obtendras un modelo con una pérdida mucho mejor que el que tiene 5."
   ]
  },
  {
   "cell_type": "code",
   "execution_count": 50,
   "metadata": {
    "id": "Cb5vk_imG4iZ"
   },
   "outputs": [
    {
     "name": "stdout",
     "output_type": "stream",
     "text": [
      "Epoch 1/15\n",
      "938/938 [==============================] - 4s 3ms/step - loss: 0.5183 - accuracy: 0.8198 - val_loss: 0.3875 - val_accuracy: 0.8712\n",
      "Epoch 2/15\n",
      "938/938 [==============================] - 3s 3ms/step - loss: 0.3853 - accuracy: 0.8633 - val_loss: 0.3548 - val_accuracy: 0.8704\n",
      "Epoch 3/15\n",
      "938/938 [==============================] - 3s 3ms/step - loss: 0.3461 - accuracy: 0.8755 - val_loss: 0.3205 - val_accuracy: 0.8832\n",
      "Epoch 4/15\n",
      "938/938 [==============================] - 3s 3ms/step - loss: 0.3217 - accuracy: 0.8840 - val_loss: 0.2836 - val_accuracy: 0.8954\n",
      "Epoch 5/15\n",
      "938/938 [==============================] - 3s 3ms/step - loss: 0.3037 - accuracy: 0.8888 - val_loss: 0.2696 - val_accuracy: 0.9014\n",
      "Epoch 6/15\n",
      "938/938 [==============================] - 3s 3ms/step - loss: 0.2882 - accuracy: 0.8949 - val_loss: 0.2628 - val_accuracy: 0.9052\n",
      "Epoch 7/15\n",
      "938/938 [==============================] - 3s 3ms/step - loss: 0.2737 - accuracy: 0.8989 - val_loss: 0.2361 - val_accuracy: 0.9156\n",
      "Epoch 8/15\n",
      "938/938 [==============================] - 3s 3ms/step - loss: 0.2633 - accuracy: 0.9021 - val_loss: 0.2465 - val_accuracy: 0.9128\n",
      "Epoch 9/15\n",
      "938/938 [==============================] - 3s 3ms/step - loss: 0.2546 - accuracy: 0.9061 - val_loss: 0.2279 - val_accuracy: 0.9120\n",
      "Epoch 10/15\n",
      "938/938 [==============================] - 3s 3ms/step - loss: 0.2451 - accuracy: 0.9095 - val_loss: 0.2294 - val_accuracy: 0.9138\n",
      "Epoch 11/15\n",
      "938/938 [==============================] - 3s 3ms/step - loss: 0.2360 - accuracy: 0.9117 - val_loss: 0.2095 - val_accuracy: 0.9204\n",
      "Epoch 12/15\n",
      "938/938 [==============================] - 3s 3ms/step - loss: 0.2282 - accuracy: 0.9153 - val_loss: 0.2062 - val_accuracy: 0.9210\n",
      "Epoch 13/15\n",
      "938/938 [==============================] - 3s 3ms/step - loss: 0.2207 - accuracy: 0.9189 - val_loss: 0.1966 - val_accuracy: 0.9270\n",
      "Epoch 14/15\n",
      "938/938 [==============================] - 3s 3ms/step - loss: 0.2156 - accuracy: 0.9197 - val_loss: 0.1888 - val_accuracy: 0.9276\n",
      "Epoch 15/15\n",
      "938/938 [==============================] - 3s 3ms/step - loss: 0.2101 - accuracy: 0.9213 - val_loss: 0.1910 - val_accuracy: 0.9290\n",
      "313/313 [==============================] - 1s 2ms/step - loss: 0.3407 - accuracy: 0.8835\n"
     ]
    },
    {
     "data": {
      "text/plain": [
       "[0.34068775177001953, 0.8834999799728394]"
      ]
     },
     "execution_count": 50,
     "metadata": {},
     "output_type": "execute_result"
    }
   ],
   "source": [
    "model= keras.models.Sequential([\n",
    "    keras.layers.Flatten(input_shape=[len(training_images[0]), len(training_images[1])]),\n",
    "    keras.layers.Dense(128, activation=\"relu\"),\n",
    "    keras.layers.Dense(len(np.unique(training_labels)), activation=\"softmax\")\n",
    "])\n",
    "\n",
    "model.compile(loss=\"sparse_categorical_crossentropy\",\n",
    "            optimizer= \"adam\",\n",
    "            metrics =[\"accuracy\"])\n",
    "\n",
    "history = model.fit(training_images, training_labels, epochs=15, batch_size=64, validation_data=(X_valid, y_valid))\n",
    "\n",
    "model.evaluate(test_images, test_labels)"
   ]
  },
  {
   "cell_type": "markdown",
   "metadata": {},
   "source": [
    "**pregunta 7.2 (0.15 puntos)**\n",
    "* Intenta ahora con 30 epoch para su entrenamiento, podrás ver que el valor de la pérdida deja de disminuir, y a veces aumenta."
   ]
  },
  {
   "cell_type": "code",
   "execution_count": 51,
   "metadata": {
    "id": "I9jQ26Gda5cv"
   },
   "outputs": [
    {
     "name": "stdout",
     "output_type": "stream",
     "text": [
      "Epoch 1/30\n",
      "938/938 [==============================] - 4s 3ms/step - loss: 0.5232 - accuracy: 0.8187 - val_loss: 0.4031 - val_accuracy: 0.8638\n",
      "Epoch 2/30\n",
      "938/938 [==============================] - 3s 3ms/step - loss: 0.3937 - accuracy: 0.8603 - val_loss: 0.3343 - val_accuracy: 0.8834\n",
      "Epoch 3/30\n",
      "938/938 [==============================] - 3s 3ms/step - loss: 0.3521 - accuracy: 0.8724 - val_loss: 0.3180 - val_accuracy: 0.8860\n",
      "Epoch 4/30\n",
      "938/938 [==============================] - 3s 3ms/step - loss: 0.3257 - accuracy: 0.8824 - val_loss: 0.3032 - val_accuracy: 0.8866\n",
      "Epoch 5/30\n",
      "938/938 [==============================] - 3s 3ms/step - loss: 0.3068 - accuracy: 0.8881 - val_loss: 0.2729 - val_accuracy: 0.9008\n",
      "Epoch 6/30\n",
      "938/938 [==============================] - 3s 3ms/step - loss: 0.2929 - accuracy: 0.8935 - val_loss: 0.2593 - val_accuracy: 0.9038\n",
      "Epoch 7/30\n",
      "938/938 [==============================] - 3s 3ms/step - loss: 0.2802 - accuracy: 0.8975 - val_loss: 0.2524 - val_accuracy: 0.9094\n",
      "Epoch 8/30\n",
      "938/938 [==============================] - 3s 3ms/step - loss: 0.2689 - accuracy: 0.9004 - val_loss: 0.2546 - val_accuracy: 0.9054\n",
      "Epoch 9/30\n",
      "938/938 [==============================] - 3s 3ms/step - loss: 0.2589 - accuracy: 0.9044 - val_loss: 0.2536 - val_accuracy: 0.9028\n",
      "Epoch 10/30\n",
      "938/938 [==============================] - 3s 3ms/step - loss: 0.2499 - accuracy: 0.9079 - val_loss: 0.2308 - val_accuracy: 0.9134\n",
      "Epoch 11/30\n",
      "938/938 [==============================] - 3s 3ms/step - loss: 0.2422 - accuracy: 0.9099 - val_loss: 0.2389 - val_accuracy: 0.9108\n",
      "Epoch 12/30\n",
      "938/938 [==============================] - 3s 3ms/step - loss: 0.2343 - accuracy: 0.9132 - val_loss: 0.2171 - val_accuracy: 0.9190\n",
      "Epoch 13/30\n",
      "938/938 [==============================] - 3s 3ms/step - loss: 0.2284 - accuracy: 0.9163 - val_loss: 0.2146 - val_accuracy: 0.9218\n",
      "Epoch 14/30\n",
      "938/938 [==============================] - 3s 3ms/step - loss: 0.2193 - accuracy: 0.9190 - val_loss: 0.2008 - val_accuracy: 0.9256\n",
      "Epoch 15/30\n",
      "938/938 [==============================] - 3s 3ms/step - loss: 0.2140 - accuracy: 0.9201 - val_loss: 0.1988 - val_accuracy: 0.9226\n",
      "Epoch 16/30\n",
      "938/938 [==============================] - 3s 3ms/step - loss: 0.2084 - accuracy: 0.9225 - val_loss: 0.1955 - val_accuracy: 0.9250\n",
      "Epoch 17/30\n",
      "938/938 [==============================] - 3s 3ms/step - loss: 0.2009 - accuracy: 0.9252 - val_loss: 0.1861 - val_accuracy: 0.9302\n",
      "Epoch 18/30\n",
      "938/938 [==============================] - 3s 3ms/step - loss: 0.1967 - accuracy: 0.9270 - val_loss: 0.1925 - val_accuracy: 0.9290\n",
      "Epoch 19/30\n",
      "938/938 [==============================] - 3s 3ms/step - loss: 0.1926 - accuracy: 0.9277 - val_loss: 0.1936 - val_accuracy: 0.9280\n",
      "Epoch 20/30\n",
      "938/938 [==============================] - 3s 3ms/step - loss: 0.1862 - accuracy: 0.9314 - val_loss: 0.1877 - val_accuracy: 0.9292\n",
      "Epoch 21/30\n",
      "938/938 [==============================] - 3s 3ms/step - loss: 0.1828 - accuracy: 0.9319 - val_loss: 0.1592 - val_accuracy: 0.9404\n",
      "Epoch 22/30\n",
      "938/938 [==============================] - 3s 3ms/step - loss: 0.1774 - accuracy: 0.9335 - val_loss: 0.1596 - val_accuracy: 0.9418\n",
      "Epoch 23/30\n",
      "938/938 [==============================] - 3s 3ms/step - loss: 0.1718 - accuracy: 0.9355 - val_loss: 0.1514 - val_accuracy: 0.9428\n",
      "Epoch 24/30\n",
      "938/938 [==============================] - 3s 3ms/step - loss: 0.1693 - accuracy: 0.9364 - val_loss: 0.1650 - val_accuracy: 0.9384\n",
      "Epoch 25/30\n",
      "938/938 [==============================] - 3s 3ms/step - loss: 0.1667 - accuracy: 0.9378 - val_loss: 0.1448 - val_accuracy: 0.9466\n",
      "Epoch 26/30\n",
      "938/938 [==============================] - 3s 3ms/step - loss: 0.1599 - accuracy: 0.9408 - val_loss: 0.1459 - val_accuracy: 0.9428\n",
      "Epoch 27/30\n",
      "938/938 [==============================] - 3s 3ms/step - loss: 0.1583 - accuracy: 0.9412 - val_loss: 0.1545 - val_accuracy: 0.9406\n",
      "Epoch 28/30\n",
      "938/938 [==============================] - 3s 3ms/step - loss: 0.1554 - accuracy: 0.9413 - val_loss: 0.1617 - val_accuracy: 0.9386\n",
      "Epoch 29/30\n",
      "938/938 [==============================] - 3s 3ms/step - loss: 0.1505 - accuracy: 0.9438 - val_loss: 0.1318 - val_accuracy: 0.9500\n",
      "Epoch 30/30\n",
      "938/938 [==============================] - 3s 3ms/step - loss: 0.1475 - accuracy: 0.9454 - val_loss: 0.1351 - val_accuracy: 0.9504\n",
      "313/313 [==============================] - 1s 2ms/step - loss: 0.3656 - accuracy: 0.8888\n"
     ]
    },
    {
     "data": {
      "text/plain": [
       "[0.3655884265899658, 0.8888000249862671]"
      ]
     },
     "execution_count": 51,
     "metadata": {},
     "output_type": "execute_result"
    }
   ],
   "source": [
    "model= keras.models.Sequential([\n",
    "    keras.layers.Flatten(input_shape=[len(training_images[0]), len(training_images[1])]),\n",
    "    keras.layers.Dense(128, activation=\"relu\"),\n",
    "    keras.layers.Dense(len(np.unique(training_labels)), activation=\"softmax\")\n",
    "])\n",
    "\n",
    "model.compile(loss=\"sparse_categorical_crossentropy\",\n",
    "            optimizer= \"adam\",\n",
    "            metrics =[\"accuracy\"])\n",
    "\n",
    "history = model.fit(training_images, training_labels, epochs=30, batch_size=64, validation_data=(X_valid, y_valid))\n",
    "\n",
    "model.evaluate(test_images, test_labels)"
   ]
  },
  {
   "cell_type": "markdown",
   "metadata": {},
   "source": [
    "**pregunta 7.3 (0.20 puntos)**\n",
    "* ¿Por qué piensas que ocurre esto? Explica tu respuesta y da el nombre de este efecto si lo conoces."
   ]
  },
  {
   "cell_type": "markdown",
   "metadata": {
    "id": "Fs0fjzH4bmSR"
   },
   "source": [
    "Tu respuesta a la pregunta 7.3 aquí:"
   ]
  },
  {
   "cell_type": "markdown",
   "metadata": {},
   "source": [
    "*El accuracy de ambos modelos con 15 y 30 epochs respectivamente, es practicamente el mismo. Lo que sí podemos apreciar es un empeoramiento del coste a mayor número de epochs. Esto puede significar que el modelo está sufriendo de overfitting ya que no hay suficientes datos como para dedicarles tanto tiempo y ciclos de aprendizaje para  aprenderlos.*"
   ]
  },
  {
   "cell_type": "markdown",
   "metadata": {
    "id": "HlIgNG4Yb_N6"
   },
   "source": [
    "## 8: Early stop\n"
   ]
  },
  {
   "cell_type": "markdown",
   "metadata": {
    "id": "06rrpDXqupAA"
   },
   "source": [
    "En el ejercicio anterior, cuando entrenabas con epoch extras, tenías un problema en el que tu pérdida podía cambiar. Puede que te haya llevado un poco de tiempo esperar a que el entrenamiento lo hiciera,  y puede que hayas pensado \"¿no estaría bien si pudiera parar el entrenamiento cuando alcance un valor deseado?\", es decir, una precisión del 85% podría ser suficiente para ti, y si alcanzas eso después de 3 epoch, ¿por qué sentarte a esperar a que termine muchas más épocas? Como cualquier otro programa existen formas de parar la ejecución\n",
    "\n",
    "A partir del código de ejemplo, hacer una nueva función que tenga en cuenta la perdida (loss) y que pueda parar el código para evitar que ocurra el efeto secundario que vimos en el ejercicio 5."
   ]
  },
  {
   "cell_type": "code",
   "execution_count": 52,
   "metadata": {
    "id": "b5UwceFUG4ic"
   },
   "outputs": [],
   "source": [
    "### Ejemplo de código\n",
    "\n",
    "class myCallback(tf.keras.callbacks.Callback):\n",
    "      def on_epoch_end(self, epoch, logs={}):\n",
    "            if(logs.get('accuracy')> 0.85):\n",
    "                  print(\"\\nAlcanzado el 85% de precisión, se cancela el entrenamiento!!\")\n",
    "                  self.model.stop_training = True"
   ]
  },
  {
   "cell_type": "code",
   "execution_count": 53,
   "metadata": {
    "id": "29LSfdOvc270"
   },
   "outputs": [
    {
     "name": "stdout",
     "output_type": "stream",
     "text": [
      "2.12.0\n",
      "Epoch 1/50\n",
      "938/938 [==============================] - 3s 3ms/step - loss: 0.5211 - accuracy: 0.8179\n",
      "Epoch 2/50\n",
      "938/938 [==============================] - ETA: 0s - loss: 0.3870 - accuracy: 0.8613\n",
      "Alcanzado el 85% de precisión, se cancela el entrenamiento!!\n",
      "938/938 [==============================] - 3s 3ms/step - loss: 0.3870 - accuracy: 0.8613\n",
      "313/313 [==============================] - 1s 2ms/step - loss: 0.4076 - accuracy: 0.8521\n"
     ]
    },
    {
     "data": {
      "text/plain": [
       "[0.40757325291633606, 0.8521000146865845]"
      ]
     },
     "execution_count": 53,
     "metadata": {},
     "output_type": "execute_result"
    }
   ],
   "source": [
    "# import tensorflow as tf\n",
    "print(tf.__version__)\n",
    "\n",
    "### Tu código de la función callback para parar el entrenamiento de la red neuronal al 40% de loss aqui: ###\n",
    "\n",
    "callbacks = myCallback()\n",
    "# mnist = tf.keras.datasets.fashion_mnist\n",
    "# (training_images, training_labels) ,  (test_images, test_labels) = mnist.load_data()\n",
    "\n",
    "# training_images = training_images/255.0\n",
    "# test_images = test_images/255.0\n",
    "\n",
    "\n",
    "model= keras.models.Sequential([\n",
    "    keras.layers.Flatten(input_shape=[len(training_images[0]), len(training_images[1])]),\n",
    "    keras.layers.Dense(128, activation=tf.nn.relu),\n",
    "    keras.layers.Dense(len(np.unique(training_labels)), activation=tf.nn.softmax)\n",
    "])\n",
    "\n",
    "model.compile(loss=\"sparse_categorical_crossentropy\",\n",
    "            optimizer= \"adam\",\n",
    "            metrics =[\"accuracy\"])\n",
    "\n",
    "history = model.fit(training_images, training_labels, epochs=50, batch_size=64, callbacks=[callbacks])\n",
    "\n",
    "model.evaluate(test_images, test_labels)"
   ]
  },
  {
   "cell_type": "markdown",
   "metadata": {
    "id": "0Bjd8wGKccrn"
   },
   "source": [
    "**Ejercicio 8 *(0.75 puntos)***: Completa el siguiente código con una clase callback que una vez alcanzado el 40% de perdida detenga el entrenamiento."
   ]
  },
  {
   "cell_type": "code",
   "execution_count": 54,
   "metadata": {},
   "outputs": [],
   "source": [
    "### Ejemplo de código\n",
    "\n",
    "class myCallback(tf.keras.callbacks.Callback):\n",
    "      def on_epoch_end(self, epoch, logs={}):\n",
    "            if(logs.get('loss') < 0.4):\n",
    "                  print(\"\\nAlcanzado el 40 de pérdida, se cancela el entrenamiento!!\")\n",
    "                  self.model.stop_training = True"
   ]
  },
  {
   "cell_type": "code",
   "execution_count": 55,
   "metadata": {},
   "outputs": [
    {
     "name": "stdout",
     "output_type": "stream",
     "text": [
      "2.12.0\n",
      "Epoch 1/50\n",
      "938/938 [==============================] - 3s 3ms/step - loss: 0.5188 - accuracy: 0.8197\n",
      "Epoch 2/50\n",
      "931/938 [============================>.] - ETA: 0s - loss: 0.3885 - accuracy: 0.8613\n",
      "Alcanzado el 40 de pérdida, se cancela el entrenamiento!!\n",
      "938/938 [==============================] - 3s 3ms/step - loss: 0.3884 - accuracy: 0.8613\n",
      "313/313 [==============================] - 1s 2ms/step - loss: 0.3992 - accuracy: 0.8582\n"
     ]
    },
    {
     "data": {
      "text/plain": [
       "[0.399247407913208, 0.8582000136375427]"
      ]
     },
     "execution_count": 55,
     "metadata": {},
     "output_type": "execute_result"
    }
   ],
   "source": [
    "# import tensorflow as tf\n",
    "print(tf.__version__)\n",
    "\n",
    "### Tu código de la función callback para parar el entrenamiento de la red neuronal al 40% de loss aqui: ###\n",
    "\n",
    "callbacks = myCallback()\n",
    "# mnist = tf.keras.datasets.fashion_mnist\n",
    "# (training_images, training_labels) ,  (test_images, test_labels) = mnist.load_data()\n",
    "\n",
    "# training_images = training_images/255.0\n",
    "# test_images = test_images/255.0\n",
    "\n",
    "\n",
    "model= keras.models.Sequential([\n",
    "    keras.layers.Flatten(input_shape=[len(training_images[0]), len(training_images[1])]),\n",
    "    keras.layers.Dense(128, activation=tf.nn.relu),\n",
    "    keras.layers.Dense(len(np.unique(training_labels)), activation=tf.nn.softmax)\n",
    "])\n",
    "\n",
    "model.compile(loss=\"sparse_categorical_crossentropy\",\n",
    "            optimizer= \"adam\",\n",
    "            metrics =[\"accuracy\"])\n",
    "\n",
    "history = model.fit(training_images, training_labels, epochs=50, batch_size=64, callbacks=[callbacks])\n",
    "\n",
    "model.evaluate(test_images, test_labels)"
   ]
  },
  {
   "cell_type": "markdown",
   "metadata": {
    "id": "M_yZ9B8gTFqR"
   },
   "source": [
    "## 9. Unidades de activación"
   ]
  },
  {
   "cell_type": "markdown",
   "metadata": {
    "id": "MuVNxmXSTFqR"
   },
   "source": [
    "En este ejercicio, vamos a evaluar la importancia de utilizar las unidades de activación adecuadas. Como hemos visto en clase, funciones de activación como sigmoid han dejado de utilizarse en favor de otras como ReLU.\n",
    "\n",
    "**Ejercicio 9 *(0.75 puntos)***: Partiendo de una red sencilla como la desarrollada en el Trabajo 1, escribir un breve análisis comparando la utilización de unidades sigmoid y ReLU (por ejemplo, se pueden comentar aspectos como velocidad de convergencia, métricas obtenidas...). Explicar por qué pueden darse estas diferencias. Opcionalmente, comparar con otras activaciones disponibles en Keras.\n",
    "\n",
    "*Pista: Usando redes más grandes se hace más sencillo apreciar las diferencias. Es mejor utilizar al menos 3 o 4 capas densas.*"
   ]
  },
  {
   "cell_type": "code",
   "execution_count": 56,
   "metadata": {},
   "outputs": [],
   "source": [
    "### Ejemplo de código\n",
    "\n",
    "class myCallback(tf.keras.callbacks.Callback):\n",
    "      def on_epoch_end(self, epoch, logs={}):\n",
    "            perdida = 0.4\n",
    "            precision = 0.9\n",
    "            if(logs.get('accuracy') > precision and logs.get('loss') < perdida):\n",
    "                  print(\"\\nAlcanzado el {}% de precisión y {}% de pérdida, se cancela el entrenamiento!!\".format(precision, perdida))\n",
    "                  self.model.stop_training = True\n",
    "callbacks = myCallback()"
   ]
  },
  {
   "cell_type": "markdown",
   "metadata": {},
   "source": [
    "#### ReLu"
   ]
  },
  {
   "cell_type": "code",
   "execution_count": 57,
   "metadata": {
    "id": "hoYUajTuTFqS"
   },
   "outputs": [
    {
     "name": "stdout",
     "output_type": "stream",
     "text": [
      "Epoch 1/50\n",
      "938/938 [==============================] - 5s 4ms/step - loss: 0.5087 - accuracy: 0.8177\n",
      "Epoch 2/50\n",
      "938/938 [==============================] - 4s 4ms/step - loss: 0.3680 - accuracy: 0.8662\n",
      "Epoch 3/50\n",
      "938/938 [==============================] - 4s 4ms/step - loss: 0.3363 - accuracy: 0.8766\n",
      "Epoch 4/50\n",
      "938/938 [==============================] - 4s 4ms/step - loss: 0.3103 - accuracy: 0.8849\n",
      "Epoch 5/50\n",
      "938/938 [==============================] - 4s 4ms/step - loss: 0.2915 - accuracy: 0.8921\n",
      "Epoch 6/50\n",
      "938/938 [==============================] - 4s 4ms/step - loss: 0.2802 - accuracy: 0.8943\n",
      "Epoch 7/50\n",
      "938/938 [==============================] - 4s 4ms/step - loss: 0.2681 - accuracy: 0.8991\n",
      "Epoch 8/50\n",
      "929/938 [============================>.] - ETA: 0s - loss: 0.2553 - accuracy: 0.9035\n",
      "Alcanzado el 0.9% de precisión y 0.4% de pérdida, se cancela el entrenamiento!!\n",
      "938/938 [==============================] - 4s 4ms/step - loss: 0.2553 - accuracy: 0.9035\n",
      "313/313 [==============================] - 1s 2ms/step - loss: 0.3434 - accuracy: 0.8786\n"
     ]
    },
    {
     "data": {
      "text/plain": [
       "[0.3434407114982605, 0.878600001335144]"
      ]
     },
     "execution_count": 57,
     "metadata": {},
     "output_type": "execute_result"
    }
   ],
   "source": [
    "model= keras.models.Sequential([\n",
    "    keras.layers.Flatten(input_shape=[len(training_images[0]), len(training_images[1])]),\n",
    "    keras.layers.Dense(128, activation=tf.nn.relu),\n",
    "    keras.layers.Dense(128, activation=tf.nn.relu),\n",
    "    keras.layers.Dense(128, activation=tf.nn.relu),\n",
    "    keras.layers.Dense(128, activation=tf.nn.relu),\n",
    "    keras.layers.Dense(len(np.unique(training_labels)), activation=tf.nn.softmax)\n",
    "])\n",
    "\n",
    "model.compile(loss=\"sparse_categorical_crossentropy\",\n",
    "            optimizer= \"adam\",\n",
    "            metrics =[\"accuracy\"])\n",
    "\n",
    "history = model.fit(training_images, training_labels, epochs=50, batch_size=64, callbacks=[callbacks])\n",
    "\n",
    "model.evaluate(test_images, test_labels)"
   ]
  },
  {
   "cell_type": "markdown",
   "metadata": {},
   "source": [
    "#### Sigmoid"
   ]
  },
  {
   "cell_type": "code",
   "execution_count": 58,
   "metadata": {},
   "outputs": [
    {
     "name": "stdout",
     "output_type": "stream",
     "text": [
      "Epoch 1/50\n",
      "938/938 [==============================] - 5s 4ms/step - loss: 0.9066 - accuracy: 0.6541\n",
      "Epoch 2/50\n",
      "938/938 [==============================] - 4s 4ms/step - loss: 0.4692 - accuracy: 0.8319\n",
      "Epoch 3/50\n",
      "938/938 [==============================] - 4s 4ms/step - loss: 0.3912 - accuracy: 0.8585\n",
      "Epoch 4/50\n",
      "938/938 [==============================] - 4s 4ms/step - loss: 0.3563 - accuracy: 0.8720\n",
      "Epoch 5/50\n",
      "938/938 [==============================] - 4s 4ms/step - loss: 0.3341 - accuracy: 0.8791\n",
      "Epoch 6/50\n",
      "938/938 [==============================] - 4s 4ms/step - loss: 0.3164 - accuracy: 0.8847\n",
      "Epoch 7/50\n",
      "938/938 [==============================] - 4s 4ms/step - loss: 0.3008 - accuracy: 0.8905\n",
      "Epoch 8/50\n",
      "938/938 [==============================] - 4s 4ms/step - loss: 0.2897 - accuracy: 0.8941\n",
      "Epoch 9/50\n",
      "938/938 [==============================] - 4s 4ms/step - loss: 0.2796 - accuracy: 0.8991\n",
      "Epoch 10/50\n",
      "932/938 [============================>.] - ETA: 0s - loss: 0.2686 - accuracy: 0.9014\n",
      "Alcanzado el 0.9% de precisión y 0.4% de pérdida, se cancela el entrenamiento!!\n",
      "938/938 [==============================] - 4s 4ms/step - loss: 0.2689 - accuracy: 0.9012\n",
      "313/313 [==============================] - 1s 2ms/step - loss: 0.3438 - accuracy: 0.8801\n"
     ]
    },
    {
     "data": {
      "text/plain": [
       "[0.34376025199890137, 0.8801000118255615]"
      ]
     },
     "execution_count": 58,
     "metadata": {},
     "output_type": "execute_result"
    }
   ],
   "source": [
    "model= keras.models.Sequential([\n",
    "    keras.layers.Flatten(input_shape=[len(training_images[0]), len(training_images[1])]),\n",
    "    keras.layers.Dense(128, activation=tf.nn.sigmoid),\n",
    "    keras.layers.Dense(128, activation=tf.nn.sigmoid),\n",
    "    keras.layers.Dense(128, activation=tf.nn.sigmoid),\n",
    "    keras.layers.Dense(128, activation=tf.nn.sigmoid),\n",
    "    keras.layers.Dense(len(np.unique(training_labels)), activation=tf.nn.softmax)\n",
    "])\n",
    "\n",
    "model.compile(loss=\"sparse_categorical_crossentropy\",\n",
    "            optimizer= \"adam\",\n",
    "            metrics =[\"accuracy\"])\n",
    "\n",
    "history = model.fit(training_images, training_labels, epochs=50, batch_size=64, callbacks=[callbacks])\n",
    "\n",
    "model.evaluate(test_images, test_labels)"
   ]
  },
  {
   "cell_type": "markdown",
   "metadata": {},
   "source": [
    "#### Tanh"
   ]
  },
  {
   "cell_type": "code",
   "execution_count": 59,
   "metadata": {},
   "outputs": [
    {
     "name": "stdout",
     "output_type": "stream",
     "text": [
      "Epoch 1/50\n",
      "938/938 [==============================] - 13s 13ms/step - loss: 0.5143 - accuracy: 0.8136\n",
      "Epoch 2/50\n",
      "938/938 [==============================] - 12s 13ms/step - loss: 0.3972 - accuracy: 0.8548\n",
      "Epoch 3/50\n",
      "938/938 [==============================] - 12s 13ms/step - loss: 0.3592 - accuracy: 0.8676\n",
      "Epoch 4/50\n",
      "938/938 [==============================] - 12s 13ms/step - loss: 0.3415 - accuracy: 0.8737\n",
      "Epoch 5/50\n",
      "938/938 [==============================] - 12s 13ms/step - loss: 0.3240 - accuracy: 0.8812\n",
      "Epoch 6/50\n",
      "938/938 [==============================] - 12s 13ms/step - loss: 0.3083 - accuracy: 0.8860\n",
      "Epoch 7/50\n",
      "938/938 [==============================] - 12s 13ms/step - loss: 0.3021 - accuracy: 0.8863\n",
      "Epoch 8/50\n",
      "938/938 [==============================] - 12s 13ms/step - loss: 0.2882 - accuracy: 0.8929\n",
      "Epoch 9/50\n",
      "938/938 [==============================] - 12s 13ms/step - loss: 0.2813 - accuracy: 0.8969\n",
      "Epoch 10/50\n",
      "938/938 [==============================] - 12s 13ms/step - loss: 0.2752 - accuracy: 0.8968\n",
      "Epoch 11/50\n",
      "934/938 [============================>.] - ETA: 0s - loss: 0.2638 - accuracy: 0.9003\n",
      "Alcanzado el 0.9% de precisión y 0.4% de pérdida, se cancela el entrenamiento!!\n",
      "938/938 [==============================] - 12s 13ms/step - loss: 0.2638 - accuracy: 0.9003\n",
      "313/313 [==============================] - 1s 4ms/step - loss: 0.3768 - accuracy: 0.8725\n"
     ]
    },
    {
     "data": {
      "text/plain": [
       "[0.3768080174922943, 0.8725000023841858]"
      ]
     },
     "execution_count": 59,
     "metadata": {},
     "output_type": "execute_result"
    }
   ],
   "source": [
    "model= keras.models.Sequential([\n",
    "    keras.layers.Flatten(input_shape=[len(training_images[0]), len(training_images[1])]),\n",
    "    keras.layers.Dense(512, activation=tf.nn.tanh),\n",
    "    keras.layers.Dense(512, activation=tf.nn.tanh),\n",
    "    keras.layers.Dense(512, activation=tf.nn.tanh),\n",
    "    keras.layers.Dense(512, activation=tf.nn.tanh),\n",
    "    keras.layers.Dense(len(np.unique(training_labels)), activation=tf.nn.softmax)\n",
    "])\n",
    "\n",
    "model.compile(loss=\"sparse_categorical_crossentropy\",\n",
    "            optimizer= \"adam\",\n",
    "            metrics =[\"accuracy\"])\n",
    "\n",
    "history = model.fit(training_images, training_labels, epochs=50, batch_size=64, callbacks=[callbacks])\n",
    "\n",
    "model.evaluate(test_images, test_labels)"
   ]
  },
  {
   "cell_type": "markdown",
   "metadata": {},
   "source": [
    "*La comparación entre el uso de la función de activación sigmoid y ReLU en una red neuronal sencilla puede tener varias diferencias en términos de velocidad de convergencia y rendimiento del modelo.*\n",
    "\n",
    "*En general, la función de activación ReLU se ha demostrado que converge más rápido en comparación con la función sigmoid en la mayoría de los casos, esto se debe principalmente a que la función ReLU no presenta saturación en la región positiva, es decir, la derivada nunca es cero, mientras que en sigmoid si hay una región en la que la derivada es muy pequeña (cercana a cero) y puede hacer que el entrenamiento sea lento.*\n",
    "\n",
    "*Además, la función ReLU ha demostrado ser más efectiva en la prevención del sobreajuste (overfitting), lo que se debe a que la función ReLU puede disminuir la correlación entre las neuronas adyacentes, lo que reduce la dependencia de las neuronas entre sí y, por lo tanto, ayuda a prevenir el sobreajuste.*\n",
    "\n",
    "*En términos de rendimiento del modelo, la función ReLU también puede proporcionar resultados ligeramente mejores en comparación con la función sigmoid. Esto se debe a que la función ReLU permite la propagación de gradientes más fuertes en la red neuronal, lo que puede mejorar la capacidad de la red para aprender representaciones abstractas de los datos.*\n",
    "\n",
    "*En cuanto a otras funciones de activación disponibles en Keras, hay muchas opciones diferentes, cada una con sus ventajas y desventajas. Por ejemplo, la función de activación tanh (tangente hiperbólica) se utiliza comúnmente en redes neuronales porque puede proporcionar resultados ligeramente mejores que sigmoid en algunos casos. También hay otras funciones de activación como la función softmax, la función ELU (exponential linear unit) y la función Swish, que han demostrado ser efectivas en diferentes aplicaciones.*\n",
    "\n",
    "*Sintetizando, la función de activación ReLU puede ser una mejor opción en comparación con sigmoid en la mayoría de los casos, debido a su rapidez de convergencia y capacidad para prevenir el sobreajuste. Sin embargo, es importante tener en cuenta que cada función de activación tiene sus propias ventajas y desventajas, y debe seleccionarse de acuerdo con la tarea específica que se esté abordando*"
   ]
  },
  {
   "cell_type": "markdown",
   "metadata": {
    "id": "pu6RbUFKTFqT"
   },
   "source": [
    "## 10. Inicialización de parámetros"
   ]
  },
  {
   "cell_type": "markdown",
   "metadata": {
    "id": "Abmm05UPTFqU"
   },
   "source": [
    "En este ejercicio, vamos a evaluar la importancia de una correcta inicialización de parámetros en una red neuronal.\n",
    "\n",
    "**Ejercicio 10 *(0.75 puntos)***: Partiendo de una red similar a la del ejercicio anterior (usando ya ReLUs), comentar las diferencias que se aprecian en el entrenamiento al utilizar distintas estrategias de inicialización de parámetros. Para ello, inicializar todas las capas con las siguientes estrategias, disponibles en Keras, y analizar sus diferencias:\n",
    "\n",
    "* Inicialización con ceros.\n",
    "* Inicialización con una variable aleatoria normal.\n",
    "* Inicialización con los valores por defecto de Keras para una capa Dense (estrategia *glorot uniform*)"
   ]
  },
  {
   "cell_type": "markdown",
   "metadata": {},
   "source": [
    "#### *Inicialización con ceros*"
   ]
  },
  {
   "cell_type": "code",
   "execution_count": 60,
   "metadata": {},
   "outputs": [],
   "source": [
    "from tensorflow import initializers"
   ]
  },
  {
   "cell_type": "code",
   "execution_count": 61,
   "metadata": {},
   "outputs": [
    {
     "name": "stdout",
     "output_type": "stream",
     "text": [
      "Epoch 1/10\n",
      "938/938 [==============================] - 4s 3ms/step - loss: 2.3027 - accuracy: 0.0984 - val_loss: 2.3026 - val_accuracy: 0.0986\n",
      "Epoch 2/10\n",
      "938/938 [==============================] - 3s 3ms/step - loss: 2.3028 - accuracy: 0.0967 - val_loss: 2.3025 - val_accuracy: 0.1024\n",
      "Epoch 3/10\n",
      "938/938 [==============================] - 3s 3ms/step - loss: 2.3027 - accuracy: 0.0978 - val_loss: 2.3027 - val_accuracy: 0.0986\n",
      "Epoch 4/10\n",
      "938/938 [==============================] - 4s 4ms/step - loss: 2.3027 - accuracy: 0.0984 - val_loss: 2.3027 - val_accuracy: 0.1008\n",
      "Epoch 5/10\n",
      "938/938 [==============================] - 3s 4ms/step - loss: 2.3027 - accuracy: 0.0984 - val_loss: 2.3027 - val_accuracy: 0.1024\n",
      "Epoch 6/10\n",
      "938/938 [==============================] - 4s 4ms/step - loss: 2.3027 - accuracy: 0.0968 - val_loss: 2.3026 - val_accuracy: 0.1002\n",
      "Epoch 7/10\n",
      "938/938 [==============================] - 4s 4ms/step - loss: 2.3027 - accuracy: 0.0991 - val_loss: 2.3025 - val_accuracy: 0.0976\n",
      "Epoch 8/10\n",
      "938/938 [==============================] - 4s 4ms/step - loss: 2.3027 - accuracy: 0.0990 - val_loss: 2.3025 - val_accuracy: 0.1112\n",
      "Epoch 9/10\n",
      "938/938 [==============================] - 4s 4ms/step - loss: 2.3027 - accuracy: 0.0996 - val_loss: 2.3025 - val_accuracy: 0.0976\n",
      "Epoch 10/10\n",
      "938/938 [==============================] - 3s 3ms/step - loss: 2.3027 - accuracy: 0.0992 - val_loss: 2.3026 - val_accuracy: 0.0986\n",
      "313/313 [==============================] - 1s 2ms/step - loss: 2.3026 - accuracy: 0.1000\n"
     ]
    },
    {
     "data": {
      "text/plain": [
       "[2.3025929927825928, 0.10000000149011612]"
      ]
     },
     "execution_count": 61,
     "metadata": {},
     "output_type": "execute_result"
    }
   ],
   "source": [
    "model= keras.models.Sequential([\n",
    "    keras.layers.Flatten(input_shape=[28, 28]),\n",
    "\n",
    "    keras.layers.Dense(128,\n",
    "    activation=\"relu\",\n",
    "    kernel_initializer=keras.initializers.zeros,\n",
    "    ),\n",
    "\n",
    "    keras.layers.Dense(10, activation=tf.nn.softmax)\n",
    "])\n",
    "\n",
    "model.compile(loss=\"sparse_categorical_crossentropy\",\n",
    "            optimizer= \"adam\",\n",
    "            metrics =[\"accuracy\"])\n",
    "\n",
    "history = model.fit(training_images, training_labels, epochs=10, batch_size=64, callbacks=[callbacks], validation_data=(X_valid, y_valid))\n",
    "\n",
    "model.evaluate(test_images, test_labels)"
   ]
  },
  {
   "cell_type": "markdown",
   "metadata": {},
   "source": [
    "*Si inicializamos los pesos del modelo a cero, cada neurona en la red neuronal tiene la misma salida, lo que significa que todas las neuronas de la capa oculta se comportarán de la misma manera. Como resultado, cada neurona en la capa oculta producirá la misma salida, lo que significa que todas las neuronas de la capa oculta se comportarán de la misma manera. Esto puede provocar que el modelo no aprenda correctamente y que la precisión sea muy baja.*"
   ]
  },
  {
   "cell_type": "markdown",
   "metadata": {},
   "source": [
    "#### *Inicialización con una variable aleatoria normal.*"
   ]
  },
  {
   "cell_type": "code",
   "execution_count": 62,
   "metadata": {},
   "outputs": [
    {
     "name": "stdout",
     "output_type": "stream",
     "text": [
      "Epoch 1/20\n",
      "938/938 [==============================] - 5s 4ms/step - loss: 0.5201 - accuracy: 0.8192 - val_loss: 0.4026 - val_accuracy: 0.8608\n",
      "Epoch 2/20\n",
      "938/938 [==============================] - 3s 3ms/step - loss: 0.3868 - accuracy: 0.8622 - val_loss: 0.3480 - val_accuracy: 0.8726\n",
      "Epoch 3/20\n",
      "938/938 [==============================] - 4s 4ms/step - loss: 0.3448 - accuracy: 0.8759 - val_loss: 0.3252 - val_accuracy: 0.8844\n",
      "Epoch 4/20\n",
      "938/938 [==============================] - 3s 3ms/step - loss: 0.3223 - accuracy: 0.8830 - val_loss: 0.2826 - val_accuracy: 0.8986\n",
      "Epoch 5/20\n",
      "938/938 [==============================] - 3s 4ms/step - loss: 0.3023 - accuracy: 0.8915 - val_loss: 0.2685 - val_accuracy: 0.9010\n",
      "Epoch 6/20\n",
      "938/938 [==============================] - 3s 4ms/step - loss: 0.2899 - accuracy: 0.8936 - val_loss: 0.2670 - val_accuracy: 0.9014\n",
      "Epoch 7/20\n",
      "938/938 [==============================] - 4s 4ms/step - loss: 0.2765 - accuracy: 0.8995 - val_loss: 0.2860 - val_accuracy: 0.8924\n",
      "Epoch 8/20\n",
      "925/938 [============================>.] - ETA: 0s - loss: 0.2673 - accuracy: 0.9016\n",
      "Alcanzado el 0.9% de precisión y 0.4% de pérdida, se cancela el entrenamiento!!\n",
      "938/938 [==============================] - 4s 4ms/step - loss: 0.2669 - accuracy: 0.9018 - val_loss: 0.2411 - val_accuracy: 0.9144\n",
      "313/313 [==============================] - 1s 2ms/step - loss: 0.3343 - accuracy: 0.8822\n"
     ]
    },
    {
     "data": {
      "text/plain": [
       "[0.3343217670917511, 0.8822000026702881]"
      ]
     },
     "execution_count": 62,
     "metadata": {},
     "output_type": "execute_result"
    }
   ],
   "source": [
    "model= keras.models.Sequential([\n",
    "    keras.layers.Flatten(input_shape=[28, 28]),\n",
    "\n",
    "    keras.layers.Dense(128,\n",
    "    activation=\"relu\",\n",
    "    kernel_initializer=keras.initializers.RandomNormal(mean=0.0, stddev=0.05, seed=None),\n",
    "    ),\n",
    "\n",
    "    keras.layers.Dense(10, activation=tf.nn.softmax)\n",
    "])\n",
    "\n",
    "model.compile(loss=\"sparse_categorical_crossentropy\",\n",
    "            optimizer= \"adam\",\n",
    "            metrics =[\"accuracy\"])\n",
    "\n",
    "history = model.fit(training_images, training_labels, epochs=20, batch_size=64, callbacks=[callbacks], validation_data=(X_valid, y_valid))\n",
    "\n",
    "model.evaluate(test_images, test_labels)"
   ]
  },
  {
   "cell_type": "markdown",
   "metadata": {},
   "source": [
    "*La inicialización con variables aleatorias asigna pesos iniciales aleatorios a cada neurona en la red. Esto puede mejorar significativamente el rendimiento del modelo, ya que cada neurona de la red tiene una salida diferente, lo que permite una mayor capacidad de aprendizaje. Además, la inicialización con variables aleatorias se puede ajustar para garantizar que los pesos iniciales sean de magnitud apropiada para el tamaño de la capa.*"
   ]
  },
  {
   "cell_type": "markdown",
   "metadata": {},
   "source": [
    "#### *Inicialización con los valores por defecto de Keras para una capa Dense (estrategia *glorot uniform*)*"
   ]
  },
  {
   "cell_type": "code",
   "execution_count": 63,
   "metadata": {},
   "outputs": [
    {
     "name": "stdout",
     "output_type": "stream",
     "text": [
      "Epoch 1/20\n",
      "938/938 [==============================] - 4s 4ms/step - loss: 0.5208 - accuracy: 0.8195 - val_loss: 0.3914 - val_accuracy: 0.8652\n",
      "Epoch 2/20\n",
      "938/938 [==============================] - 4s 4ms/step - loss: 0.3895 - accuracy: 0.8612 - val_loss: 0.3424 - val_accuracy: 0.8750\n",
      "Epoch 3/20\n",
      "938/938 [==============================] - 4s 4ms/step - loss: 0.3486 - accuracy: 0.8739 - val_loss: 0.3054 - val_accuracy: 0.8906\n",
      "Epoch 4/20\n",
      "938/938 [==============================] - 4s 4ms/step - loss: 0.3230 - accuracy: 0.8829 - val_loss: 0.2976 - val_accuracy: 0.8924\n",
      "Epoch 5/20\n",
      "938/938 [==============================] - 3s 3ms/step - loss: 0.3033 - accuracy: 0.8893 - val_loss: 0.2698 - val_accuracy: 0.9018\n",
      "Epoch 6/20\n",
      "938/938 [==============================] - 3s 3ms/step - loss: 0.2904 - accuracy: 0.8918 - val_loss: 0.2570 - val_accuracy: 0.9058\n",
      "Epoch 7/20\n",
      "938/938 [==============================] - 3s 3ms/step - loss: 0.2778 - accuracy: 0.8978 - val_loss: 0.2530 - val_accuracy: 0.9062\n",
      "Epoch 8/20\n",
      "938/938 [==============================] - ETA: 0s - loss: 0.2645 - accuracy: 0.9017\n",
      "Alcanzado el 0.9% de precisión y 0.4% de pérdida, se cancela el entrenamiento!!\n",
      "938/938 [==============================] - 3s 3ms/step - loss: 0.2645 - accuracy: 0.9017 - val_loss: 0.2360 - val_accuracy: 0.9108\n",
      "313/313 [==============================] - 1s 2ms/step - loss: 0.3384 - accuracy: 0.8796\n"
     ]
    },
    {
     "data": {
      "text/plain": [
       "[0.33844298124313354, 0.8795999884605408]"
      ]
     },
     "execution_count": 63,
     "metadata": {},
     "output_type": "execute_result"
    }
   ],
   "source": [
    "model= keras.models.Sequential([\n",
    "    keras.layers.Flatten(input_shape=[28, 28]),\n",
    "\n",
    "    keras.layers.Dense(128,\n",
    "    activation=\"relu\",\n",
    "    kernel_initializer=keras.initializers.glorot_uniform,\n",
    "    ),\n",
    "\n",
    "    keras.layers.Dense(10, activation=tf.nn.softmax)\n",
    "])\n",
    "\n",
    "model.compile(loss=\"sparse_categorical_crossentropy\",\n",
    "            optimizer= \"adam\",\n",
    "            metrics =[\"accuracy\"])\n",
    "\n",
    "history = model.fit(training_images, training_labels, epochs=20, batch_size=64, callbacks=[callbacks], validation_data=(X_valid, y_valid))\n",
    "\n",
    "model.evaluate(test_images, test_labels)"
   ]
  },
  {
   "cell_type": "markdown",
   "metadata": {},
   "source": [
    "*La inicialización por defecto utiliza una estrategia de inicialización específica para cada capa de la red neuronal, como la inicialización de Glorot o la inicialización de He. Estas estrategias de inicialización ajustan automáticamente los pesos iniciales para mejorar el rendimiento del modelo. En general, estas estrategias de inicialización por defecto son más efectivas que la inicialización con variables aleatorias y pueden proporcionar una precisión más alta y una convergencia más rápida.*"
   ]
  },
  {
   "cell_type": "markdown",
   "metadata": {
    "id": "NqIAyVWrTFqV"
   },
   "source": [
    "## 11. Optimizadores"
   ]
  },
  {
   "cell_type": "markdown",
   "metadata": {
    "id": "lcYj29hYTFqW"
   },
   "source": [
    "**Ejercicio 11 *(0.75 puntos)***: Partiendo de una red similar a la del ejercicio anterior (utilizando la mejor estrategia de inicialización observada), comparar y analizar las diferencias que se observan  al entrenar con varios de los optimizadores vistos en clase, incluyendo SGD como optimizador básico (se puede explorar el espacio de hiperparámetros de cada optimizador, aunque para optimizadores más avanzados del estilo de adam y RMSprop es buena idea dejar los valores por defecto provistos por Keras)."
   ]
  },
  {
   "cell_type": "markdown",
   "metadata": {},
   "source": [
    "*Para este apartado definiré una función con la configuración de las redes neuronales anteriores para ir variando en cada apartado el optimizador*"
   ]
  },
  {
   "cell_type": "code",
   "execution_count": 68,
   "metadata": {},
   "outputs": [],
   "source": [
    "def nn_optimizers(opt):\n",
    "    model= keras.models.Sequential([\n",
    "        keras.layers.Flatten(input_shape=[len(training_images[0]), len(training_images[1])]),\n",
    "        keras.layers.Dense(128, activation=tf.nn.relu),\n",
    "        keras.layers.Dense(128, activation=tf.nn.relu),\n",
    "        keras.layers.Dense(128, activation=tf.nn.relu),\n",
    "        # keras.layers.Dense(128, activation=tf.nn.relu),\n",
    "        keras.layers.Dense(len(np.unique(training_labels)), activation=tf.nn.softmax)\n",
    "    ])\n",
    "\n",
    "    model.compile(loss=\"sparse_categorical_crossentropy\",\n",
    "                optimizer= opt,\n",
    "                metrics =[\"accuracy\"])\n",
    "\n",
    "    history = model.fit(training_images, training_labels, epochs=20, batch_size=32, callbacks=[callbacks], validation_data=(X_valid, y_valid))\n",
    "\n",
    "    return model.evaluate(test_images, test_labels)"
   ]
  },
  {
   "cell_type": "code",
   "execution_count": 69,
   "metadata": {},
   "outputs": [],
   "source": [
    "optimizadores = [\"SGD\", \"RMSProp\", \"Adam\", \"AdamW\", \"Adadelta\", \"Adagrad\", \"Adamax\", \"Adafactor\", \"Nadam\", \"Ftrl\"]"
   ]
  },
  {
   "cell_type": "markdown",
   "metadata": {},
   "source": [
    "#### SGD"
   ]
  },
  {
   "cell_type": "code",
   "execution_count": 70,
   "metadata": {},
   "outputs": [
    {
     "name": "stdout",
     "output_type": "stream",
     "text": [
      "Epoch 1/20\n",
      "1875/1875 [==============================] - 6s 3ms/step - loss: 0.7816 - accuracy: 0.7376 - val_loss: 0.5490 - val_accuracy: 0.7994\n",
      "Epoch 2/20\n",
      "1875/1875 [==============================] - 6s 3ms/step - loss: 0.4958 - accuracy: 0.8263 - val_loss: 0.4318 - val_accuracy: 0.8484\n",
      "Epoch 3/20\n",
      "1875/1875 [==============================] - 6s 3ms/step - loss: 0.4414 - accuracy: 0.8459 - val_loss: 0.3940 - val_accuracy: 0.8656\n",
      "Epoch 4/20\n",
      "1875/1875 [==============================] - 5s 3ms/step - loss: 0.4101 - accuracy: 0.8555 - val_loss: 0.3726 - val_accuracy: 0.8730\n",
      "Epoch 5/20\n",
      "1875/1875 [==============================] - 5s 3ms/step - loss: 0.3876 - accuracy: 0.8640 - val_loss: 0.3626 - val_accuracy: 0.8724\n",
      "Epoch 6/20\n",
      "1875/1875 [==============================] - 5s 3ms/step - loss: 0.3692 - accuracy: 0.8682 - val_loss: 0.3480 - val_accuracy: 0.8792\n",
      "Epoch 7/20\n",
      "1875/1875 [==============================] - 6s 3ms/step - loss: 0.3538 - accuracy: 0.8739 - val_loss: 0.3310 - val_accuracy: 0.8856\n",
      "Epoch 8/20\n",
      "1875/1875 [==============================] - 5s 3ms/step - loss: 0.3425 - accuracy: 0.8769 - val_loss: 0.3270 - val_accuracy: 0.8852\n",
      "Epoch 9/20\n",
      "1875/1875 [==============================] - 6s 3ms/step - loss: 0.3324 - accuracy: 0.8805 - val_loss: 0.3155 - val_accuracy: 0.8900\n",
      "Epoch 10/20\n",
      "1875/1875 [==============================] - 6s 3ms/step - loss: 0.3220 - accuracy: 0.8833 - val_loss: 0.2979 - val_accuracy: 0.8958\n",
      "Epoch 11/20\n",
      "1875/1875 [==============================] - 6s 3ms/step - loss: 0.3142 - accuracy: 0.8868 - val_loss: 0.3079 - val_accuracy: 0.8890\n",
      "Epoch 12/20\n",
      "1875/1875 [==============================] - 6s 3ms/step - loss: 0.3074 - accuracy: 0.8882 - val_loss: 0.2927 - val_accuracy: 0.8974\n",
      "Epoch 13/20\n",
      "1875/1875 [==============================] - 6s 3ms/step - loss: 0.2986 - accuracy: 0.8906 - val_loss: 0.3049 - val_accuracy: 0.8880\n",
      "Epoch 14/20\n",
      "1875/1875 [==============================] - 6s 3ms/step - loss: 0.2928 - accuracy: 0.8932 - val_loss: 0.2787 - val_accuracy: 0.8992\n",
      "Epoch 15/20\n",
      "1875/1875 [==============================] - 6s 3ms/step - loss: 0.2857 - accuracy: 0.8953 - val_loss: 0.2653 - val_accuracy: 0.9032\n",
      "Epoch 16/20\n",
      "1875/1875 [==============================] - 6s 3ms/step - loss: 0.2804 - accuracy: 0.8978 - val_loss: 0.2590 - val_accuracy: 0.9100\n",
      "Epoch 17/20\n",
      "1875/1875 [==============================] - 6s 3ms/step - loss: 0.2751 - accuracy: 0.8989 - val_loss: 0.2534 - val_accuracy: 0.9116\n",
      "Epoch 18/20\n",
      "1869/1875 [============================>.] - ETA: 0s - loss: 0.2704 - accuracy: 0.9011\n",
      "Alcanzado el 0.9% de precisión y 0.4% de pérdida, se cancela el entrenamiento!!\n",
      "1875/1875 [==============================] - 6s 3ms/step - loss: 0.2703 - accuracy: 0.9011 - val_loss: 0.2559 - val_accuracy: 0.9070\n",
      "313/313 [==============================] - 1s 2ms/step - loss: 0.3443 - accuracy: 0.8757\n"
     ]
    },
    {
     "data": {
      "text/plain": [
       "[0.34432753920555115, 0.8756999969482422]"
      ]
     },
     "execution_count": 70,
     "metadata": {},
     "output_type": "execute_result"
    }
   ],
   "source": [
    "SGD = nn_optimizers(tf.keras.optimizers.SGD())\n",
    "SGD"
   ]
  },
  {
   "cell_type": "markdown",
   "metadata": {},
   "source": [
    "#### RMSProp"
   ]
  },
  {
   "cell_type": "code",
   "execution_count": 71,
   "metadata": {},
   "outputs": [
    {
     "name": "stdout",
     "output_type": "stream",
     "text": [
      "Epoch 1/20\n",
      "1875/1875 [==============================] - 6s 3ms/step - loss: 0.5025 - accuracy: 0.8172 - val_loss: 0.3831 - val_accuracy: 0.8644\n",
      "Epoch 2/20\n",
      "1875/1875 [==============================] - 5s 3ms/step - loss: 0.3823 - accuracy: 0.8638 - val_loss: 0.3733 - val_accuracy: 0.8610\n",
      "Epoch 3/20\n",
      "1875/1875 [==============================] - 5s 3ms/step - loss: 0.3626 - accuracy: 0.8715 - val_loss: 0.3416 - val_accuracy: 0.8764\n",
      "Epoch 4/20\n",
      "1875/1875 [==============================] - 5s 3ms/step - loss: 0.3578 - accuracy: 0.8754 - val_loss: 0.3484 - val_accuracy: 0.8824\n",
      "Epoch 5/20\n",
      "1875/1875 [==============================] - 5s 3ms/step - loss: 0.3533 - accuracy: 0.8770 - val_loss: 0.3421 - val_accuracy: 0.8760\n",
      "Epoch 6/20\n",
      "1875/1875 [==============================] - 5s 3ms/step - loss: 0.3538 - accuracy: 0.8774 - val_loss: 0.3451 - val_accuracy: 0.8772\n",
      "Epoch 7/20\n",
      "1875/1875 [==============================] - 5s 3ms/step - loss: 0.3468 - accuracy: 0.8805 - val_loss: 0.3267 - val_accuracy: 0.8906\n",
      "Epoch 8/20\n",
      "1875/1875 [==============================] - 5s 3ms/step - loss: 0.3495 - accuracy: 0.8812 - val_loss: 0.2921 - val_accuracy: 0.9002\n",
      "Epoch 9/20\n",
      "1875/1875 [==============================] - 5s 3ms/step - loss: 0.3448 - accuracy: 0.8838 - val_loss: 0.2993 - val_accuracy: 0.8882\n",
      "Epoch 10/20\n",
      "1875/1875 [==============================] - 5s 3ms/step - loss: 0.3396 - accuracy: 0.8870 - val_loss: 0.2883 - val_accuracy: 0.8994\n",
      "Epoch 11/20\n",
      "1875/1875 [==============================] - 5s 3ms/step - loss: 0.3430 - accuracy: 0.8864 - val_loss: 0.3068 - val_accuracy: 0.8958\n",
      "Epoch 12/20\n",
      "1875/1875 [==============================] - 5s 3ms/step - loss: 0.3465 - accuracy: 0.8859 - val_loss: 0.3370 - val_accuracy: 0.8788\n",
      "Epoch 13/20\n",
      "1875/1875 [==============================] - 5s 3ms/step - loss: 0.3452 - accuracy: 0.8853 - val_loss: 0.3262 - val_accuracy: 0.8940\n",
      "Epoch 14/20\n",
      "1875/1875 [==============================] - 5s 3ms/step - loss: 0.3442 - accuracy: 0.8885 - val_loss: 0.2808 - val_accuracy: 0.9020\n",
      "Epoch 15/20\n",
      "1875/1875 [==============================] - 5s 3ms/step - loss: 0.3398 - accuracy: 0.8876 - val_loss: 0.4140 - val_accuracy: 0.8776\n",
      "Epoch 16/20\n",
      "1875/1875 [==============================] - 5s 3ms/step - loss: 0.3396 - accuracy: 0.8890 - val_loss: 0.3270 - val_accuracy: 0.8888\n",
      "Epoch 17/20\n",
      "1875/1875 [==============================] - 5s 3ms/step - loss: 0.3386 - accuracy: 0.8913 - val_loss: 0.2752 - val_accuracy: 0.9082\n",
      "Epoch 18/20\n",
      "1875/1875 [==============================] - 5s 3ms/step - loss: 0.3288 - accuracy: 0.8921 - val_loss: 0.3035 - val_accuracy: 0.8934\n",
      "Epoch 19/20\n",
      "1875/1875 [==============================] - 5s 3ms/step - loss: 0.3309 - accuracy: 0.8931 - val_loss: 0.3301 - val_accuracy: 0.8914\n",
      "Epoch 20/20\n",
      "1875/1875 [==============================] - 5s 3ms/step - loss: 0.3258 - accuracy: 0.8943 - val_loss: 0.2546 - val_accuracy: 0.9070\n",
      "313/313 [==============================] - 1s 2ms/step - loss: 0.4678 - accuracy: 0.8732\n"
     ]
    },
    {
     "data": {
      "text/plain": [
       "[0.4677613377571106, 0.873199999332428]"
      ]
     },
     "execution_count": 71,
     "metadata": {},
     "output_type": "execute_result"
    }
   ],
   "source": [
    "RMSProp = nn_optimizers(\"rmsprop\")\n",
    "RMSProp"
   ]
  },
  {
   "cell_type": "markdown",
   "metadata": {},
   "source": [
    "#### Adam"
   ]
  },
  {
   "cell_type": "code",
   "execution_count": 72,
   "metadata": {},
   "outputs": [
    {
     "name": "stdout",
     "output_type": "stream",
     "text": [
      "Epoch 1/20\n",
      "1875/1875 [==============================] - 7s 3ms/step - loss: 0.4874 - accuracy: 0.8227 - val_loss: 0.3558 - val_accuracy: 0.8730\n",
      "Epoch 2/20\n",
      "1875/1875 [==============================] - 6s 3ms/step - loss: 0.3677 - accuracy: 0.8637 - val_loss: 0.3267 - val_accuracy: 0.8780\n",
      "Epoch 3/20\n",
      "1875/1875 [==============================] - 6s 3ms/step - loss: 0.3340 - accuracy: 0.8754 - val_loss: 0.2960 - val_accuracy: 0.8912\n",
      "Epoch 4/20\n",
      "1875/1875 [==============================] - 6s 3ms/step - loss: 0.3081 - accuracy: 0.8849 - val_loss: 0.3039 - val_accuracy: 0.8902\n",
      "Epoch 5/20\n",
      "1875/1875 [==============================] - 6s 3ms/step - loss: 0.2913 - accuracy: 0.8910 - val_loss: 0.2820 - val_accuracy: 0.8944\n",
      "Epoch 6/20\n",
      "1875/1875 [==============================] - 6s 3ms/step - loss: 0.2757 - accuracy: 0.8970 - val_loss: 0.2493 - val_accuracy: 0.9054\n",
      "Epoch 7/20\n",
      "1875/1875 [==============================] - 6s 3ms/step - loss: 0.2647 - accuracy: 0.8997 - val_loss: 0.2328 - val_accuracy: 0.9120\n",
      "Epoch 8/20\n",
      "1859/1875 [============================>.] - ETA: 0s - loss: 0.2510 - accuracy: 0.9055\n",
      "Alcanzado el 0.9% de precisión y 0.4% de pérdida, se cancela el entrenamiento!!\n",
      "1875/1875 [==============================] - 6s 3ms/step - loss: 0.2511 - accuracy: 0.9054 - val_loss: 0.2197 - val_accuracy: 0.9172\n",
      "313/313 [==============================] - 1s 2ms/step - loss: 0.3199 - accuracy: 0.8868\n"
     ]
    },
    {
     "data": {
      "text/plain": [
       "[0.319913774728775, 0.8867999911308289]"
      ]
     },
     "execution_count": 72,
     "metadata": {},
     "output_type": "execute_result"
    }
   ],
   "source": [
    "Adam = nn_optimizers(tf.keras.optimizers.Adam())\n",
    "Adam"
   ]
  },
  {
   "cell_type": "markdown",
   "metadata": {},
   "source": [
    "#### AdamW"
   ]
  },
  {
   "cell_type": "code",
   "execution_count": 73,
   "metadata": {},
   "outputs": [
    {
     "name": "stdout",
     "output_type": "stream",
     "text": [
      "Epoch 1/20\n",
      "1875/1875 [==============================] - 7s 3ms/step - loss: 0.4870 - accuracy: 0.8234 - val_loss: 0.3504 - val_accuracy: 0.8752\n",
      "Epoch 2/20\n",
      "1875/1875 [==============================] - 6s 3ms/step - loss: 0.3655 - accuracy: 0.8658 - val_loss: 0.3247 - val_accuracy: 0.8818\n",
      "Epoch 3/20\n",
      "1875/1875 [==============================] - 6s 3ms/step - loss: 0.3298 - accuracy: 0.8783 - val_loss: 0.3101 - val_accuracy: 0.8864\n",
      "Epoch 4/20\n",
      "1875/1875 [==============================] - 6s 3ms/step - loss: 0.3075 - accuracy: 0.8851 - val_loss: 0.3001 - val_accuracy: 0.8852\n",
      "Epoch 5/20\n",
      "1875/1875 [==============================] - 6s 3ms/step - loss: 0.2910 - accuracy: 0.8914 - val_loss: 0.2495 - val_accuracy: 0.9106\n",
      "Epoch 6/20\n",
      "1875/1875 [==============================] - 6s 3ms/step - loss: 0.2777 - accuracy: 0.8960 - val_loss: 0.2517 - val_accuracy: 0.9068\n",
      "Epoch 7/20\n",
      "1870/1875 [============================>.] - ETA: 0s - loss: 0.2654 - accuracy: 0.9008\n",
      "Alcanzado el 0.9% de precisión y 0.4% de pérdida, se cancela el entrenamiento!!\n",
      "1875/1875 [==============================] - 6s 3ms/step - loss: 0.2654 - accuracy: 0.9008 - val_loss: 0.2414 - val_accuracy: 0.9066\n",
      "313/313 [==============================] - 1s 2ms/step - loss: 0.3415 - accuracy: 0.8803\n"
     ]
    },
    {
     "data": {
      "text/plain": [
       "[0.34151172637939453, 0.880299985408783]"
      ]
     },
     "execution_count": 73,
     "metadata": {},
     "output_type": "execute_result"
    }
   ],
   "source": [
    "AdamW = nn_optimizers(tf.keras.optimizers.AdamW())\n",
    "AdamW"
   ]
  },
  {
   "cell_type": "markdown",
   "metadata": {},
   "source": [
    "#### Adadelta"
   ]
  },
  {
   "cell_type": "code",
   "execution_count": 74,
   "metadata": {},
   "outputs": [
    {
     "name": "stdout",
     "output_type": "stream",
     "text": [
      "Epoch 1/20\n",
      "1875/1875 [==============================] - 7s 4ms/step - loss: 2.2224 - accuracy: 0.1685 - val_loss: 2.1186 - val_accuracy: 0.3124\n",
      "Epoch 2/20\n",
      "1875/1875 [==============================] - 6s 3ms/step - loss: 2.0153 - accuracy: 0.4661 - val_loss: 1.9036 - val_accuracy: 0.5608\n",
      "Epoch 3/20\n",
      "1875/1875 [==============================] - 6s 3ms/step - loss: 1.7883 - accuracy: 0.5984 - val_loss: 1.6624 - val_accuracy: 0.6326\n",
      "Epoch 4/20\n",
      "1875/1875 [==============================] - 6s 3ms/step - loss: 1.5580 - accuracy: 0.6384 - val_loss: 1.4416 - val_accuracy: 0.6576\n",
      "Epoch 5/20\n",
      "1875/1875 [==============================] - 6s 3ms/step - loss: 1.3610 - accuracy: 0.6537 - val_loss: 1.2656 - val_accuracy: 0.6700\n",
      "Epoch 6/20\n",
      "1875/1875 [==============================] - 6s 3ms/step - loss: 1.2103 - accuracy: 0.6624 - val_loss: 1.1368 - val_accuracy: 0.6774\n",
      "Epoch 7/20\n",
      "1875/1875 [==============================] - 6s 3ms/step - loss: 1.1015 - accuracy: 0.6737 - val_loss: 1.0441 - val_accuracy: 0.6872\n",
      "Epoch 8/20\n",
      "1875/1875 [==============================] - 6s 3ms/step - loss: 1.0222 - accuracy: 0.6844 - val_loss: 0.9759 - val_accuracy: 0.6998\n",
      "Epoch 9/20\n",
      "1875/1875 [==============================] - 6s 3ms/step - loss: 0.9629 - accuracy: 0.6959 - val_loss: 0.9239 - val_accuracy: 0.7118\n",
      "Epoch 10/20\n",
      "1875/1875 [==============================] - 6s 3ms/step - loss: 0.9167 - accuracy: 0.7064 - val_loss: 0.8826 - val_accuracy: 0.7182\n",
      "Epoch 11/20\n",
      "1875/1875 [==============================] - 6s 3ms/step - loss: 0.8793 - accuracy: 0.7140 - val_loss: 0.8487 - val_accuracy: 0.7288\n",
      "Epoch 12/20\n",
      "1875/1875 [==============================] - 6s 3ms/step - loss: 0.8481 - accuracy: 0.7215 - val_loss: 0.8202 - val_accuracy: 0.7374\n",
      "Epoch 13/20\n",
      "1875/1875 [==============================] - 6s 3ms/step - loss: 0.8219 - accuracy: 0.7282 - val_loss: 0.7957 - val_accuracy: 0.7426\n",
      "Epoch 14/20\n",
      "1875/1875 [==============================] - 6s 3ms/step - loss: 0.7991 - accuracy: 0.7330 - val_loss: 0.7747 - val_accuracy: 0.7476\n",
      "Epoch 15/20\n",
      "1875/1875 [==============================] - 6s 3ms/step - loss: 0.7792 - accuracy: 0.7384 - val_loss: 0.7561 - val_accuracy: 0.7514\n",
      "Epoch 16/20\n",
      "1875/1875 [==============================] - 6s 3ms/step - loss: 0.7614 - accuracy: 0.7433 - val_loss: 0.7392 - val_accuracy: 0.7574\n",
      "Epoch 17/20\n",
      "1875/1875 [==============================] - 6s 3ms/step - loss: 0.7453 - accuracy: 0.7485 - val_loss: 0.7238 - val_accuracy: 0.7606\n",
      "Epoch 18/20\n",
      "1875/1875 [==============================] - 6s 3ms/step - loss: 0.7307 - accuracy: 0.7523 - val_loss: 0.7100 - val_accuracy: 0.7642\n",
      "Epoch 19/20\n",
      "1875/1875 [==============================] - 6s 3ms/step - loss: 0.7174 - accuracy: 0.7565 - val_loss: 0.6972 - val_accuracy: 0.7672\n",
      "Epoch 20/20\n",
      "1875/1875 [==============================] - 6s 3ms/step - loss: 0.7052 - accuracy: 0.7599 - val_loss: 0.6852 - val_accuracy: 0.7706\n",
      "313/313 [==============================] - 1s 2ms/step - loss: 0.7150 - accuracy: 0.7511\n"
     ]
    },
    {
     "data": {
      "text/plain": [
       "[0.7150465250015259, 0.7511000037193298]"
      ]
     },
     "execution_count": 74,
     "metadata": {},
     "output_type": "execute_result"
    }
   ],
   "source": [
    "Adadelta = nn_optimizers(tf.keras.optimizers.Adadelta())\n",
    "Adadelta"
   ]
  },
  {
   "cell_type": "markdown",
   "metadata": {},
   "source": [
    "#### Adagrad"
   ]
  },
  {
   "cell_type": "code",
   "execution_count": 75,
   "metadata": {},
   "outputs": [
    {
     "name": "stdout",
     "output_type": "stream",
     "text": [
      "Epoch 1/20\n",
      "1875/1875 [==============================] - 6s 3ms/step - loss: 1.1352 - accuracy: 0.6434 - val_loss: 0.7317 - val_accuracy: 0.7562\n",
      "Epoch 2/20\n",
      "1875/1875 [==============================] - 5s 3ms/step - loss: 0.6716 - accuracy: 0.7750 - val_loss: 0.6036 - val_accuracy: 0.8016\n",
      "Epoch 3/20\n",
      "1875/1875 [==============================] - 5s 3ms/step - loss: 0.5881 - accuracy: 0.8041 - val_loss: 0.5527 - val_accuracy: 0.8130\n",
      "Epoch 4/20\n",
      "1875/1875 [==============================] - 5s 3ms/step - loss: 0.5448 - accuracy: 0.8169 - val_loss: 0.5157 - val_accuracy: 0.8288\n",
      "Epoch 5/20\n",
      "1875/1875 [==============================] - 5s 3ms/step - loss: 0.5177 - accuracy: 0.8247 - val_loss: 0.4930 - val_accuracy: 0.8340\n",
      "Epoch 6/20\n",
      "1875/1875 [==============================] - 5s 3ms/step - loss: 0.4984 - accuracy: 0.8313 - val_loss: 0.4791 - val_accuracy: 0.8420\n",
      "Epoch 7/20\n",
      "1875/1875 [==============================] - 5s 3ms/step - loss: 0.4841 - accuracy: 0.8346 - val_loss: 0.4665 - val_accuracy: 0.8448\n",
      "Epoch 8/20\n",
      "1875/1875 [==============================] - 5s 3ms/step - loss: 0.4732 - accuracy: 0.8385 - val_loss: 0.4550 - val_accuracy: 0.8488\n",
      "Epoch 9/20\n",
      "1875/1875 [==============================] - 5s 3ms/step - loss: 0.4638 - accuracy: 0.8410 - val_loss: 0.4464 - val_accuracy: 0.8536\n",
      "Epoch 10/20\n",
      "1875/1875 [==============================] - 5s 3ms/step - loss: 0.4561 - accuracy: 0.8436 - val_loss: 0.4384 - val_accuracy: 0.8552\n",
      "Epoch 11/20\n",
      "1875/1875 [==============================] - 5s 3ms/step - loss: 0.4495 - accuracy: 0.8456 - val_loss: 0.4347 - val_accuracy: 0.8574\n",
      "Epoch 12/20\n",
      "1875/1875 [==============================] - 5s 3ms/step - loss: 0.4436 - accuracy: 0.8472 - val_loss: 0.4272 - val_accuracy: 0.8574\n",
      "Epoch 13/20\n",
      "1875/1875 [==============================] - 5s 3ms/step - loss: 0.4385 - accuracy: 0.8490 - val_loss: 0.4237 - val_accuracy: 0.8592\n",
      "Epoch 14/20\n",
      "1875/1875 [==============================] - 5s 3ms/step - loss: 0.4337 - accuracy: 0.8504 - val_loss: 0.4215 - val_accuracy: 0.8610\n",
      "Epoch 15/20\n",
      "1875/1875 [==============================] - 5s 3ms/step - loss: 0.4295 - accuracy: 0.8520 - val_loss: 0.4146 - val_accuracy: 0.8608\n",
      "Epoch 16/20\n",
      "1875/1875 [==============================] - 5s 3ms/step - loss: 0.4255 - accuracy: 0.8530 - val_loss: 0.4111 - val_accuracy: 0.8622\n",
      "Epoch 17/20\n",
      "1875/1875 [==============================] - 5s 3ms/step - loss: 0.4219 - accuracy: 0.8542 - val_loss: 0.4077 - val_accuracy: 0.8640\n",
      "Epoch 18/20\n",
      "1875/1875 [==============================] - 5s 3ms/step - loss: 0.4182 - accuracy: 0.8552 - val_loss: 0.4061 - val_accuracy: 0.8650\n",
      "Epoch 19/20\n",
      "1875/1875 [==============================] - 5s 3ms/step - loss: 0.4155 - accuracy: 0.8558 - val_loss: 0.4027 - val_accuracy: 0.8666\n",
      "Epoch 20/20\n",
      "1875/1875 [==============================] - 5s 3ms/step - loss: 0.4125 - accuracy: 0.8572 - val_loss: 0.3986 - val_accuracy: 0.8686\n",
      "313/313 [==============================] - 1s 2ms/step - loss: 0.4445 - accuracy: 0.8422\n"
     ]
    },
    {
     "data": {
      "text/plain": [
       "[0.44447749853134155, 0.842199981212616]"
      ]
     },
     "execution_count": 75,
     "metadata": {},
     "output_type": "execute_result"
    }
   ],
   "source": [
    "Adagrad = nn_optimizers(tf.keras.optimizers.Adagrad())\n",
    "Adagrad"
   ]
  },
  {
   "cell_type": "markdown",
   "metadata": {},
   "source": [
    "#### Adamax"
   ]
  },
  {
   "cell_type": "code",
   "execution_count": 76,
   "metadata": {},
   "outputs": [
    {
     "name": "stdout",
     "output_type": "stream",
     "text": [
      "Epoch 1/20\n",
      "1875/1875 [==============================] - 7s 3ms/step - loss: 0.5297 - accuracy: 0.8129 - val_loss: 0.4153 - val_accuracy: 0.8546\n",
      "Epoch 2/20\n",
      "1875/1875 [==============================] - 6s 3ms/step - loss: 0.3897 - accuracy: 0.8607 - val_loss: 0.3646 - val_accuracy: 0.8710\n",
      "Epoch 3/20\n",
      "1875/1875 [==============================] - 6s 3ms/step - loss: 0.3504 - accuracy: 0.8733 - val_loss: 0.3831 - val_accuracy: 0.8514\n",
      "Epoch 4/20\n",
      "1875/1875 [==============================] - 6s 3ms/step - loss: 0.3244 - accuracy: 0.8820 - val_loss: 0.3013 - val_accuracy: 0.8932\n",
      "Epoch 5/20\n",
      "1875/1875 [==============================] - 6s 3ms/step - loss: 0.3077 - accuracy: 0.8872 - val_loss: 0.2710 - val_accuracy: 0.8998\n",
      "Epoch 6/20\n",
      "1875/1875 [==============================] - 6s 3ms/step - loss: 0.2930 - accuracy: 0.8919 - val_loss: 0.2599 - val_accuracy: 0.9030\n",
      "Epoch 7/20\n",
      "1875/1875 [==============================] - 6s 3ms/step - loss: 0.2785 - accuracy: 0.8963 - val_loss: 0.2641 - val_accuracy: 0.9034\n",
      "Epoch 8/20\n",
      "1871/1875 [============================>.] - ETA: 0s - loss: 0.2665 - accuracy: 0.9014\n",
      "Alcanzado el 0.9% de precisión y 0.4% de pérdida, se cancela el entrenamiento!!\n",
      "1875/1875 [==============================] - 6s 3ms/step - loss: 0.2666 - accuracy: 0.9014 - val_loss: 0.2588 - val_accuracy: 0.9022\n",
      "313/313 [==============================] - 1s 2ms/step - loss: 0.3483 - accuracy: 0.8742\n"
     ]
    },
    {
     "data": {
      "text/plain": [
       "[0.34832513332366943, 0.8741999864578247]"
      ]
     },
     "execution_count": 76,
     "metadata": {},
     "output_type": "execute_result"
    }
   ],
   "source": [
    "Adamax = nn_optimizers(tf.keras.optimizers.Adamax())\n",
    "Adamax"
   ]
  },
  {
   "cell_type": "markdown",
   "metadata": {},
   "source": [
    "#### Adafactor"
   ]
  },
  {
   "cell_type": "code",
   "execution_count": 77,
   "metadata": {},
   "outputs": [
    {
     "name": "stdout",
     "output_type": "stream",
     "text": [
      "Epoch 1/20\n",
      "1875/1875 [==============================] - 7s 3ms/step - loss: 2.3026 - accuracy: 0.0976 - val_loss: 2.3026 - val_accuracy: 0.1112\n",
      "Epoch 2/20\n",
      "1875/1875 [==============================] - 6s 3ms/step - loss: 2.3026 - accuracy: 0.0985 - val_loss: 2.3026 - val_accuracy: 0.0986\n",
      "Epoch 3/20\n",
      "1875/1875 [==============================] - 6s 3ms/step - loss: 2.3026 - accuracy: 0.0978 - val_loss: 2.3026 - val_accuracy: 0.0986\n",
      "Epoch 4/20\n",
      "1875/1875 [==============================] - 6s 3ms/step - loss: 2.3026 - accuracy: 0.0972 - val_loss: 2.3026 - val_accuracy: 0.0986\n",
      "Epoch 5/20\n",
      "1875/1875 [==============================] - 6s 3ms/step - loss: 2.3026 - accuracy: 0.0987 - val_loss: 2.3026 - val_accuracy: 0.0986\n",
      "Epoch 6/20\n",
      "1875/1875 [==============================] - 6s 3ms/step - loss: 2.3026 - accuracy: 0.0960 - val_loss: 2.3026 - val_accuracy: 0.1008\n",
      "Epoch 7/20\n",
      "1875/1875 [==============================] - 6s 3ms/step - loss: 2.3026 - accuracy: 0.0993 - val_loss: 2.3026 - val_accuracy: 0.1008\n",
      "Epoch 8/20\n",
      "1875/1875 [==============================] - 6s 3ms/step - loss: 2.3026 - accuracy: 0.0983 - val_loss: 2.3026 - val_accuracy: 0.1008\n",
      "Epoch 9/20\n",
      "1875/1875 [==============================] - 6s 3ms/step - loss: 2.3026 - accuracy: 0.0996 - val_loss: 2.3026 - val_accuracy: 0.0986\n",
      "Epoch 10/20\n",
      "1875/1875 [==============================] - 6s 3ms/step - loss: 2.3026 - accuracy: 0.0962 - val_loss: 2.3026 - val_accuracy: 0.1008\n",
      "Epoch 11/20\n",
      "1875/1875 [==============================] - 6s 3ms/step - loss: 2.3026 - accuracy: 0.0975 - val_loss: 2.3026 - val_accuracy: 0.1008\n",
      "Epoch 12/20\n",
      "1875/1875 [==============================] - 6s 3ms/step - loss: 2.3026 - accuracy: 0.0997 - val_loss: 2.3026 - val_accuracy: 0.1008\n",
      "Epoch 13/20\n",
      "1875/1875 [==============================] - 6s 3ms/step - loss: 2.3026 - accuracy: 0.0975 - val_loss: 2.3026 - val_accuracy: 0.1008\n",
      "Epoch 14/20\n",
      "1875/1875 [==============================] - 6s 3ms/step - loss: 2.3026 - accuracy: 0.0993 - val_loss: 2.3026 - val_accuracy: 0.1008\n",
      "Epoch 15/20\n",
      "1875/1875 [==============================] - 6s 3ms/step - loss: 2.3026 - accuracy: 0.0985 - val_loss: 2.3026 - val_accuracy: 0.1008\n",
      "Epoch 16/20\n",
      "1875/1875 [==============================] - 6s 3ms/step - loss: 2.3026 - accuracy: 0.0976 - val_loss: 2.3026 - val_accuracy: 0.1008\n",
      "Epoch 17/20\n",
      "1875/1875 [==============================] - 6s 3ms/step - loss: 2.3026 - accuracy: 0.0981 - val_loss: 2.3026 - val_accuracy: 0.1008\n",
      "Epoch 18/20\n",
      "1875/1875 [==============================] - 6s 3ms/step - loss: 2.3026 - accuracy: 0.0993 - val_loss: 2.3026 - val_accuracy: 0.1008\n",
      "Epoch 19/20\n",
      "1875/1875 [==============================] - 6s 3ms/step - loss: 2.3026 - accuracy: 0.0976 - val_loss: 2.3026 - val_accuracy: 0.1008\n",
      "Epoch 20/20\n",
      "1875/1875 [==============================] - 6s 3ms/step - loss: 2.3026 - accuracy: 0.0962 - val_loss: 2.3026 - val_accuracy: 0.0914\n",
      "313/313 [==============================] - 1s 2ms/step - loss: 2.3026 - accuracy: 0.1000\n"
     ]
    },
    {
     "data": {
      "text/plain": [
       "[2.302589178085327, 0.10000000149011612]"
      ]
     },
     "execution_count": 77,
     "metadata": {},
     "output_type": "execute_result"
    }
   ],
   "source": [
    "Adafactor = nn_optimizers(tf.keras.optimizers.Adafactor())\n",
    "Adafactor"
   ]
  },
  {
   "cell_type": "markdown",
   "metadata": {},
   "source": [
    "#### Nadam"
   ]
  },
  {
   "cell_type": "code",
   "execution_count": 78,
   "metadata": {},
   "outputs": [
    {
     "name": "stdout",
     "output_type": "stream",
     "text": [
      "Epoch 1/20\n",
      "1875/1875 [==============================] - 8s 3ms/step - loss: 0.4705 - accuracy: 0.8299 - val_loss: 0.3768 - val_accuracy: 0.8544\n",
      "Epoch 2/20\n",
      "1875/1875 [==============================] - 6s 3ms/step - loss: 0.3569 - accuracy: 0.8692 - val_loss: 0.3047 - val_accuracy: 0.8896\n",
      "Epoch 3/20\n",
      "1875/1875 [==============================] - 6s 3ms/step - loss: 0.3263 - accuracy: 0.8800 - val_loss: 0.2736 - val_accuracy: 0.8956\n",
      "Epoch 4/20\n",
      "1875/1875 [==============================] - 6s 3ms/step - loss: 0.3025 - accuracy: 0.8869 - val_loss: 0.2779 - val_accuracy: 0.8976\n",
      "Epoch 5/20\n",
      "1875/1875 [==============================] - 6s 3ms/step - loss: 0.2878 - accuracy: 0.8921 - val_loss: 0.2675 - val_accuracy: 0.9024\n",
      "Epoch 6/20\n",
      "1875/1875 [==============================] - 6s 3ms/step - loss: 0.2732 - accuracy: 0.8973 - val_loss: 0.2483 - val_accuracy: 0.9092\n",
      "Epoch 7/20\n",
      "1875/1875 [==============================] - ETA: 0s - loss: 0.2606 - accuracy: 0.9026\n",
      "Alcanzado el 0.9% de precisión y 0.4% de pérdida, se cancela el entrenamiento!!\n",
      "1875/1875 [==============================] - 6s 3ms/step - loss: 0.2606 - accuracy: 0.9026 - val_loss: 0.2439 - val_accuracy: 0.9106\n",
      "313/313 [==============================] - 1s 2ms/step - loss: 0.3487 - accuracy: 0.8774\n"
     ]
    },
    {
     "data": {
      "text/plain": [
       "[0.348713219165802, 0.8773999810218811]"
      ]
     },
     "execution_count": 78,
     "metadata": {},
     "output_type": "execute_result"
    }
   ],
   "source": [
    "Nadam = nn_optimizers(tf.keras.optimizers.Nadam())\n",
    "Nadam"
   ]
  },
  {
   "cell_type": "markdown",
   "metadata": {},
   "source": [
    "#### Ftrl"
   ]
  },
  {
   "cell_type": "code",
   "execution_count": 79,
   "metadata": {},
   "outputs": [
    {
     "name": "stdout",
     "output_type": "stream",
     "text": [
      "Epoch 1/20\n",
      "1875/1875 [==============================] - 8s 4ms/step - loss: 2.3026 - accuracy: 0.0993 - val_loss: 2.3026 - val_accuracy: 0.1012\n",
      "Epoch 2/20\n",
      "1875/1875 [==============================] - 6s 3ms/step - loss: 2.3026 - accuracy: 0.0991 - val_loss: 2.3026 - val_accuracy: 0.1012\n",
      "Epoch 3/20\n",
      "1875/1875 [==============================] - 6s 3ms/step - loss: 2.3026 - accuracy: 0.0988 - val_loss: 2.3026 - val_accuracy: 0.1012\n",
      "Epoch 4/20\n",
      "1875/1875 [==============================] - 6s 3ms/step - loss: 2.3026 - accuracy: 0.0999 - val_loss: 2.3026 - val_accuracy: 0.1012\n",
      "Epoch 5/20\n",
      "1875/1875 [==============================] - 6s 3ms/step - loss: 2.3026 - accuracy: 0.1000 - val_loss: 2.3026 - val_accuracy: 0.1012\n",
      "Epoch 6/20\n",
      "1875/1875 [==============================] - 6s 3ms/step - loss: 2.3026 - accuracy: 0.0982 - val_loss: 2.3026 - val_accuracy: 0.1012\n",
      "Epoch 7/20\n",
      "1875/1875 [==============================] - 6s 3ms/step - loss: 2.3026 - accuracy: 0.1000 - val_loss: 2.3026 - val_accuracy: 0.1012\n",
      "Epoch 8/20\n",
      "1875/1875 [==============================] - 6s 3ms/step - loss: 2.3026 - accuracy: 0.1000 - val_loss: 2.3026 - val_accuracy: 0.1012\n",
      "Epoch 9/20\n",
      "1875/1875 [==============================] - 6s 3ms/step - loss: 2.3026 - accuracy: 0.0997 - val_loss: 2.3026 - val_accuracy: 0.1012\n",
      "Epoch 10/20\n",
      "1875/1875 [==============================] - 6s 3ms/step - loss: 2.3026 - accuracy: 0.1000 - val_loss: 2.3026 - val_accuracy: 0.1012\n",
      "Epoch 11/20\n",
      "1875/1875 [==============================] - 6s 3ms/step - loss: 2.3026 - accuracy: 0.1000 - val_loss: 2.3026 - val_accuracy: 0.1012\n",
      "Epoch 12/20\n",
      "1875/1875 [==============================] - 6s 3ms/step - loss: 2.3026 - accuracy: 0.1000 - val_loss: 2.3026 - val_accuracy: 0.1012\n",
      "Epoch 13/20\n",
      "1875/1875 [==============================] - 6s 3ms/step - loss: 2.3026 - accuracy: 0.1000 - val_loss: 2.3026 - val_accuracy: 0.1012\n",
      "Epoch 14/20\n",
      "1875/1875 [==============================] - 6s 3ms/step - loss: 2.3026 - accuracy: 0.1000 - val_loss: 2.3026 - val_accuracy: 0.1012\n",
      "Epoch 15/20\n",
      "1875/1875 [==============================] - 6s 3ms/step - loss: 2.3026 - accuracy: 0.1000 - val_loss: 2.3026 - val_accuracy: 0.1012\n",
      "Epoch 16/20\n",
      "1875/1875 [==============================] - 6s 3ms/step - loss: 2.3026 - accuracy: 0.1000 - val_loss: 2.3026 - val_accuracy: 0.1012\n",
      "Epoch 17/20\n",
      "1875/1875 [==============================] - 6s 3ms/step - loss: 2.3026 - accuracy: 0.1000 - val_loss: 2.3026 - val_accuracy: 0.1012\n",
      "Epoch 18/20\n",
      "1875/1875 [==============================] - 6s 3ms/step - loss: 2.3026 - accuracy: 0.0992 - val_loss: 2.3026 - val_accuracy: 0.1012\n",
      "Epoch 19/20\n",
      "1875/1875 [==============================] - 6s 3ms/step - loss: 2.3026 - accuracy: 0.0996 - val_loss: 2.3026 - val_accuracy: 0.1012\n",
      "Epoch 20/20\n",
      "1875/1875 [==============================] - 6s 3ms/step - loss: 2.3026 - accuracy: 0.1000 - val_loss: 2.3026 - val_accuracy: 0.1012\n",
      "313/313 [==============================] - 1s 2ms/step - loss: 2.3026 - accuracy: 0.1000\n"
     ]
    },
    {
     "data": {
      "text/plain": [
       "[2.3025858402252197, 0.10000000149011612]"
      ]
     },
     "execution_count": 79,
     "metadata": {},
     "output_type": "execute_result"
    }
   ],
   "source": [
    "Ftrl = nn_optimizers(tf.keras.optimizers.Ftrl())\n",
    "Ftrl"
   ]
  },
  {
   "cell_type": "markdown",
   "metadata": {},
   "source": [
    "#### *Resumen de los resultados de los optimizadores*"
   ]
  },
  {
   "cell_type": "code",
   "execution_count": 80,
   "metadata": {},
   "outputs": [
    {
     "name": "stdout",
     "output_type": "stream",
     "text": [
      "La precisión del modelo con el optimizador SGD es: 0.8756999969482422 \n",
      "La precisión del modelo con el optimizador RMSProp es: 0.873199999332428 \n",
      "La precisión del modelo con el optimizador Adam es: 0.8867999911308289 \n",
      "La precisión del modelo con el optimizador AdamW es: 0.880299985408783 \n",
      "La precisión del modelo con el optimizador Adadelta es: 0.7511000037193298 \n",
      "La precisión del modelo con el optimizador Adagrad es: 0.842199981212616 \n",
      "La precisión del modelo con el optimizador Adamax es: 0.8741999864578247 \n",
      "La precisión del modelo con el optimizador Adafactor es: 0.10000000149011612 \n",
      "La precisión del modelo con el optimizador Nadam es: 0.8773999810218811 \n",
      "La precisión del modelo con el optimizador Ftrl es: 0.10000000149011612 \n",
      "--------------------------------------------------------------------------\n",
      "El mejor optimizador ha resultado ser Adam con un accuracy de: 0.8867999911308289\n"
     ]
    }
   ],
   "source": [
    "diccionario_optimizadores = {\n",
    "    \"SGD\": SGD[1],\n",
    "    \"RMSProp\": RMSProp[1],\n",
    "    \"Adam\": Adam[1],\n",
    "    \"AdamW\": AdamW[1],  \n",
    "    \"Adadelta\": Adadelta[1],\n",
    "    \"Adagrad\" : Adagrad[1],\n",
    "    \"Adamax\": Adamax[1],\n",
    "    \"Adafactor\": Adafactor[1],\n",
    "    \"Nadam\": Nadam[1],\n",
    "    \"Ftrl\": Ftrl[1]\n",
    "}\n",
    "best_optimizer = 0\n",
    "best_optimizer_tag = 0\n",
    "for i, j in diccionario_optimizadores.items():\n",
    "    print(\"La precisión del modelo con el optimizador {} es: {} \".format(i, j))\n",
    "    if best_optimizer < j:\n",
    "        best_optimizer = j\n",
    "        best_optimizer_tag = i\n",
    "\n",
    "print(\"--------------------------------------------------------------------------\")\n",
    "print(\"El mejor optimizador ha resultado ser {} con un accuracy de: {}\".format(best_optimizer_tag, best_optimizer))"
   ]
  },
  {
   "cell_type": "markdown",
   "metadata": {
    "id": "BkfTFoJOTFqZ"
   },
   "source": [
    "## 12. Regularización y red final "
   ]
  },
  {
   "cell_type": "markdown",
   "metadata": {
    "id": "f6CQhK7ZTFqZ"
   },
   "source": [
    "**Ejercicio 12 *(1 punto)***: Entrenar una red final que sea capaz de obtener una accuracy en el validation set cercana al 90%. Para ello, combinar todo lo aprendido anteriormente y utilizar técnicas de regularización para evitar overfitting. Algunos de los elementos que pueden tenerse en cuenta son los siguientes.\n",
    "\n",
    "* Número de capas y neuronas por capa\n",
    "* Optimizadores y sus parámetros\n",
    "* Batch size\n",
    "* Unidades de activación\n",
    "* Uso de capas dropout, regularización L2, regularización L1...\n",
    "* Early stopping (se puede aplicar como un callback de Keras, o se puede ver un poco \"a ojo\" cuándo el modelo empieza a caer en overfitting y seleccionar el número de epochs necesarias)\n",
    "* Batch normalization\n",
    "\n",
    "Si los modelos entrenados anteriormente ya se acercaban al valor requerido de accuracy, probar distintas estrategias igualmente y comentar los resultados.\n",
    "\n",
    "Explicar brevemente la estrategia seguida y los modelos probados para obtener el modelo final, que debe verse entrenado en este Notebook. No es necesario guardar el entrenamiento de todos los modelos que se han probado, es suficiente con explicar cómo se ha llegado al modelo final."
   ]
  },
  {
   "cell_type": "code",
   "execution_count": 81,
   "metadata": {},
   "outputs": [],
   "source": [
    "mejor_resultado = 0"
   ]
  },
  {
   "cell_type": "code",
   "execution_count": 82,
   "metadata": {
    "id": "AUJ5AtunTFqa"
   },
   "outputs": [
    {
     "name": "stdout",
     "output_type": "stream",
     "text": [
      "Epoch 1/30\n",
      "1875/1875 [==============================] - 7s 3ms/step - loss: 0.4879 - accuracy: 0.8223 - val_loss: 0.3910 - val_accuracy: 0.8562\n",
      "Epoch 2/30\n",
      "1875/1875 [==============================] - 6s 3ms/step - loss: 0.3674 - accuracy: 0.8637 - val_loss: 0.3303 - val_accuracy: 0.8784\n",
      "Epoch 3/30\n",
      "1875/1875 [==============================] - 6s 3ms/step - loss: 0.3319 - accuracy: 0.8776 - val_loss: 0.3031 - val_accuracy: 0.8880\n",
      "Epoch 4/30\n",
      "1875/1875 [==============================] - 6s 3ms/step - loss: 0.3115 - accuracy: 0.8847 - val_loss: 0.2723 - val_accuracy: 0.8964\n",
      "Epoch 5/30\n",
      "1875/1875 [==============================] - 6s 3ms/step - loss: 0.2916 - accuracy: 0.8921 - val_loss: 0.2497 - val_accuracy: 0.9076\n",
      "Epoch 6/30\n",
      "1875/1875 [==============================] - 6s 3ms/step - loss: 0.2763 - accuracy: 0.8974 - val_loss: 0.2547 - val_accuracy: 0.9024\n",
      "Epoch 7/30\n",
      "1867/1875 [============================>.] - ETA: 0s - loss: 0.2660 - accuracy: 0.9000\n",
      "Alcanzado el 0.9% de precisión y 0.4% de pérdida, se cancela el entrenamiento!!\n",
      "1875/1875 [==============================] - 6s 3ms/step - loss: 0.2661 - accuracy: 0.9001 - val_loss: 0.2340 - val_accuracy: 0.9132\n",
      "313/313 [==============================] - 1s 2ms/step - loss: 0.3312 - accuracy: 0.8807\n",
      "\n",
      "\n",
      "Mejor resultado de accuracy obtenido: 0.8806999921798706\n",
      "Epoch 1/30\n",
      "1875/1875 [==============================] - 7s 3ms/step - loss: 0.4918 - accuracy: 0.8218 - val_loss: 0.3645 - val_accuracy: 0.8686\n",
      "Epoch 2/30\n",
      "1875/1875 [==============================] - 6s 3ms/step - loss: 0.3692 - accuracy: 0.8640 - val_loss: 0.3494 - val_accuracy: 0.8718\n",
      "Epoch 3/30\n",
      "1875/1875 [==============================] - 6s 3ms/step - loss: 0.3343 - accuracy: 0.8755 - val_loss: 0.2830 - val_accuracy: 0.8936\n",
      "Epoch 4/30\n",
      "1875/1875 [==============================] - 6s 3ms/step - loss: 0.3083 - accuracy: 0.8858 - val_loss: 0.2919 - val_accuracy: 0.8888\n",
      "Epoch 5/30\n",
      "1875/1875 [==============================] - 6s 3ms/step - loss: 0.2921 - accuracy: 0.8908 - val_loss: 0.3042 - val_accuracy: 0.8862\n",
      "Epoch 6/30\n",
      "1875/1875 [==============================] - 6s 3ms/step - loss: 0.2791 - accuracy: 0.8949 - val_loss: 0.2534 - val_accuracy: 0.9036\n",
      "Epoch 7/30\n",
      "1875/1875 [==============================] - 6s 3ms/step - loss: 0.2661 - accuracy: 0.8999 - val_loss: 0.2420 - val_accuracy: 0.9042\n",
      "Epoch 8/30\n",
      "1872/1875 [============================>.] - ETA: 0s - loss: 0.2565 - accuracy: 0.9027\n",
      "Alcanzado el 0.9% de precisión y 0.4% de pérdida, se cancela el entrenamiento!!\n",
      "1875/1875 [==============================] - 6s 3ms/step - loss: 0.2566 - accuracy: 0.9027 - val_loss: 0.2749 - val_accuracy: 0.8962\n",
      "313/313 [==============================] - 1s 2ms/step - loss: 0.3881 - accuracy: 0.8616\n",
      "\n",
      "\n",
      "Mejor resultado de accuracy obtenido: 0.8806999921798706\n",
      "Epoch 1/30\n",
      "1875/1875 [==============================] - 7s 3ms/step - loss: 0.4914 - accuracy: 0.8207 - val_loss: 0.3569 - val_accuracy: 0.8700\n",
      "Epoch 2/30\n",
      "1875/1875 [==============================] - 6s 3ms/step - loss: 0.3664 - accuracy: 0.8657 - val_loss: 0.3352 - val_accuracy: 0.8720\n",
      "Epoch 3/30\n",
      "1875/1875 [==============================] - 6s 3ms/step - loss: 0.3334 - accuracy: 0.8766 - val_loss: 0.2965 - val_accuracy: 0.8928\n",
      "Epoch 4/30\n",
      "1875/1875 [==============================] - 6s 3ms/step - loss: 0.3089 - accuracy: 0.8848 - val_loss: 0.2759 - val_accuracy: 0.8990\n",
      "Epoch 5/30\n",
      "1875/1875 [==============================] - 6s 3ms/step - loss: 0.2912 - accuracy: 0.8909 - val_loss: 0.2603 - val_accuracy: 0.8996\n",
      "Epoch 6/30\n",
      "1875/1875 [==============================] - 6s 3ms/step - loss: 0.2781 - accuracy: 0.8958 - val_loss: 0.2593 - val_accuracy: 0.9006\n",
      "Epoch 7/30\n",
      "1860/1875 [============================>.] - ETA: 0s - loss: 0.2654 - accuracy: 0.9011\n",
      "Alcanzado el 0.9% de precisión y 0.4% de pérdida, se cancela el entrenamiento!!\n",
      "1875/1875 [==============================] - 6s 3ms/step - loss: 0.2651 - accuracy: 0.9013 - val_loss: 0.2362 - val_accuracy: 0.9054\n",
      "313/313 [==============================] - 1s 2ms/step - loss: 0.3363 - accuracy: 0.8840\n",
      "\n",
      "\n",
      "Mejor resultado de accuracy obtenido: 0.8840000033378601\n"
     ]
    }
   ],
   "source": [
    "for i in range(3):\n",
    "    model= keras.models.Sequential([\n",
    "    keras.layers.Flatten(input_shape=[len(training_images[0]), len(training_images[1])]),\n",
    "    keras.layers.Dense(128, activation=tf.nn.relu),\n",
    "    keras.layers.Dense(128, activation=tf.nn.relu),\n",
    "    keras.layers.Dense(128, activation=tf.nn.relu),\n",
    "    # keras.layers.Dense(128, activation=tf.nn.relu),\n",
    "    keras.layers.Dense(len(np.unique(training_labels)), activation=tf.nn.softmax)\n",
    "    ])\n",
    "\n",
    "    model.compile(loss=\"sparse_categorical_crossentropy\",\n",
    "                optimizer= best_optimizer_tag,\n",
    "                metrics =[\"accuracy\"])\n",
    "\n",
    "    history = model.fit(training_images, training_labels, epochs=30, batch_size=32, callbacks=[callbacks], validation_data=(X_valid, y_valid))\n",
    "\n",
    "    resultado = model.evaluate(test_images, test_labels)\n",
    "\n",
    "\n",
    "    if mejor_resultado < resultado[1]:\n",
    "        mejor_resultado = resultado[1]\n",
    "    print(\"\\n\")\n",
    "    print(\"Mejor resultado de accuracy obtenido: {}\".format(mejor_resultado))"
   ]
  },
  {
   "cell_type": "markdown",
   "metadata": {},
   "source": [
    "#### FIN DEL CUADERNO"
   ]
  }
 ],
 "metadata": {
  "colab": {
   "provenance": []
  },
  "kernelspec": {
   "display_name": "Python 3 (ipykernel)",
   "language": "python",
   "name": "python3"
  },
  "language_info": {
   "codemirror_mode": {
    "name": "ipython",
    "version": 3
   },
   "file_extension": ".py",
   "mimetype": "text/x-python",
   "name": "python",
   "nbconvert_exporter": "python",
   "pygments_lexer": "ipython3",
   "version": "3.10.6"
  }
 },
 "nbformat": 4,
 "nbformat_minor": 1
}
